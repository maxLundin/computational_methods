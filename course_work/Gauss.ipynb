{
 "cells": [
  {
   "cell_type": "code",
   "execution_count": null,
   "metadata": {},
   "outputs": [],
   "source": [
    "def gaussMethod(A, b, EPS=1e-6):\n",
    "    n = len(A)\n",
    "    m = len(A[0])\n",
    "    where = [-1 for x in range(m)]\n",
    "    col = 0\n",
    "    row = 0\n",
    "    while col<m and row<n :\n",
    "        sel = row\n",
    "        for i in range(row, n) :\n",
    "            if (abs(A[i][col]) > abs(A[sel][col])) :\n",
    "                sel = i\n",
    "        if (abs(A[sel][col]) < EPS) :\n",
    "            col += 1\n",
    "            continue\n",
    "        for i in range(col, m) :\n",
    "            A[sel][i], A[row][i] = A[row][i], A[sel][i]\n",
    "        b[sel], b[row] = b[row], b[sel]\n",
    "        where[col] = row\n",
    "        \n",
    "        for i in range(n) :\n",
    "            if i != row :\n",
    "                c = A[i][col] / A[row][col]\n",
    "                for j in range(col, m) :\n",
    "                    A[i][j] -= A[row][j] * c\n",
    "                b[i] -= b[row] * c  \n",
    "        col += 1\n",
    "        row += 1\n",
    "    ans = [0 for x in range(m)]\n",
    "    for i in range (m) :\n",
    "        if where[i] != -1 :\n",
    "            ans[i] = b[where[i]] / A[where[i]][i]\n",
    "    return ans"
   ]
  },
  {
   "cell_type": "code",
   "execution_count": null,
   "metadata": {},
   "outputs": [],
   "source": [
    "import numpy as np"
   ]
  },
  {
   "cell_type": "code",
   "execution_count": null,
   "metadata": {},
   "outputs": [],
   "source": [
    "def gradient_descent(A, b, eps=1e-7, max_iter=200000):\n",
    "    A, b = np.dot(A.T, A).astype(np.float64), np.dot(A.T, b).astype(np.float64)\n",
    "    it = 0\n",
    "    (n, m) = np.shape(A)\n",
    "    x, r, z = np.zeros(m, dtype=np.float64), np.array(b), b\n",
    "    while np.linalg.norm(np.dot(A, x) - b) > eps and it < max_iter:\n",
    "        Az, rr = np.dot(A, z), np.dot(r, r)\n",
    "        alpha = rr / np.dot(Az, z)\n",
    "        x += alpha * z\n",
    "        r -= alpha * Az\n",
    "        betta = np.dot(r, r) / rr\n",
    "        z = r + betta * z\n",
    "        it += 1\n",
    "    print(f\"Gradient Descent Iterations: {it}. Max is {max_iter} iterations.\")\n",
    "    return x"
   ]
  }
 ],
 "metadata": {
  "kernelspec": {
   "display_name": "Python 3",
   "language": "python",
   "name": "python3"
  },
  "language_info": {
   "codemirror_mode": {
    "name": "ipython",
    "version": 3
   },
   "file_extension": ".py",
   "mimetype": "text/x-python",
   "name": "python",
   "nbconvert_exporter": "python",
   "pygments_lexer": "ipython3",
   "version": "3.8.2"
  }
 },
 "nbformat": 4,
 "nbformat_minor": 4
}
