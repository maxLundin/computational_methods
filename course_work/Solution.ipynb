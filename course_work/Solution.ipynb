{
 "cells": [
  {
   "cell_type": "code",
   "execution_count": 1,
   "metadata": {},
   "outputs": [],
   "source": [
    "%run data.ipynb    # load data\n",
    "%run gauss.ipynb"
   ]
  },
  {
   "cell_type": "code",
   "execution_count": 2,
   "metadata": {},
   "outputs": [],
   "source": [
    "import math\n",
    "import sympy as sy\n",
    "from scipy.optimize import fmin\n",
    "import numpy as np"
   ]
  },
  {
   "cell_type": "code",
   "execution_count": 3,
   "metadata": {},
   "outputs": [],
   "source": [
    "def gibbs_energy_i(i_name, T):\n",
    "    x_t = T / 10000\n",
    "    data = bank_td[i_name]\n",
    "    phi = data['f1'] + data['f2'] * math.log(x_t) + data['f3'] / (x_t ** 2) + data['f4'] / x_t \\\n",
    "        + data['f5'] * x_t + data['f6'] * x_t ** 2 + data['f7'] * x_t ** 3\n",
    "    gibbs = data['H'] - phi * T\n",
    "    return gibbs\n",
    "\n",
    "def G0(name, T):\n",
    "    return gibbs_energy_i(name, T)\n",
    "\n",
    "def G(name, T, PG, P, R=8314, delta=0.01):\n",
    "    return D(name, T) * (PG[name] - P[name]) / R * T * delta"
   ]
  },
  {
   "cell_type": "markdown",
   "metadata": {},
   "source": [
    "Функция gibbs_energy_i - энергия Гиббса i-ой компоненты (из формулы 27)\n",
    "\n",
    "Функция G используется для нахождения межфазых мольных потоков активных компонент на поверхности вещества (из формулы 1)"
   ]
  },
  {
   "cell_type": "code",
   "execution_count": 4,
   "metadata": {},
   "outputs": [],
   "source": [
    "def eps(name):\n",
    "    return math.sqrt(bank_td[name]['epsil'] * bank_td['N2']['epsil'])\n",
    "\n",
    "def mu(name):\n",
    "    return 2 * bank_td[name]['mu'] * bank_td['N2']['mu'] / (bank_td[name]['mu'] + bank_td['N2']['mu'])\n",
    "\n",
    "def omega(name, T):\n",
    "    return 1.074 * ((T / eps(name)) ** (-0.1604))\n",
    "\n",
    "def sigma(name):\n",
    "    return (bank_td[name]['sigma'] + bank_td['N2']['sigma']) / 2\n",
    "\n",
    "def D(name, T):\n",
    "    bott = Pa * sigma(name) * omega(name, T) * math.sqrt(mu(name))\n",
    "    return 0.02628 * (T ** 1.5) / bott"
   ]
  },
  {
   "cell_type": "markdown",
   "metadata": {},
   "source": [
    "Функция D используется для расчета коэффициентов диффузии газообразных компонент (из формулы 29)"
   ]
  },
  {
   "cell_type": "code",
   "execution_count": 5,
   "metadata": {
    "scrolled": true
   },
   "outputs": [],
   "source": [
    "def new_zip(x, y):\n",
    "    return list(zip(x, y))\n",
    "\n",
    "def equalVector(a, b, eps):\n",
    "    return sum([(a[i] - b[i])**2 for i in range(len(a))]) < eps\n",
    "\n",
    "def mul_and_add(a, b, c):\n",
    "    return [a[i] + b[i] * c for i in range(len(a))]\n",
    "\n",
    "def minimumF(Funcs, Vars, xk, pk):\n",
    "    sumFuncs = sy.sympify(0)\n",
    "    for func in Funcs:\n",
    "        sumFuncs += func ** 2\n",
    "    sumFuncs = sy.lambdify(Vars, sumFuncs)\n",
    "    xk = np.array(xk)\n",
    "    pk = np.array(pk)\n",
    "    return lambda a : sumFuncs(*(xk + pk * a[0]))\n",
    "\n",
    "def newton_method(funcs, var, x0, eps=1e-20, ITER=150):\n",
    "    j = funcs.jacobian(var)\n",
    "    xk1 = sy.zeros(len(x0), 1)\n",
    "    xk = x0\n",
    "    iterations = 0\n",
    "    while not equalVector(xk, xk1, eps) and iterations < ITER:\n",
    "        xx = new_zip(var, xk)\n",
    "        jk = j.subs(xx)\n",
    "        fk = funcs.subs(xx)\n",
    "        dk = gaussMethod(jk.tolist(), (fk.T * -1.0).tolist()[0])\n",
    "        alpha = fmin(minimumF(funcs, var, xk, dk), [0], disp=False)[0]\n",
    "        xk1 = mul_and_add(xk, dk, alpha)\n",
    "        \n",
    "        xk, xk1 = xk1, xk\n",
    "        iterations += 1\n",
    "    print(iterations)\n",
    "    return xk"
   ]
  },
  {
   "cell_type": "markdown",
   "metadata": {},
   "source": [
    "Функция newton_method используется для решения системы нелинейных уравнений (используется \"универсальный метод\". \n",
    "\n",
    "Принимаемые параметры: funcs - правые части системы, var - переменные из системы\n",
    "\n",
    "Для нахождения вектора $\\Delta x^{k} = x^{k + 1} - x^{k}$ решается СЛАУ $J_{k}*\\Delta x^{k} = F(x^k)$ при помощи метода Гаусса.\n",
    "\n",
    "Затем находится локальный минимум функции $F(x^k + \\alpha \\Delta x^k)$, где $F(x_1, x_2, ..., x_n) = \\sum_{i=1}^{n}(f_i(x_1, x_2, ..., x_n))^2$\n",
    "\n",
    "Затем вычисляется $x_{k+1} = x_k + \\Delta x^{k}$\n",
    "\n",
    "Критерий остановки метода - по близости 2х последовательных приближений. Максимальное количество итераций = 150"
   ]
  },
  {
   "cell_type": "code",
   "execution_count": null,
   "metadata": {},
   "outputs": [],
   "source": []
  }
 ],
 "metadata": {
  "kernelspec": {
   "display_name": "Python 3",
   "language": "python",
   "name": "python3"
  },
  "language_info": {
   "codemirror_mode": {
    "name": "ipython",
    "version": 3
   },
   "file_extension": ".py",
   "mimetype": "text/x-python",
   "name": "python",
   "nbconvert_exporter": "python",
   "pygments_lexer": "ipython3",
   "version": "3.7.6"
  }
 },
 "nbformat": 4,
 "nbformat_minor": 4
}
