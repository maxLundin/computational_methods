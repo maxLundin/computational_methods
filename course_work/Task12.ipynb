{
 "cells": [
  {
   "cell_type": "markdown",
   "metadata": {},
   "source": [
    "Задания 1 и 2 аналогичны, поэтому подробно будет рассмотрено решение для галлия, а для алюминия будут приведены готовые уравнения"
   ]
  },
  {
   "cell_type": "markdown",
   "metadata": {},
   "source": [
    "Уравнения реакций на поверхности галлия:\n",
    "\n",
    "\\begin{equation*}\n",
    "    2Ga(liquid) + 2HCl \\Leftrightarrow 2GaCl + H_2\n",
    "    \\tag{R4}\n",
    "\\end{equation*}\n",
    "\n",
    "\\begin{equation*}\n",
    "    Ga(liquid) + 2HCl \\Leftrightarrow GaCl_2 + H_2\n",
    "    \\tag{R5}\n",
    "\\end{equation*}\n",
    "\n",
    "\\begin{equation*}\n",
    "    2Ga(liquid) + 6HCl \\Leftrightarrow 2GaCl_3 + 3H_2\n",
    "    \\tag{R6}\n",
    "\\end{equation*}\n",
    "\n",
    "Уравнения реакций с Al полностью аналогичные, следовательно, законы действующих масс и константы равновесия реакций считаются по тем же формулам, только вместо Ga стоит Al"
   ]
  },
  {
   "cell_type": "markdown",
   "metadata": {},
   "source": [
    "Выпишем законы действующих масс для уравнений $(R4)-(R6)$:\n",
    "\n",
    "\\begin{equation*}\n",
    "    \\left(P^e_{HCl}\\right)^2 = K_4 \\left( P^e_{GaCl} \\right)^2 P^e_{H_2}\n",
    "    \\tag{8}\n",
    "\\end{equation*}\n",
    "\n",
    "\\begin{equation*}\n",
    "    \\left(P^e_{HCl}\\right)^2 = K_5 P^e_{GaCl_2} P^e_{H_2}\n",
    "    \\tag{9}\n",
    "\\end{equation*}\n",
    "\n",
    "\\begin{equation*}\n",
    "    \\left(P^e_{HCl}\\right)^6 = K_6 \\left( P^e_{GaCl_3} \\right)^2 \\left( P^e_{H_2} \\right)^3\n",
    "    \\tag{10}\n",
    "\\end{equation*}"
   ]
  },
  {
   "cell_type": "markdown",
   "metadata": {},
   "source": [
    "Отсюда\n",
    "\n",
    "$$K_4 = \\frac{\\left(P^e_{HCl}\\right)^2}{\\left( P^e_{GaCl} \\right)^2 P^e_{H_2}}$$\n",
    "$$K_5 = \\frac{\\left(P^e_{HCl}\\right)^2}{P^e_{GaCl_2} P^e_{H_2}}$$\n",
    "$$K_6 = \\frac{\\left(P^e_{HCl}\\right)^6}{\\left( P^e_{GaCl_3} \\right)^2 \\left( P^e_{H_2} \\right)^3}$$"
   ]
  },
  {
   "cell_type": "markdown",
   "metadata": {},
   "source": [
    "Применим правило Гиббса для уравнений $(R4)-(R6)$:\n",
    "\n",
    "\\begin{equation*}\n",
    "    2 G^0_{Ga}(T) + 2 \\left[ G^0_{HCl}(T) + RT\\ln\\frac{P^e_{HCl}}{P_A} \\right] = \n",
    "    2 \\left[ G^0_{GaCl}(T) + RT\\ln\\frac{P^e_{GaCl}}{P_A} \\right] + \\left[ G^0_{H_2}(T) + RT\\ln\\frac{P^e_{H_2}}{P_A} \\right]\n",
    "    \\tag{G4}\n",
    "\\end{equation*}\n",
    "\n",
    "\\begin{equation*}\n",
    "    G^0_{Ga}(T) + 2 \\left[ G^0_{HCl}(T) + RT\\ln\\frac{P^e_{HCl}}{P_A} \\right] = \n",
    "    \\left[ G^0_{GaCl_2}(T) + RT\\ln\\frac{P^e_{GaCl_2}}{P_A} \\right] + \\left[ G^0_{H_2}(T) + RT\\ln\\frac{P^e_{H_2}}{P_A} \\right]\n",
    "    \\tag{G5}\n",
    "\\end{equation*}\n",
    "\n",
    "\\begin{equation*}\n",
    "    2 G^0_{Ga}(T) + 6 \\left[ G^0_{HCl}(T) + RT\\ln\\frac{P^e_{HCl}}{P_A} \\right] = \n",
    "    2 \\left[ G^0_{GaCl_3}(T) + RT\\ln\\frac{P^e_{GaCl_3}}{P_A} \\right] + 3 \\left[ G^0_{H_2}(T) + RT\\ln\\frac{P^e_{H_2}}{P_A} \\right]\n",
    "    \\tag{G6}\n",
    "\\end{equation*}"
   ]
  },
  {
   "cell_type": "markdown",
   "metadata": {},
   "source": [
    "Преобразуем и подставляем константы равновесия реакций $K_i$\n",
    "\n",
    "\\begin{equation*}\n",
    "    \\Delta G_4 = \n",
    "    2 G^0_{Ga}(T) + 2 G^0_{HCl}(T) - 2 G^0_{GaCl}(T) - G^0_{H_2}(T) = \n",
    "    RT\\ln\\frac{(P^e_{GaCl})^2 P^e_{H_2}}{(P^e_{HCl})^2 P_A} = \n",
    "    -RT\\ln\\left(K_4 P_A \\right)\n",
    "\\end{equation*}\n",
    "\n",
    "\\begin{equation*}\n",
    "    \\Delta G_5 = \n",
    "    G^0_{Ga}(T) + 2 G^0_{HCl}(T) - G^0_{GaCl_2}(T) - G^0_{H_2}(T) = \n",
    "    RT\\ln\\frac{P^e_{GaCl_2} P^e_{H_2}}{(P^e_{HCl})^2} = \n",
    "    -RT\\ln\\left(K_5 \\right)\n",
    "\\end{equation*}\n",
    "\n",
    "\\begin{equation*}\n",
    "    \\Delta G_6 = \n",
    "    2 G^0_{Ga}(T) + 6 G^0_{HCl}(T) - 2 G^0_{GaCl_3}(T) - 3 G^0_{H_2}(T) = \n",
    "    RT\\ln\\frac{\\left( P^e_{GaCl_3} \\right)^2 \\left( P^e_{H_2} \\right)^3}{\\left(P^e_{HCl}\\right)^6 P_A}\n",
    "    -RT\\ln\\left(K_6 P_A\\right)\n",
    "\\end{equation*}"
   ]
  },
  {
   "cell_type": "markdown",
   "metadata": {},
   "source": [
    "Находим константы равновесия реакций:\n",
    "\n",
    "\\begin{equation*}\n",
    "    K_4(T) = \\frac{\\exp{\\frac{-\\Delta G_4(T)}{RT}}}{P_A}\n",
    "\\end{equation*}\n",
    "\n",
    "\\begin{equation*}\n",
    "    K_5(T) = \\exp{\\frac{-\\Delta G_5(T)}{RT}}\n",
    "\\end{equation*}\n",
    "\n",
    "\\begin{equation*}\n",
    "    K_6(T) = \\frac{\\exp{\\frac{-\\Delta G_6(T)}{RT}}}{P_A}\n",
    "\\end{equation*}"
   ]
  },
  {
   "cell_type": "markdown",
   "metadata": {},
   "source": [
    "Выпишем систему уравнений для нахождения давлений \n",
    "$P^e_{GaCl}$, $P^e_{GaCl_2}$, $P^e_{GaCl_3}$, $P^e_{HCl}$ и $P^e_{H_2}$ (система для Al так же полностью аналогична выписанной):\n",
    "\n",
    "\\begin{equation*}\n",
    "    \\left\\{\n",
    "        \\begin{array}{l}\n",
    "            \\left(P^e_{HCl}\\right)^2 = K_4 \\left( P^e_{GaCl} \\right)^2 P^e_{H_2} \\\\\n",
    "            \\left(P^e_{HCl}\\right)^2 = K_5 P^e_{GaCl_2} P^e_{H_2} \\\\\n",
    "            \\left(P^e_{HCl}\\right)^6 = K_6 \\left( P^e_{GaCl_3} \\right)^2 \\left( P^e_{H_2} \\right)^3 \\\\\n",
    "            D_{HCl}\\left(P^g_{HCl} - P^e_{HCl}\\right) + 2D_{H_2}\\left(P^g_{H_2} - P^e_{H_2}\\right) = 0 \\\\\n",
    "            D_{GaCl}\\left(P^g_{GaCl} - P^e_{GaCl}\\right) + 2D_{GaCl_2}\\left(P^g_{GaCl_2} - P^e_{GaCl_2}\\right) \n",
    "            + 3D_{GaCl_3}\\left(P^g_{GaCl_3} - P^e_{GaCl_3}\\right) + D_{HCl}\\left(P^g_{HCl} - P^e_{HCl}\\right) = 0\n",
    "        \\end{array}\n",
    "    \\right.\n",
    "\\end{equation*}"
   ]
  },
  {
   "cell_type": "markdown",
   "metadata": {},
   "source": [
    "$P^e_{HCl}$ и $P^e_{H_2}$ далее нас не интересуют. Избавимся от них:\n",
    "\n",
    "\\begin{equation*}\n",
    "    \\left\\{\n",
    "        \\begin{array}{l}\n",
    "            K_5 P^e_{GaCl_2} = K_4 \\left( P^e_{GaCl} \\right)^2 \\\\\n",
    "            \\left(P^e_{HCl}\\right)^2 = K_5 P^e_{GaCl_2} P^e_{H_2} \\\\\n",
    "            \\left(K_5 P^e_{GaCl_2} \\right)^3 = K_6 \\left( P^e_{GaCl_3} \\right)^2 \\\\\n",
    "            2D_{H_2}\\left(P^g_{H_2} - P^e_{H_2}\\right) = D_{GaCl}\\left(P^g_{GaCl} - P^e_{GaCl}\\right) \n",
    "            + 2D_{GaCl_2}\\left(P^g_{GaCl_2} - P^e_{GaCl_2}\\right) + 3D_{GaCl_3}\\left(P^g_{GaCl_3} - P^e_{GaCl_3}\\right) \\\\\n",
    "            D_{HCl}\\left(P^g_{HCl} - P^e_{HCl}\\right) = -D_{GaCl}\\left(P^g_{GaCl} - P^e_{GaCl}\\right) \n",
    "            - 2D_{GaCl_2}\\left(P^g_{GaCl_2} - P^e_{GaCl_2}\\right) - 3D_{GaCl_3}\\left(P^g_{GaCl_3} - P^e_{GaCl_3}\\right)\n",
    "        \\end{array}\n",
    "    \\right.\n",
    "\\end{equation*}"
   ]
  },
  {
   "cell_type": "markdown",
   "metadata": {},
   "source": [
    "Пусть $S = D_{GaCl}\\left(P^g_{GaCl} + P^e_{GaCl}\\right) \n",
    "         + 2D_{GaCl_2}\\left(P^g_{GaCl_2} - P^e_{GaCl_2}\\right) \n",
    "         + 3D_{GaCl_3}\\left(P^g_{GaCl_3} - P^e_{GaCl_3}\\right)$\n",
    "\n",
    "\n",
    "\\begin{equation*}\n",
    "    \\left\\{\n",
    "        \\begin{array}{l}\n",
    "            K_5 P^e_{GaCl_2} = K_4 \\left( P^e_{GaCl} \\right)^2 \\\\\n",
    "            \\left(P^e_{HCl}\\right)^2 = K_5 P^e_{GaCl_2} P^e_{H_2} \\\\\n",
    "            \\left(K_5 P^e_{GaCl_2} \\right)^3 = K_6 \\left( P^e_{GaCl_3} \\right)^2 \\\\\n",
    "            2D_{H_2}\\left(P^g_{H_2} - P^e_{H_2}\\right) = S \\\\\n",
    "            D_{HCl}\\left(P^g_{HCl} - P^e_{HCl}\\right) = -S\n",
    "        \\end{array}\n",
    "    \\right.\n",
    "\\end{equation*}\n",
    "\n",
    "\n",
    "\n",
    "\\begin{equation*}\n",
    "    \\left\\{\n",
    "        \\begin{array}{l}\n",
    "            K_5 P^e_{GaCl_2} = K_4 \\left( P^e_{GaCl} \\right)^2 \\\\\n",
    "            \\left(P^e_{HCl}\\right)^2 = K_5 P^e_{GaCl_2} P^e_{H_2} \\\\\n",
    "            \\left(K_5 P^e_{GaCl_2} \\right)^3 = K_6 \\left( P^e_{GaCl_3} \\right)^2 \\\\\n",
    "            P^e_{H_2} = P^g_{H_2} - \\frac{S}{2D_{H_2}} \\\\\n",
    "            P^e_{HCl} = P^g_{HCl} + \\frac{S}{D_{HCl}}\n",
    "        \\end{array}\n",
    "    \\right.\n",
    "\\end{equation*}"
   ]
  },
  {
   "cell_type": "markdown",
   "metadata": {},
   "source": [
    "\\begin{equation*}\n",
    "    \\left\\{\n",
    "        \\begin{array}{l}\n",
    "            K_5 P^e_{GaCl_2} = K_4 \\left( P^e_{GaCl} \\right)^2 \\\\\n",
    "            \\left( P^g_{HCl} + \\frac{S}{D_{HCl}} \\right)^2 = K_5 P^e_{GaCl_2} \\left( P^g_{H_2} - \\frac{S}{2D_{H_2}} \\right) \\\\\n",
    "            \\left(K_5 P^e_{GaCl_2} \\right)^3 = K_6 \\left( P^e_{GaCl_3} \\right)^2\n",
    "        \\end{array}\n",
    "    \\right.\n",
    "\\end{equation*}"
   ]
  },
  {
   "cell_type": "markdown",
   "metadata": {},
   "source": [
    "\\begin{equation*}\n",
    "    \\left\\{\n",
    "        \\begin{array}{l}\n",
    "            K_5 P^e_{GaCl_2} = K_4 \\left( P^e_{GaCl} \\right)^2 \\\\\n",
    "            \\left(K_5 P^e_{GaCl_2} \\right)^3 = K_6 \\left( P^e_{GaCl_3} \\right)^2 \\\\\n",
    "            2D_{H_2}\n",
    "            \\left(\n",
    "                D_{HCl} P^g_{HCl} + S\n",
    "            \\right)^2 = \n",
    "            K_5 P^e_{GaCl_2} D_{HCl}^2\n",
    "            \\left( \n",
    "                2D_{H_2} P^g_{H_2} - S\n",
    "            \\right)\n",
    "        \\end{array}\n",
    "    \\right.\n",
    "\\end{equation*}"
   ]
  },
  {
   "cell_type": "markdown",
   "metadata": {},
   "source": [
    "Для более быстого решения системы преобразуем её в уравнение с одной неизвестной с помощью подстановок"
   ]
  },
  {
   "cell_type": "markdown",
   "metadata": {},
   "source": [
    "\\begin{equation*}\n",
    "    \\left\\{\n",
    "        \\begin{array}{l}\n",
    "            P^e_{GaCl_2} = \\frac{K_4 \\left( P^e_{GaCl} \\right)^2}{K_5} \\\\\n",
    "            \\left( P^g_{HCl} + \\frac{S}{D_{HCl}} \\right)^2 = K_4 \\left( P^e_{GaCl} \\right)^2 \\left( P^g_{H_2} - \\frac{S}{2D_{H_2}} \\right) \\\\\n",
    "            \\left(K_4 \\left( P^e_{GaCl} \\right)^2 \\right)^3 = K_6 \\left( P^e_{GaCl_3} \\right)^2\n",
    "        \\end{array}\n",
    "    \\right.\n",
    "\\end{equation*}"
   ]
  },
  {
   "cell_type": "markdown",
   "metadata": {},
   "source": [
    "\\begin{equation*}\n",
    "    \\left\\{\n",
    "        \\begin{array}{l}\n",
    "            S = D_{GaCl}\\left(P^g_{GaCl} + P^e_{GaCl}\\right) \n",
    "             + 2D_{GaCl_2}\\left(P^g_{GaCl_2} - \\frac{K_4 \\left( P^e_{GaCl} \\right)^2}{K_5}\\right) \n",
    "             + 3D_{GaCl_3}\\left(P^g_{GaCl_3} - P^e_{GaCl_3}\\right) \\\\\n",
    "            \\left( P^g_{HCl} + \\frac{S}{D_{HCl}} \\right)^2 = K_4 \\left( P^e_{GaCl} \\right)^2 \\left( P^g_{H_2} - \\frac{S}{2D_{H_2}} \\right) \\\\\n",
    "            \\left(K_4 \\left( P^e_{GaCl} \\right)^2 \\right)^3 = K_6 \\left( P^e_{GaCl_3} \\right)^2\n",
    "        \\end{array}\n",
    "    \\right.\n",
    "\\end{equation*}"
   ]
  },
  {
   "cell_type": "markdown",
   "metadata": {},
   "source": [
    "\\begin{equation*}\n",
    "    \\left\\{\n",
    "        \\begin{array}{l}\n",
    "            S = D_{GaCl}\\left(P^g_{GaCl} + P^e_{GaCl}\\right) \n",
    "             + 2D_{GaCl_2}\\left(P^g_{GaCl_2} - \\frac{K_4 \\left( P^e_{GaCl} \\right)^2}{K_5}\\right) \n",
    "             + 3D_{GaCl_3}\\left(P^g_{GaCl_3} - \\sqrt{\\frac{\\left(K_4 \\left( P^e_{GaCl} \\right)^2 \\right)^3}{K_6}}\\right) \\\\\n",
    "            \\left( P^g_{HCl} + \\frac{S}{D_{HCl}} \\right)^2 = K_4 \\left( P^e_{GaCl} \\right)^2 \\left( P^g_{H_2} - \\frac{S}{2D_{H_2}} \\right) \\\\\n",
    "             P^e_{GaCl_3} = \\left( P^e_{GaCl} \\right)^3\\sqrt{\\frac{\\left(K_4 \\right)^3}{K_6}} \n",
    "        \\end{array}\n",
    "    \\right.\n",
    "\\end{equation*}"
   ]
  },
  {
   "cell_type": "markdown",
   "metadata": {},
   "source": [
    "В итоге получаем уравнение 6-ой степени с одной неизвестной $P^e_{GaCl}$:"
   ]
  },
  {
   "cell_type": "markdown",
   "metadata": {},
   "source": [
    "\\begin{equation*}\n",
    "    \\left\\{\n",
    "        \\begin{array}{l}\n",
    "            P^e_{GaCl_2} = \\frac{K_4 \\left( P^e_{GaCl} \\right)^2}{K_5} \\\\\n",
    "             P^e_{GaCl_3} = \\left( P^e_{GaCl} \\right)^3\\sqrt{\\frac{\\left(K_4 \\right)^3}{K_6}} \\\\\n",
    "            S = D_{GaCl}\\left(P^g_{GaCl} + P^e_{GaCl}\\right) \n",
    "             + 2D_{GaCl_2}\\left(P^g_{GaCl_2} - \\frac{K_4 \\left( P^e_{GaCl} \\right)^2}{K_5}\\right) \n",
    "             + 3D_{GaCl_3}\\left(P^g_{GaCl_3} - \\left( P^e_{GaCl} \\right)^3\\sqrt{\\frac{\\left(K_4 \\right)^3}{K_6}}\\right) \\\\\n",
    "            2D_{H_2} \\left( D_{HCl} P^g_{HCl} + S \\right)^2 \n",
    "            = K_4 \\left( P^e_{GaCl} \\right)^2 D_{HCl}^2 \\left( 2D_{H_2} P^g_{H_2} - S \\right) \n",
    "        \\end{array}\n",
    "    \\right.\n",
    "\\end{equation*}"
   ]
  },
  {
   "cell_type": "markdown",
   "metadata": {},
   "source": [
    "Так как для алюминия все выкладки будут аналогичны, можно написать обобщённое уравнение.\n",
    "\n",
    "Пусть $\\Delta G^{Al}_1 = \\Delta G_1$, $\\Delta G^{Al}_2 = \\Delta G_2$, $\\Delta G^{Al}_3 = \\Delta G_3$\n",
    "\n",
    "Пусть $\\Delta G^{Ga}_1 = \\Delta G_4$, $\\Delta G^{Ga}_2 = \\Delta G_5$, $\\Delta G^{Ga}_3 = \\Delta G_6$\n",
    "\n",
    "Пусть $K^{Al}_1 = K_1$, $K^{Al}_2 = K_2$, $K^{Al}_3 =  K_3$\n",
    "\n",
    "Пусть $K^{Ga}_1 = K_4$, $K^{Ga}_2 = K_5$, $K^{Ga}_3 = K_6$"
   ]
  },
  {
   "cell_type": "markdown",
   "metadata": {},
   "source": [
    "\\begin{equation*}\n",
    "    \\left\\{\n",
    "        \\begin{array}{l}\n",
    "            P^e_{ElCl_2} = \\frac{K^{El}_1 \\left( P^e_{ElCl} \\right)^2}{K^{El}_2} \\\\\n",
    "             P^e_{ElCl_3} = \\left( P^e_{ElCl} \\right)^3\\sqrt{\\frac{\\left(K^{El}_1 \\right)^3}{K^{El}_3}} \\\\\n",
    "            S = D_{ElCl}\\left(P^g_{ElCl} + P^e_{ElCl}\\right) \n",
    "             + 2D_{ElCl_2}\\left(P^g_{ElCl_2} - \\frac{K^{El}_1 \\left( P^e_{ElCl} \\right)^2}{K^{El}_2}\\right) \n",
    "             + 3D_{ElCl_3}\\left(P^g_{ElCl_3} - \\left( P^e_{ElCl} \\right)^3\\sqrt{\\frac{\\left(K^{El}_1 \\right)^3}{K^{El}_3}}\\right) \\\\\n",
    "            2D_{H_2} \\left( D_{HCl} P^g_{HCl} + S \\right)^2 \n",
    "            = K^{El}_1 \\left( P^e_{ElCl} \\right)^2 D_{HCl}^2 \\left( 2D_{H_2} P^g_{H_2} - S \\right) \n",
    "        \\end{array}\n",
    "    \\right.\n",
    "\\end{equation*}\n",
    "\n",
    "где $El = Al$ или $El = Ga$"
   ]
  },
  {
   "cell_type": "markdown",
   "metadata": {},
   "source": [
    "Полученная система нелинейных уравнений решалась \"универсальным методом\", который имеет гораздо меньшую чувствительность сходимости к выбору начального приближения, чем классический метод Ньютона. Реализация данного метода приведена в функции newton_method"
   ]
  },
  {
   "cell_type": "code",
   "execution_count": 1,
   "metadata": {},
   "outputs": [
    {
     "data": {
      "text/plain": [
       "<Figure size 640x480 with 1 Axes>"
      ]
     },
     "metadata": {},
     "output_type": "display_data"
    }
   ],
   "source": [
    "%run Solution.ipynb\n",
    "%run ArrheniusDiagram.ipynb"
   ]
  },
  {
   "cell_type": "code",
   "execution_count": 2,
   "metadata": {},
   "outputs": [],
   "source": [
    "Pa = 100000\n",
    "R = 8.314\n",
    "\n",
    "Delta_G = {\n",
    "    'Al' : {\n",
    "        1 : lambda T : 2 * G0('Al', T) + 2 * G0('HCl', T) - 2 * G0('AlCl', T) - G0('H2', T),\n",
    "        2 : lambda T : G0('Al', T) + 2 * G0('HCl', T) - G0('AlCl2', T) - G0('H2', T),\n",
    "        3 : lambda T : 2 * G0('Al', T) + 6 * G0('HCl', T) - 2 * G0('AlCl3', T) - 3 * G0('H2', T)\n",
    "    },\n",
    "    'Ga' : {\n",
    "        1 : lambda T : 2 * G0('Ga', T) + 2 * G0('HCl', T) - 2 * G0('GaCl', T) - G0('H2', T),\n",
    "        2 : lambda T : G0('Ga', T) + 2 * G0('HCl', T) - G0('GaCl2', T) - G0('H2', T),\n",
    "        3 : lambda T : 2 * G0('Ga', T) + 6 * G0('HCl', T) - 2 * G0('GaCl3', T) - 3 * G0('H2', T)\n",
    "    }\n",
    "}\n",
    "\n",
    "K = {\n",
    "    'Al' : {\n",
    "        1 : lambda T : math.exp(-1 * Delta_G['Al'][1](T) / (R * T)) / Pa,\n",
    "        2 : lambda T : math.exp(-1 * Delta_G['Al'][2](T) / (R * T)),\n",
    "        3 : lambda T : math.exp(-1 * Delta_G['Al'][3](T) / (R * T)) / Pa\n",
    "    },\n",
    "    'Ga' : {\n",
    "        1 : lambda T : math.exp(-1 * Delta_G['Ga'][1](T) / (R * T)) / Pa,\n",
    "        2 : lambda T : math.exp(-1 * Delta_G['Ga'][2](T) / (R * T)),\n",
    "        3 : lambda T : math.exp(-1 * Delta_G['Ga'][3](T) / (R * T)) / Pa\n",
    "    }\n",
    "}"
   ]
  },
  {
   "cell_type": "code",
   "execution_count": 3,
   "metadata": {},
   "outputs": [],
   "source": [
    "Pg = {\n",
    "    f'AlCl' : 0,\n",
    "    f'AlCl2': 0, \n",
    "    f'AlCl3': 0,\n",
    "    f'GaCl' : 0,\n",
    "    f'GaCl2': 0, \n",
    "    f'GaCl3': 0,\n",
    "    'H2'    : 0,\n",
    "    'HCl'   : 10000,\n",
    "    'N2'    : 90000\n",
    "}\n",
    "\n",
    "def findPe(T, El): \n",
    "    Pe_ElCl  = sy.symbols(f'P^e_{El}Cl')\n",
    "    D_ElCl   = D(f'{El}Cl', T)\n",
    "    D_ElCl2  = D(f'{El}Cl2', T)\n",
    "    D_ElCl3  = D(f'{El}Cl3', T)\n",
    "    D_H2     = D('H2', T)\n",
    "    D_HCl    = D('HCl', T)\n",
    "    Pg_ElCl  = Pg[f'{El}Cl']\n",
    "    Pg_ElCl2 = Pg[f'{El}Cl2']\n",
    "    Pg_ElCl3 = Pg[f'{El}Cl3']\n",
    "    Pg_H2    = Pg['H2']\n",
    "    Pg_HCl   = Pg['HCl']\n",
    "    \n",
    "    Pe_ElCl2 = K[El][1](T) * Pe_ElCl**2 / K[El][2](T)\n",
    "    Pe_ElCl3 = Pe_ElCl**3 * K[El][1](T)**(3/2) * K[El][3](T)**(-1/2)\n",
    "    \n",
    "    S = D_ElCl * (Pg_ElCl - Pe_ElCl) + 2*D_ElCl2*(Pg_ElCl2 - Pe_ElCl2) + 3*D_ElCl3*(Pg_ElCl3 - Pe_ElCl3)\n",
    "    \n",
    "    equation = sy.Matrix([(Pg_HCl + S / D_HCl)**2 - K[El][1](T) * Pe_ElCl**2 * (Pg_H2 - S / (2*D_H2))])\n",
    "    ans = newton_method(equation * (10 ** 10), [Pe_ElCl], [1])\n",
    "    \n",
    "    return {\n",
    "        f'{El}Cl' : ans[0], \n",
    "        f'{El}Cl2': Pe_ElCl2.subs(Pe_ElCl, ans[0]), \n",
    "        f'{El}Cl3': Pe_ElCl3.subs(Pe_ElCl, ans[0])\n",
    "    }\n",
    "\n",
    "    \n",
    "def getGV(El):\n",
    "    def GV(T):\n",
    "        Pe = findPe(T, El)\n",
    "        G_ElCl  = G(f'{El}Cl', T, Pg, Pe)\n",
    "        G_ElCl2 = G(f'{El}Cl2', T, Pg, Pe)\n",
    "        G_ElCl3 = G(f'{El}Cl3', T, Pg, Pe)\n",
    "        V = (G_ElCl + G_ElCl2 + G_ElCl3) * bank_td[El]['mu'] * 1e9 / bank_td[El]['ro']\n",
    "        return [G_ElCl, G_ElCl2, G_ElCl3, V]\n",
    "    return GV"
   ]
  },
  {
   "cell_type": "code",
   "execution_count": 4,
   "metadata": {},
   "outputs": [],
   "source": [
    "import matplotlib.pyplot as plt\n",
    "\n",
    "def arrheniusDiagram(Ts, res):\n",
    "    return [math.log(abs(res[i])) - 1/(Ts[i]) for i in range(len(Ts))]\n",
    "\n",
    "def drawGraphics(El, ts, tf, elems = 10):\n",
    "    ABS_ZERO = -273.15\n",
    "    Ts = np.linspace(ts - ABS_ZERO, tf - ABS_ZERO, num=elems)\n",
    "    res_G_ElCl, res_G_ElCl2, res_G_ElCl3, res_V = list(map(list, zip(*map(getGV(El), Ts))))\n",
    "    arrheniusDiagram_G_ElCl  = arrheniusDiagram(Ts, res_G_ElCl)\n",
    "    arrheniusDiagram_G_ElCl2 = arrheniusDiagram(Ts, res_G_ElCl2)\n",
    "    arrheniusDiagram_G_ElCl3 = arrheniusDiagram(Ts, res_G_ElCl3)\n",
    "    arrheniusDiagram_V       = arrheniusDiagram(Ts, res_V)\n",
    "    Ts += ABS_ZERO\n",
    "    print(f\"Диаграммы Аррениуса для межфазных мольных потоков {El}-содержащих компонент:\")\n",
    "    plt.figure(figsize=(15,5))\n",
    "    plt.plot(Ts, arrheniusDiagram_G_ElCl)\n",
    "    plt.plot(Ts, arrheniusDiagram_G_ElCl2)\n",
    "    plt.plot(Ts, arrheniusDiagram_G_ElCl3)\n",
    "    plt.legend(['$G_{'+El+'Cl}$', '$G_{'+El+'Cl_2}$', '$G_{'+El+'Cl_3}$'], fontsize=15)\n",
    "    plt.xlabel(\"Температура (C°)\")\n",
    "    plt.show()\n",
    "    print(f\"Диаграмма Аррениуса для скорости испарения источника {El}:\")\n",
    "    plt.figure(figsize=(15,5))\n",
    "    plt.plot(Ts, arrheniusDiagram_V)\n",
    "    plt.xlabel(\"Температура (C°)\")\n",
    "    plt.show()"
   ]
  },
  {
   "cell_type": "markdown",
   "metadata": {},
   "source": [
    "При подсчетах было учтено замечание о том, что входные температурные данные приведены в C°, а в формулах - в K°."
   ]
  },
  {
   "cell_type": "code",
   "execution_count": 5,
   "metadata": {
    "scrolled": false
   },
   "outputs": [
    {
     "name": "stdout",
     "output_type": "stream",
     "text": [
      "Диаграммы Аррениуса для межфазных мольных потоков Al-содержащих компонент:\n"
     ]
    },
    {
     "data": {
      "image/png": "[encoded data removed]",
      "text/plain": [
       "<Figure size 1080x360 with 1 Axes>"
      ]
     },
     "metadata": {
      "needs_background": "light"
     },
     "output_type": "display_data"
    },
    {
     "name": "stdout",
     "output_type": "stream",
     "text": [
      "Диаграмма Аррениуса для скорости испарения источника Al:\n"
     ]
    },
    {
     "data": {
      "image/png": "[encoded data removed]",
      "text/plain": [
       "<Figure size 1080x360 with 1 Axes>"
      ]
     },
     "metadata": {
      "needs_background": "light"
     },
     "output_type": "display_data"
    }
   ],
   "source": [
    "drawGraphics(\"Al\", 350, 650)"
   ]
  },
  {
   "cell_type": "code",
   "execution_count": 6,
   "metadata": {},
   "outputs": [
    {
     "name": "stdout",
     "output_type": "stream",
     "text": [
      "Диаграммы Аррениуса для межфазных мольных потоков Ga-содержащих компонент:\n"
     ]
    },
    {
     "data": {
      "image/png": "[encoded data removed]",
      "text/plain": [
       "<Figure size 1080x360 with 1 Axes>"
      ]
     },
     "metadata": {
      "needs_background": "light"
     },
     "output_type": "display_data"
    },
    {
     "name": "stdout",
     "output_type": "stream",
     "text": [
      "Диаграмма Аррениуса для скорости испарения источника Ga:\n"
     ]
    },
    {
     "data": {
      "image/png": "[encoded data removed]",
      "text/plain": [
       "<Figure size 1080x360 with 1 Axes>"
      ]
     },
     "metadata": {
      "needs_background": "light"
     },
     "output_type": "display_data"
    }
   ],
   "source": [
    "drawGraphics(\"Ga\", 650, 950)"
   ]
  },
  {
   "cell_type": "markdown",
   "metadata": {},
   "source": [
    "Из приведенных диаграмм наглядно видно, что межфазные потоки $AlCl_3$ и $GaCl$ больше, чем межфазные потоки других компонент, следовательно можно сделать вывод, что $AlCl_3$ и $GaCl$ являются преобладающими компонентами, выходящими из источника"
   ]
  }
 ],
 "metadata": {
  "kernelspec": {
   "display_name": "Python 3",
   "language": "python",
   "name": "python3"
  },
  "language_info": {
   "codemirror_mode": {
    "name": "ipython",
    "version": 3
   },
   "file_extension": ".py",
   "mimetype": "text/x-python",
   "name": "python",
   "nbconvert_exporter": "python",
   "pygments_lexer": "ipython3",
   "version": "3.6.9"
  }
 },
 "nbformat": 4,
 "nbformat_minor": 4
}
