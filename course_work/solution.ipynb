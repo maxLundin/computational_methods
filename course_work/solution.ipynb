{
 "cells": [
  {
   "cell_type": "code",
   "execution_count": 1,
   "metadata": {},
   "outputs": [],
   "source": [
    "%run data.ipynb    # load data"
   ]
  },
  {
   "cell_type": "code",
   "execution_count": 2,
   "metadata": {},
   "outputs": [],
   "source": [
    "import math"
   ]
  },
  {
   "cell_type": "code",
   "execution_count": 3,
   "metadata": {},
   "outputs": [],
   "source": [
    "def gibbs_energy_i(i_name, T):\n",
    "    x_t = T / 10000\n",
    "    data = bank_td[i_name]\n",
    "    phi = data['f1'] + data['f2'] * math.log(x_t) + data['f3'] / (x_t ** 2) + data['f4'] / x_t \\\n",
    "        + data['f5'] * x_t + data['f6'] * x_t ** 2 + data['f7'] * x_t ** 3\n",
    "    gibbs = data['H'] - phi * T\n",
    "    return gibbs\n",
    "\n",
    "def G0(name, T):\n",
    "    return gibbs_energy_i(name, T)"
   ]
  },
  {
   "cell_type": "code",
   "execution_count": 4,
   "metadata": {},
   "outputs": [],
   "source": [
    "def calculate_delta_r1(T):\n",
    "    return 2 * G0('Al', T) + 2 * G0('HCl', T) - 2 * G0('AlCl', T) - G0('H2', T)\n",
    "\n",
    "def calculate_delta_r2(T):\n",
    "    return G0('Al', T) + 2 * G0('HCl', T) - G0('AlCl2', T) - G0('H2', T)\n",
    "\n",
    "def calculate_delta_r3(T):\n",
    "    return 2 * G0('Al', T) + 6 * G0('HCl', T) - 2 * G0('AlCl3', T) - 3 * G0('H2', T)"
   ]
  },
  {
   "cell_type": "code",
   "execution_count": 5,
   "metadata": {},
   "outputs": [],
   "source": [
    "Pa = 100000\n",
    "\n",
    "def K1(T, R = 8.314):\n",
    "    return math.exp(-1 * calculate_delta_r1(T) / (R * T)) / Pa\n",
    "\n",
    "def K2(T, R = 8.314):\n",
    "    return math.exp(-1 * calculate_delta_r2(T) / (R * T))\n",
    "\n",
    "def K3(T, R = 8.314):\n",
    "    return math.exp(-1 * calculate_delta_r3(T) / (R * T)) / Pa\n",
    "\n"
   ]
  },
  {
   "cell_type": "code",
   "execution_count": 6,
   "metadata": {},
   "outputs": [],
   "source": [
    "def eps(name):\n",
    "    return math.sqrt(bank_td[name]['epsil'] * bank_td['N2']['epsil'])\n",
    "\n",
    "def mu(name):\n",
    "    return 2 * bank_td[name]['mu'] * bank_td['N2']['mu'] / (bank_td[name]['mu'] + bank_td['N2']['mu'])\n",
    "\n",
    "def omega(name, T):\n",
    "    return 1.074 * ((T / eps(name)) ** (-0.1604))\n",
    "\n",
    "def sigma(name):\n",
    "    return (bank_td[name]['sigma'] + bank_td['N2']['sigma']) / 2\n",
    "\n",
    "def calculate_D(name, T):\n",
    "    bott = Pa * sigma(name) * omega(name, T) * math.sqrt(mu(name))\n",
    "    return 0.02628 * (T ** 1.5) / bott"
   ]
  },
  {
   "cell_type": "code",
   "execution_count": 7,
   "metadata": {},
   "outputs": [
    {
     "name": "stdout",
     "output_type": "stream",
     "text": [
      "7.497131271125371e-07\n",
      "7.221267004644182e-08\n",
      "4.062199476332757e-49\n"
     ]
    }
   ],
   "source": [
    "T = 623.15\n",
    "print(K1(T))\n",
    "print(K2(T))\n",
    "print(K3(T))"
   ]
  },
  {
   "cell_type": "code",
   "execution_count": 8,
   "metadata": {},
   "outputs": [
    {
     "name": "stdout",
     "output_type": "stream",
     "text": [
      "0.000191129931554728\n",
      "0.00014747988098603198\n",
      "0.00015245155020045148\n",
      "0.0002736394738546893\n",
      "0.0008762807050502889\n"
     ]
    }
   ],
   "source": [
    "print(calculate_D('AlCl', T))\n",
    "print(calculate_D('AlCl2', T))\n",
    "print(calculate_D('AlCl3', T))\n",
    "print(calculate_D('HCl', T))\n",
    "print(calculate_D('H2', T))"
   ]
  },
  {
   "cell_type": "code",
   "execution_count": null,
   "metadata": {},
   "outputs": [],
   "source": []
  },
  {
   "cell_type": "code",
   "execution_count": null,
   "metadata": {},
   "outputs": [],
   "source": []
  }
 ],
 "metadata": {
  "kernelspec": {
   "display_name": "Python 3",
   "language": "python",
   "name": "python3"
  },
  "language_info": {
   "codemirror_mode": {
    "name": "ipython",
    "version": 3
   },
   "file_extension": ".py",
   "mimetype": "text/x-python",
   "name": "python",
   "nbconvert_exporter": "python",
   "pygments_lexer": "ipython3",
   "version": "3.6.9"
  }
 },
 "nbformat": 4,
 "nbformat_minor": 4
}
