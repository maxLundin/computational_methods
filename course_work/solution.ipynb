{
 "cells": [
  {
   "cell_type": "code",
   "execution_count": 1,
   "metadata": {},
   "outputs": [],
   "source": [
    "%run data.ipynb    # load data"
   ]
  },
  {
   "cell_type": "code",
   "execution_count": 2,
   "metadata": {},
   "outputs": [],
   "source": [
    "import math\n",
    "import sympy as sy"
   ]
  },
  {
   "cell_type": "code",
   "execution_count": 3,
   "metadata": {},
   "outputs": [],
   "source": [
    "def gibbs_energy_i(i_name, T):\n",
    "    x_t = T / 10000\n",
    "    data = bank_td[i_name]\n",
    "    phi = data['f1'] + data['f2'] * math.log(x_t) + data['f3'] / (x_t ** 2) + data['f4'] / x_t \\\n",
    "        + data['f5'] * x_t + data['f6'] * x_t ** 2 + data['f7'] * x_t ** 3\n",
    "    gibbs = data['H'] - phi * T\n",
    "    return gibbs\n",
    "\n",
    "def G0(name, T):\n",
    "    return gibbs_energy_i(name, T)"
   ]
  },
  {
   "cell_type": "code",
   "execution_count": 4,
   "metadata": {},
   "outputs": [],
   "source": [
    "def calculate_delta_r1(T):\n",
    "    return 2 * G0('Al', T) + 2 * G0('HCl', T) - 2 * G0('AlCl', T) - G0('H2', T)\n",
    "\n",
    "def calculate_delta_r2(T):\n",
    "    return G0('Al', T) + 2 * G0('HCl', T) - G0('AlCl2', T) - G0('H2', T)\n",
    "\n",
    "def calculate_delta_r3(T):\n",
    "    return 2 * G0('Al', T) + 6 * G0('HCl', T) - 2 * G0('AlCl3', T) - 3 * G0('H2', T)"
   ]
  },
  {
   "cell_type": "code",
   "execution_count": 5,
   "metadata": {},
   "outputs": [],
   "source": [
    "Pa = 100000\n",
    "\n",
    "def K1(T, R = 8.314):\n",
    "    return math.exp(-1 * calculate_delta_r1(T) / (R * T)) / Pa\n",
    "\n",
    "def K2(T, R = 8.314):\n",
    "    return math.exp(-1 * calculate_delta_r2(T) / (R * T))\n",
    "\n",
    "def K3(T, R = 8.314):\n",
    "    return math.exp(-1 * calculate_delta_r3(T) / (R * T)) / Pa\n",
    "\n"
   ]
  },
  {
   "cell_type": "code",
   "execution_count": 6,
   "metadata": {},
   "outputs": [],
   "source": [
    "def eps(name):\n",
    "    return math.sqrt(bank_td[name]['epsil'] * bank_td['N2']['epsil'])\n",
    "\n",
    "def mu(name):\n",
    "    return 2 * bank_td[name]['mu'] * bank_td['N2']['mu'] / (bank_td[name]['mu'] + bank_td['N2']['mu'])\n",
    "\n",
    "def omega(name, T):\n",
    "    return 1.074 * ((T / eps(name)) ** (-0.1604))\n",
    "\n",
    "def sigma(name):\n",
    "    return (bank_td[name]['sigma'] + bank_td['N2']['sigma']) / 2\n",
    "\n",
    "def D(name, T):\n",
    "    bott = Pa * sigma(name) * omega(name, T) * math.sqrt(mu(name))\n",
    "    return 0.02628 * (T ** 1.5) / bott"
   ]
  },
  {
   "cell_type": "code",
   "execution_count": 7,
   "metadata": {},
   "outputs": [
    {
     "name": "stdout",
     "output_type": "stream",
     "text": [
      "7.497131271125371e-07\n",
      "7.221267004644182e-08\n",
      "4.062199476332757e-49\n"
     ]
    }
   ],
   "source": [
    "T = 623.15\n",
    "print(K1(T))\n",
    "print(K2(T))\n",
    "print(K3(T))"
   ]
  },
  {
   "cell_type": "code",
   "execution_count": 8,
   "metadata": {},
   "outputs": [
    {
     "name": "stdout",
     "output_type": "stream",
     "text": [
      "0.000191129931554728\n",
      "0.00014747988098603198\n",
      "0.00015245155020045148\n",
      "0.0002736394738546893\n",
      "0.0008762807050502889\n"
     ]
    }
   ],
   "source": [
    "print(D('AlCl', T))\n",
    "print(D('AlCl2', T))\n",
    "print(D('AlCl3', T))\n",
    "print(D('HCl', T))\n",
    "print(D('H2', T))"
   ]
  },
  {
   "cell_type": "code",
   "execution_count": 9,
   "metadata": {},
   "outputs": [
    {
     "data": {
      "text/latex": [
       "$\\displaystyle \\left[\\begin{matrix}2 HCl & - 1.49942625422507 \\cdot 10^{-6} AlCl H_{2} & - 7.49713127112537 \\cdot 10^{-7} AlCl^{2} & 0 & 0\\\\2 HCl & 0 & - 7.22126700464418 \\cdot 10^{-8} AlCl_{2} & - 7.22126700464418 \\cdot 10^{-8} H_{2} & 0\\\\6 HCl^{5} & 0 & - 1.21865984289983 \\cdot 10^{-48} AlCl_{3}^{2} H_{2}^{2} & 0 & - 8.12439895266551 \\cdot 10^{-49} AlCl_{3} H_{2}^{3}\\\\-0.000273639473854689 & 0 & -0.00175256141010058 & 0 & 0\\\\-0.000273639473854689 & -0.000191129931554728 & 0 & -0.000294959761972064 & -0.000457354650601354\\end{matrix}\\right]$"
      ],
      "text/plain": [
       "Matrix([\n",
       "[                2*HCl, -1.49942625422507e-6*AlCl*H2,         -7.49713127112537e-7*AlCl**2,                       0,                                 0],\n",
       "[                2*HCl,                            0,           -7.22126700464418e-8*AlCl2, -7.22126700464418e-8*H2,                                 0],\n",
       "[             6*HCl**5,                            0, -1.21865984289983e-48*AlCl3**2*H2**2,                       0, -8.12439895266551e-49*AlCl3*H2**3],\n",
       "[-0.000273639473854689,                            0,                 -0.00175256141010058,                       0,                                 0],\n",
       "[-0.000273639473854689,        -0.000191129931554728,                                    0,   -0.000294959761972064,             -0.000457354650601354]])"
      ]
     },
     "execution_count": 9,
     "metadata": {},
     "output_type": "execute_result"
    }
   ],
   "source": [
    "PG = {\n",
    "   'AlCl':0,\n",
    "   'AlCl2':0,\n",
    "   'AlCl3':0,\n",
    "   'H2':0,\n",
    "   'HCl':10000,\n",
    "   'N2':90000\n",
    "}\n",
    "\n",
    "T = 623.15\n",
    "HCl, AlCl, H2, AlCl2, AlCl3 = sy.symbols('HCl AlCl H2 AlCl2 AlCl3')\n",
    "X = sy.Matrix([\n",
    "    HCl**2 - K1(T) * AlCl**2 * H2,\n",
    "    HCl**2 - K2(T) * AlCl2 * H2,\n",
    "    HCl**6 - K3(T) * AlCl3**2 * H2**3,\n",
    "    D('HCl', T) * (PG['HCl'] - HCl) + 2 * D('H2', T) * (PG['H2'] - H2),\n",
    "    D('AlCl', T) * (PG['AlCl'] - AlCl) + 2 * D('AlCl2', T) * (PG['AlCl2'] - AlCl2) + \\\n",
    "        3 * D('AlCl3', T) * (PG['AlCl3'] - AlCl3) + D('HCl', T) * (PG['HCl'] - HCl)\n",
    "])\n",
    "Y = [HCl, AlCl, H2, AlCl2, AlCl3]\n",
    "X.jacobian(Y)\n",
    "# def newton_method(funcs):"
   ]
  },
  {
   "cell_type": "code",
   "execution_count": 10,
   "metadata": {},
   "outputs": [
    {
     "name": "stderr",
     "output_type": "stream",
     "text": [
      "/home/kranya/.local/lib/python3.6/site-packages/sympy/matrices/matrices.py:1400: SymPyDeprecationWarning: \n",
      "\n",
      "Dot product of non row/column vectors has been deprecated since SymPy\n",
      "1.2. Use * to take matrix products instead. See\n",
      "https://github.com/sympy/sympy/issues/13815 for more info.\n",
      "\n",
      "  useinstead=\"* to take matrix products\").warn()\n"
     ]
    },
    {
     "name": "stdout",
     "output_type": "stream",
     "text": [
      "[1, 1, 1, 1, 1]\n",
      "Matrix([[-95395.0385063783], [13437839.6868738], [-4447479.77407682], [58.7083636141654], [5981.43039713831]])\n",
      "[-1118603.57944088, -2.33294369555692e+19, -4449962.13735161, 4.30012897017141e+32, -5552694.06351861]\n",
      "Matrix([[888037956312.586], [-2.54556511650939e+29], [-1.17449811324533e+23], [4.51030437170653e+57], [-2.77326362774091e+32]])\n",
      "[8.53316084828157e+26, 1.55410445905394e+35, -1.17449811324533e+23, 2.08514910187437e+79, 4.46872747890754e+54]\n",
      "Matrix([[1.99432530400356e+48], [9.93169538304465e+84], [2.20873754855762e+25], [2.20277188430347e+164], [2.85579049181219e+104]])\n",
      "[-1.06815536515300e+78, 3.95542423254637e+132, -2.59664818898937e+28, -1.79777307987078e+274, -2.13888686382291e+154]\n",
      "Matrix([[2.18892103851285e+140], [-7.18523413129496e+203], [1.74292722897235e+79], [-5.31402862505418e+473], [-4.56777460676350e+228]])\n",
      "[7.34139078151828e+408, -2.86644280054141e+375, 1.74292722897235e+79, -1.34889558675997e+829, 1.22313153606541e+451]\n",
      "Matrix([[-5.60741530248925e+598], [-4.34468602808583e+1615], [1.91043644199705e+407], [8.93298918441501e+2455], [-2.19776707924420e+1051]])\n",
      "[9.90208621313325e+838, -6.51702904212875e+1615, 1.91043644199705e+407, -9.88020047818932e+3635, 1.01604191540465e+2019]\n",
      "Matrix([[-7.30137060270626e+2018], [-6.51702904212875e+1615], [5.06323265487345e+439], [1.05690001342547e+4639], [1.01604191540465e+2019]])\n",
      "[1.71956309318771e+3257, -3.59098465397220e+4874, -1.90002206544456e+2017, 8.64476342508463e+12115, 4.45135326590934e+5310]\n",
      "Matrix([[1.15938547712284e+7240], [4.14135229022241e+7434], [-1.90002206544456e+2017], [-2.17372386492034e+19530], [1.92642209012804e+9448]])\n",
      "[-2.64005948381238e+28561, 4.45859871216652e+23901, 3.01704722134345e+7238, 1.38577872940128e+43443, 7.08186482369585e+22693]\n",
      "Matrix([[1.86563685852793e+123571], [3.38356854425273e+127932], [-1.39540905922876e+13702], [3.92412291874232e+156513], [4.82096119450582e+58066]])\n",
      "[7.62991134642495e+485568, 1.48801282371813e+584921, -3.54786339075260e+90651, -1.75822705845843e+708512, -8.25549809043601e+189779]\n",
      "Matrix([[2.34056778735147e+3314795], [-1.55391975643139e+2204908], [2.06093367692444e+1833866], [1.16851415788277e+4261715], [-1.34972753118620e+2295556]])\n",
      "[6.37763242230332e+7163764, -2.53359461069387e+9278041, 6.09081593528237e+3314793, 9.38110716675493e+19888774, 1.27835587472675e+11111904]\n",
      "Matrix([[-1.22350713048626e+13815778], [9.93320523561367e+23093820], [2.12021120606946e+7163747], [4.62824201266288e+42982575], [-1.48120617247309e+26408611]])\n",
      "[-2.24395913621693e+19888753, 1.00371303622353e+39912100, 2.12021120606946e+7163747, -7.15549578640792e+64161661, -5.21001914857982e+47075843]\n",
      "Matrix([[3.43335300154346e+24249560], [-2.47079395359265e+55170865], [2.12021120606946e+7163747], [6.52652175388540e+95038391], [1.28252631437838e+62334609]])\n",
      "[1.27213602803743e+39867525, 9.66703966101631e+55170849, -1.93842794115946e+11212585, -2.02775020659382e+132460392, 0]\n",
      "Matrix([[1.01020437797992e+77289541], [2.75564861882957e+121247810], [3.15165147982168e+54370568], [2.30238767323797e+253708198], [1.30774819385634e+132460392]])\n",
      "[2.48223846622188e+208455766, 6.39239529511872e+210029054, 5.75339893793157e+77289523, 1.04479687970275e+463737233, -4.93233354834949e+264399619]\n",
      "Matrix([[-3.73574549103758e+417405334], [-7.65220650648561e+627434390], [6.45948290279735e+208455764], [1.33471261069302e+1250734601], [1.07785862069496e+704723911]])\n",
      "[-9.20575187567683e+1249563199, 2.82008707823350e+1253697413, 6.45948290279735e+208455764, 1.99122991311099e+2504431994, -4.45975396999682e+1462153174]\n",
      "Matrix([[3.57930857112253e+1874930446], [-8.88942910351379e+4992947196], [-2.39559565519253e+1249563198], [3.47282057547482e+7497379202], [-5.11511990581132e+3337083622]])\n",
      "[1.88146770284614e+2504432004, -1.33341436552707e+4992947197, -6.88663920628776e+3115674141, 5.18653874428420e+11235457589, -2.60680185164800e+6242510391]\n",
      "Matrix([[1.87327177335226e+6242510391], [2.40717824565671e+10596585577], [-6.88663920628776e+3115674141], [1.72479586979603e+15637834151], [4.05850616238966e+13712259715]])\n",
      "[4.49779441558104e+11220642624, 3.46939404163431e+21817228203, 5.24044010592210e+3799194664, 1.09330214214663e+24308845294, 5.84940360072481e+24932902341]\n",
      "Matrix([[1.88310207548119e+36040678200], [1.04868245745248e+43015010461], [8.99724151986047e+10483718830], [3.63144847800484e+66586931958], [-1.34543398612783e+46814205122]])\n",
      "[1.88310207548119e+36040678200, -1.10625148383748e+149657137250, 8.99724151986047e+10483718830, 1.80642300498095e+185697815470, 6.05628513084465e+83759786034]\n"
     ]
    },
    {
     "ename": "NonInvertibleMatrixError",
     "evalue": "Matrix det == 0; not invertible.",
     "output_type": "error",
     "traceback": [
      "\u001b[0;31m---------------------------------------------------------------------------\u001b[0m",
      "\u001b[0;31mNonInvertibleMatrixError\u001b[0m                  Traceback (most recent call last)",
      "\u001b[0;32m<ipython-input-10-708c1381f3f1>\u001b[0m in \u001b[0;36m<module>\u001b[0;34m\u001b[0m\n\u001b[1;32m     24\u001b[0m \u001b[0;31m#    return J\u001b[0m\u001b[0;34m\u001b[0m\u001b[0;34m\u001b[0m\u001b[0;34m\u001b[0m\u001b[0m\n\u001b[1;32m     25\u001b[0m \u001b[0;34m\u001b[0m\u001b[0m\n\u001b[0;32m---> 26\u001b[0;31m \u001b[0mnewton_method\u001b[0m\u001b[0;34m(\u001b[0m\u001b[0mX\u001b[0m\u001b[0;34m,\u001b[0m \u001b[0mY\u001b[0m\u001b[0;34m,\u001b[0m \u001b[0;34m[\u001b[0m\u001b[0;36m1\u001b[0m\u001b[0;34m,\u001b[0m \u001b[0;36m1\u001b[0m\u001b[0;34m,\u001b[0m \u001b[0;36m1\u001b[0m\u001b[0;34m,\u001b[0m \u001b[0;36m1\u001b[0m\u001b[0;34m,\u001b[0m \u001b[0;36m1\u001b[0m\u001b[0;34m]\u001b[0m \u001b[0;34m,\u001b[0m \u001b[0;36m0\u001b[0m\u001b[0;34m)\u001b[0m\u001b[0;34m\u001b[0m\u001b[0;34m\u001b[0m\u001b[0m\n\u001b[0m",
      "\u001b[0;32m<ipython-input-10-708c1381f3f1>\u001b[0m in \u001b[0;36mnewton_method\u001b[0;34m(Funcs, Vars, x0, eps)\u001b[0m\n\u001b[1;32m     15\u001b[0m         \u001b[0mxx\u001b[0m \u001b[0;34m=\u001b[0m \u001b[0mnew_zip\u001b[0m\u001b[0;34m(\u001b[0m\u001b[0mVars\u001b[0m\u001b[0;34m,\u001b[0m \u001b[0mxk\u001b[0m\u001b[0;34m)\u001b[0m\u001b[0;34m\u001b[0m\u001b[0;34m\u001b[0m\u001b[0m\n\u001b[1;32m     16\u001b[0m         \u001b[0mJk\u001b[0m \u001b[0;34m=\u001b[0m \u001b[0mJ\u001b[0m\u001b[0;34m.\u001b[0m\u001b[0msubs\u001b[0m\u001b[0;34m(\u001b[0m\u001b[0mxx\u001b[0m\u001b[0;34m)\u001b[0m\u001b[0;34m\u001b[0m\u001b[0;34m\u001b[0m\u001b[0m\n\u001b[0;32m---> 17\u001b[0;31m         \u001b[0mvar\u001b[0m \u001b[0;34m=\u001b[0m \u001b[0;34m(\u001b[0m\u001b[0mJk\u001b[0m\u001b[0;34m.\u001b[0m\u001b[0mT\u001b[0m\u001b[0;34m)\u001b[0m\u001b[0;34m.\u001b[0m\u001b[0minv\u001b[0m\u001b[0;34m(\u001b[0m\u001b[0;34m)\u001b[0m\u001b[0;34m.\u001b[0m\u001b[0mdot\u001b[0m\u001b[0;34m(\u001b[0m\u001b[0mFuncs\u001b[0m\u001b[0;34m.\u001b[0m\u001b[0msubs\u001b[0m\u001b[0;34m(\u001b[0m\u001b[0mxx\u001b[0m\u001b[0;34m)\u001b[0m\u001b[0;34m)\u001b[0m\u001b[0;34m\u001b[0m\u001b[0;34m\u001b[0m\u001b[0m\n\u001b[0m\u001b[1;32m     18\u001b[0m         \u001b[0;32mfor\u001b[0m \u001b[0mi\u001b[0m \u001b[0;32min\u001b[0m \u001b[0mrange\u001b[0m\u001b[0;34m(\u001b[0m\u001b[0mlen\u001b[0m\u001b[0;34m(\u001b[0m\u001b[0mxk\u001b[0m\u001b[0;34m)\u001b[0m\u001b[0;34m)\u001b[0m\u001b[0;34m:\u001b[0m\u001b[0;34m\u001b[0m\u001b[0;34m\u001b[0m\u001b[0m\n\u001b[1;32m     19\u001b[0m             \u001b[0mxk1\u001b[0m\u001b[0;34m[\u001b[0m\u001b[0mi\u001b[0m\u001b[0;34m]\u001b[0m \u001b[0;34m=\u001b[0m \u001b[0mxk\u001b[0m\u001b[0;34m[\u001b[0m\u001b[0mi\u001b[0m\u001b[0;34m]\u001b[0m \u001b[0;34m-\u001b[0m \u001b[0mvar\u001b[0m\u001b[0;34m[\u001b[0m\u001b[0mi\u001b[0m\u001b[0;34m]\u001b[0m\u001b[0;34m\u001b[0m\u001b[0;34m\u001b[0m\u001b[0m\n",
      "\u001b[0;32m~/.local/lib/python3.6/site-packages/sympy/matrices/matrices.py\u001b[0m in \u001b[0;36minv\u001b[0;34m(self, method, iszerofunc, try_block_diag)\u001b[0m\n\u001b[1;32m   2250\u001b[0m     \u001b[0;32mdef\u001b[0m \u001b[0minv\u001b[0m\u001b[0;34m(\u001b[0m\u001b[0mself\u001b[0m\u001b[0;34m,\u001b[0m \u001b[0mmethod\u001b[0m\u001b[0;34m=\u001b[0m\u001b[0;32mNone\u001b[0m\u001b[0;34m,\u001b[0m \u001b[0miszerofunc\u001b[0m\u001b[0;34m=\u001b[0m\u001b[0m_iszero\u001b[0m\u001b[0;34m,\u001b[0m \u001b[0mtry_block_diag\u001b[0m\u001b[0;34m=\u001b[0m\u001b[0;32mFalse\u001b[0m\u001b[0;34m)\u001b[0m\u001b[0;34m:\u001b[0m\u001b[0;34m\u001b[0m\u001b[0;34m\u001b[0m\u001b[0m\n\u001b[1;32m   2251\u001b[0m         return _inv(self, method=method, iszerofunc=iszerofunc,\n\u001b[0;32m-> 2252\u001b[0;31m                 try_block_diag=try_block_diag)\n\u001b[0m\u001b[1;32m   2253\u001b[0m \u001b[0;34m\u001b[0m\u001b[0m\n\u001b[1;32m   2254\u001b[0m     \u001b[0;32mdef\u001b[0m \u001b[0mconnected_components\u001b[0m\u001b[0;34m(\u001b[0m\u001b[0mself\u001b[0m\u001b[0;34m)\u001b[0m\u001b[0;34m:\u001b[0m\u001b[0;34m\u001b[0m\u001b[0;34m\u001b[0m\u001b[0m\n",
      "\u001b[0;32m~/.local/lib/python3.6/site-packages/sympy/matrices/inverse.py\u001b[0m in \u001b[0;36m_inv\u001b[0;34m(M, method, iszerofunc, try_block_diag)\u001b[0m\n\u001b[1;32m    457\u001b[0m \u001b[0;34m\u001b[0m\u001b[0m\n\u001b[1;32m    458\u001b[0m     \u001b[0;32mif\u001b[0m \u001b[0mmethod\u001b[0m \u001b[0;34m==\u001b[0m \u001b[0;34m\"GE\"\u001b[0m\u001b[0;34m:\u001b[0m\u001b[0;34m\u001b[0m\u001b[0;34m\u001b[0m\u001b[0m\n\u001b[0;32m--> 459\u001b[0;31m         \u001b[0mrv\u001b[0m \u001b[0;34m=\u001b[0m \u001b[0mM\u001b[0m\u001b[0;34m.\u001b[0m\u001b[0minverse_GE\u001b[0m\u001b[0;34m(\u001b[0m\u001b[0miszerofunc\u001b[0m\u001b[0;34m=\u001b[0m\u001b[0miszerofunc\u001b[0m\u001b[0;34m)\u001b[0m\u001b[0;34m\u001b[0m\u001b[0;34m\u001b[0m\u001b[0m\n\u001b[0m\u001b[1;32m    460\u001b[0m     \u001b[0;32melif\u001b[0m \u001b[0mmethod\u001b[0m \u001b[0;34m==\u001b[0m \u001b[0;34m\"LU\"\u001b[0m\u001b[0;34m:\u001b[0m\u001b[0;34m\u001b[0m\u001b[0;34m\u001b[0m\u001b[0m\n\u001b[1;32m    461\u001b[0m         \u001b[0mrv\u001b[0m \u001b[0;34m=\u001b[0m \u001b[0mM\u001b[0m\u001b[0;34m.\u001b[0m\u001b[0minverse_LU\u001b[0m\u001b[0;34m(\u001b[0m\u001b[0miszerofunc\u001b[0m\u001b[0;34m=\u001b[0m\u001b[0miszerofunc\u001b[0m\u001b[0;34m)\u001b[0m\u001b[0;34m\u001b[0m\u001b[0;34m\u001b[0m\u001b[0m\n",
      "\u001b[0;32m~/.local/lib/python3.6/site-packages/sympy/matrices/matrices.py\u001b[0m in \u001b[0;36minverse_GE\u001b[0;34m(self, iszerofunc)\u001b[0m\n\u001b[1;32m   2234\u001b[0m \u001b[0;34m\u001b[0m\u001b[0m\n\u001b[1;32m   2235\u001b[0m     \u001b[0;32mdef\u001b[0m \u001b[0minverse_GE\u001b[0m\u001b[0;34m(\u001b[0m\u001b[0mself\u001b[0m\u001b[0;34m,\u001b[0m \u001b[0miszerofunc\u001b[0m\u001b[0;34m=\u001b[0m\u001b[0m_iszero\u001b[0m\u001b[0;34m)\u001b[0m\u001b[0;34m:\u001b[0m\u001b[0;34m\u001b[0m\u001b[0;34m\u001b[0m\u001b[0m\n\u001b[0;32m-> 2236\u001b[0;31m         \u001b[0;32mreturn\u001b[0m \u001b[0m_inv_GE\u001b[0m\u001b[0;34m(\u001b[0m\u001b[0mself\u001b[0m\u001b[0;34m,\u001b[0m \u001b[0miszerofunc\u001b[0m\u001b[0;34m=\u001b[0m\u001b[0miszerofunc\u001b[0m\u001b[0;34m)\u001b[0m\u001b[0;34m\u001b[0m\u001b[0;34m\u001b[0m\u001b[0m\n\u001b[0m\u001b[1;32m   2237\u001b[0m \u001b[0;34m\u001b[0m\u001b[0m\n\u001b[1;32m   2238\u001b[0m     \u001b[0;32mdef\u001b[0m \u001b[0minverse_LU\u001b[0m\u001b[0;34m(\u001b[0m\u001b[0mself\u001b[0m\u001b[0;34m,\u001b[0m \u001b[0miszerofunc\u001b[0m\u001b[0;34m=\u001b[0m\u001b[0m_iszero\u001b[0m\u001b[0;34m)\u001b[0m\u001b[0;34m:\u001b[0m\u001b[0;34m\u001b[0m\u001b[0;34m\u001b[0m\u001b[0m\n",
      "\u001b[0;32m~/.local/lib/python3.6/site-packages/sympy/matrices/inverse.py\u001b[0m in \u001b[0;36m_inv_GE\u001b[0;34m(M, iszerofunc)\u001b[0m\n\u001b[1;32m    243\u001b[0m \u001b[0;34m\u001b[0m\u001b[0m\n\u001b[1;32m    244\u001b[0m     \u001b[0;32mif\u001b[0m \u001b[0many\u001b[0m\u001b[0;34m(\u001b[0m\u001b[0miszerofunc\u001b[0m\u001b[0;34m(\u001b[0m\u001b[0mred\u001b[0m\u001b[0;34m[\u001b[0m\u001b[0mj\u001b[0m\u001b[0;34m,\u001b[0m \u001b[0mj\u001b[0m\u001b[0;34m]\u001b[0m\u001b[0;34m)\u001b[0m \u001b[0;32mfor\u001b[0m \u001b[0mj\u001b[0m \u001b[0;32min\u001b[0m \u001b[0mrange\u001b[0m\u001b[0;34m(\u001b[0m\u001b[0mred\u001b[0m\u001b[0;34m.\u001b[0m\u001b[0mrows\u001b[0m\u001b[0;34m)\u001b[0m\u001b[0;34m)\u001b[0m\u001b[0;34m:\u001b[0m\u001b[0;34m\u001b[0m\u001b[0;34m\u001b[0m\u001b[0m\n\u001b[0;32m--> 245\u001b[0;31m         \u001b[0;32mraise\u001b[0m \u001b[0mNonInvertibleMatrixError\u001b[0m\u001b[0;34m(\u001b[0m\u001b[0;34m\"Matrix det == 0; not invertible.\"\u001b[0m\u001b[0;34m)\u001b[0m\u001b[0;34m\u001b[0m\u001b[0;34m\u001b[0m\u001b[0m\n\u001b[0m\u001b[1;32m    246\u001b[0m \u001b[0;34m\u001b[0m\u001b[0m\n\u001b[1;32m    247\u001b[0m     \u001b[0;32mreturn\u001b[0m \u001b[0mM\u001b[0m\u001b[0;34m.\u001b[0m\u001b[0m_new\u001b[0m\u001b[0;34m(\u001b[0m\u001b[0mred\u001b[0m\u001b[0;34m[\u001b[0m\u001b[0;34m:\u001b[0m\u001b[0;34m,\u001b[0m \u001b[0mbig\u001b[0m\u001b[0;34m.\u001b[0m\u001b[0mrows\u001b[0m\u001b[0;34m:\u001b[0m\u001b[0;34m]\u001b[0m\u001b[0;34m)\u001b[0m\u001b[0;34m\u001b[0m\u001b[0;34m\u001b[0m\u001b[0m\n",
      "\u001b[0;31mNonInvertibleMatrixError\u001b[0m: Matrix det == 0; not invertible."
     ]
    }
   ],
   "source": [
    "def new_zip(x, y):\n",
    "    ans = []\n",
    "    for i in range(len(x)):\n",
    "        ans.append((x[i], y[i]))\n",
    "    return ans\n",
    "\n",
    "def equalVector(a, b, eps):\n",
    "    return math.sqrt(sum([(a[i] - b[i])**2 for i in range(len(a))])) < eps\n",
    "\n",
    "def newton_method(Funcs, Vars, x0, eps):\n",
    "    J = Funcs.jacobian(Vars)\n",
    "    xk1 = sy.zeros(len(x0), 1)\n",
    "    xk = x0\n",
    "    while not equalVector(xk, xk1, eps):\n",
    "        xx = new_zip(Vars, xk)\n",
    "        Jk = J.subs(xx)\n",
    "        var = (Jk.T).inv().dot(Funcs.subs(xx))\n",
    "        for i in range(len(xk)):\n",
    "            xk1[i] = xk[i] - var[i]\n",
    "        xk, xk1 = xk1, xk\n",
    "    return xk\n",
    "newton_method(X, Y, [1, 1, 1, 1, 1] , 0)"
   ]
  }
 ],
 "metadata": {
  "kernelspec": {
   "display_name": "Python 3",
   "language": "python",
   "name": "python3"
  },
  "language_info": {
   "codemirror_mode": {
    "name": "ipython",
    "version": 3
   },
   "file_extension": ".py",
   "mimetype": "text/x-python",
   "name": "python",
   "nbconvert_exporter": "python",
   "pygments_lexer": "ipython3",
   "version": "3.6.9"
  }
 },
 "nbformat": 4,
 "nbformat_minor": 4
}
