{
 "cells": [
  {
   "cell_type": "code",
   "execution_count": 1,
   "metadata": {},
   "outputs": [],
   "source": [
    "%run data.ipynb    # load data\n",
    "%run gauss.ipynb"
   ]
  },
  {
   "cell_type": "code",
   "execution_count": 2,
   "metadata": {},
   "outputs": [],
   "source": [
    "import math\n",
    "import sympy as sy\n",
    "from scipy.optimize import fmin\n",
    "import numpy as np"
   ]
  },
  {
   "cell_type": "code",
   "execution_count": 3,
   "metadata": {},
   "outputs": [],
   "source": [
    "def gibbs_energy_i(i_name, T):\n",
    "    x_t = T / 10000\n",
    "    data = bank_td[i_name]\n",
    "    phi = data['f1'] + data['f2'] * math.log(x_t) + data['f3'] / (x_t ** 2) + data['f4'] / x_t \\\n",
    "        + data['f5'] * x_t + data['f6'] * x_t ** 2 + data['f7'] * x_t ** 3\n",
    "    gibbs = data['H'] - phi * T\n",
    "    return gibbs\n",
    "\n",
    "def G0(name, T):\n",
    "    return gibbs_energy_i(name, T)"
   ]
  },
  {
   "cell_type": "code",
   "execution_count": 4,
   "metadata": {},
   "outputs": [],
   "source": [
    "def calculate_delta_r1(T):\n",
    "    return 2 * G0('Al', T) + 2 * G0('HCl', T) - 2 * G0('AlCl', T) - G0('H2', T)\n",
    "\n",
    "def calculate_delta_r2(T):\n",
    "    return G0('Al', T) + 2 * G0('HCl', T) - G0('AlCl2', T) - G0('H2', T)\n",
    "\n",
    "def calculate_delta_r3(T):\n",
    "    return 2 * G0('Al', T) + 6 * G0('HCl', T) - 2 * G0('AlCl3', T) - 3 * G0('H2', T)"
   ]
  },
  {
   "cell_type": "code",
   "execution_count": 5,
   "metadata": {},
   "outputs": [],
   "source": [
    "Pa = 100000\n",
    "\n",
    "def K1(T, R = 8.314):\n",
    "    return math.exp(-1 * calculate_delta_r1(T) / (R * T)) / Pa\n",
    "\n",
    "def K2(T, R = 8.314):\n",
    "    return math.exp(-1 * calculate_delta_r2(T) / (R * T))\n",
    "\n",
    "def K3(T, R = 8.314):\n",
    "    return math.exp(-1 * calculate_delta_r3(T) / (R * T)) / Pa\n",
    "\n"
   ]
  },
  {
   "cell_type": "code",
   "execution_count": 6,
   "metadata": {},
   "outputs": [],
   "source": [
    "def eps(name):\n",
    "    return math.sqrt(bank_td[name]['epsil'] * bank_td['N2']['epsil'])\n",
    "\n",
    "def mu(name):\n",
    "    return 2 * bank_td[name]['mu'] * bank_td['N2']['mu'] / (bank_td[name]['mu'] + bank_td['N2']['mu'])\n",
    "\n",
    "def omega(name, T):\n",
    "    return 1.074 * ((T / eps(name)) ** (-0.1604))\n",
    "\n",
    "def sigma(name):\n",
    "    return (bank_td[name]['sigma'] + bank_td['N2']['sigma']) / 2\n",
    "\n",
    "def D(name, T):\n",
    "    bott = Pa * sigma(name) * omega(name, T) * math.sqrt(mu(name))\n",
    "    return 0.02628 * (T ** 1.5) / bott"
   ]
  },
  {
   "cell_type": "code",
   "execution_count": 7,
   "metadata": {},
   "outputs": [
    {
     "name": "stdout",
     "output_type": "stream",
     "text": [
      "7.497131271125371e-07\n",
      "7.221267004644182e-08\n",
      "4.062199476332757e-49\n"
     ]
    }
   ],
   "source": [
    "T = 623.15\n",
    "print(K1(T))\n",
    "print(K2(T))\n",
    "print(K3(T))"
   ]
  },
  {
   "cell_type": "code",
   "execution_count": 8,
   "metadata": {},
   "outputs": [
    {
     "name": "stdout",
     "output_type": "stream",
     "text": [
      "0.000191129931554728\n",
      "0.00014747988098603198\n",
      "0.00015245155020045148\n",
      "0.0002736394738546893\n",
      "0.0008762807050502889\n"
     ]
    }
   ],
   "source": [
    "print(D('AlCl', T))\n",
    "print(D('AlCl2', T))\n",
    "print(D('AlCl3', T))\n",
    "print(D('HCl', T))\n",
    "print(D('H2', T))"
   ]
  },
  {
   "cell_type": "code",
   "execution_count": 9,
   "metadata": {},
   "outputs": [
    {
     "data": {
      "text/latex": [
       "$\\displaystyle \\left[\\begin{matrix}- 1.49942625422507 \\cdot 10^{-6} AlCl H_{2} & 0 & 0 & 2 HCl & - 7.49713127112537 \\cdot 10^{-7} AlCl^{2}\\\\0 & - 7.22126700464418 \\cdot 10^{-8} H_{2} & 0 & 2 HCl & - 7.22126700464418 \\cdot 10^{-8} AlCl_{2}\\\\0 & 0 & - 8.12439895266551 \\cdot 10^{-49} AlCl_{3} H_{2}^{3} & 6 HCl^{5} & - 1.21865984289983 \\cdot 10^{-48} AlCl_{3}^{2} H_{2}^{2}\\\\0 & 0 & 0 & -0.000273639473854689 & -0.00175256141010058\\\\-0.000191129931554728 & -0.000294959761972064 & -0.000457354650601354 & -0.000273639473854689 & 0\\end{matrix}\\right]$"
      ],
      "text/plain": [
       "Matrix([\n",
       "[-1.49942625422507e-6*AlCl*H2,                       0,                                 0,                 2*HCl,         -7.49713127112537e-7*AlCl**2],\n",
       "[                           0, -7.22126700464418e-8*H2,                                 0,                 2*HCl,           -7.22126700464418e-8*AlCl2],\n",
       "[                           0,                       0, -8.12439895266551e-49*AlCl3*H2**3,              6*HCl**5, -1.21865984289983e-48*AlCl3**2*H2**2],\n",
       "[                           0,                       0,                                 0, -0.000273639473854689,                 -0.00175256141010058],\n",
       "[       -0.000191129931554728,   -0.000294959761972064,             -0.000457354650601354, -0.000273639473854689,                                    0]])"
      ]
     },
     "execution_count": 9,
     "metadata": {},
     "output_type": "execute_result"
    }
   ],
   "source": [
    "PG = {\n",
    "   'AlCl':0,\n",
    "   'AlCl2':0,\n",
    "   'AlCl3':0,\n",
    "   'H2':0,\n",
    "   'HCl':10000,\n",
    "   'N2':90000\n",
    "}\n",
    "\n",
    "T = 623.15\n",
    "HCl, AlCl, H2, AlCl2, AlCl3 = sy.symbols('HCl AlCl H2 AlCl2 AlCl3')\n",
    "X = sy.Matrix([\n",
    "    HCl**2 - K1(T) * AlCl**2 * H2,\n",
    "    HCl**2 - K2(T) * AlCl2 * H2,\n",
    "    HCl**6 - K3(T) * AlCl3**2 * H2**3,\n",
    "    D('HCl', T) * (PG['HCl'] - HCl) + 2 * D('H2', T) * (PG['H2'] - H2),\n",
    "    D('AlCl', T) * (PG['AlCl'] - AlCl) + 2 * D('AlCl2', T) * (PG['AlCl2'] - AlCl2) + \\\n",
    "        3 * D('AlCl3', T) * (PG['AlCl3'] - AlCl3) + D('HCl', T) * (PG['HCl'] - HCl)\n",
    "])\n",
    "Y = [AlCl, AlCl2, AlCl3, HCl, H2]\n",
    "X.jacobian(Y)"
   ]
  },
  {
   "cell_type": "code",
   "execution_count": 10,
   "metadata": {
    "scrolled": true
   },
   "outputs": [
    {
     "name": "stdout",
     "output_type": "stream",
     "text": [
      "50\n",
      "[-2.23551418889033, 51.5428297598247, 5950.73870243520, 0.0764849662411599, 1561.35687538572]\n",
      "Matrix([[2.80442604902453e-11], [3.85089495980396e-5], [2.00196497922386e-7], [2.04474881471128e-9], [2.04535443110857e-9]])\n"
     ]
    }
   ],
   "source": [
    "def new_zip(x, y):\n",
    "    ans = []\n",
    "    for i in range(len(x)):\n",
    "        ans.append((x[i], y[i]))\n",
    "    return ans\n",
    "\n",
    "def equalVector(a, b, eps):\n",
    "    return sum([(a[i] - b[i])**2 for i in range(len(a))]) < eps\n",
    "\n",
    "def mul_and_add(a, b, c):\n",
    "    res = []\n",
    "    for i in range(len(a)):\n",
    "        res.append(a[i] + b[i] * c)\n",
    "    return res\n",
    "\n",
    "def minimumF(Funcs, Vars, xk, pk):\n",
    "    def r(a):\n",
    "        res = 0\n",
    "        xx = new_zip(Vars, mul_and_add(xk, pk, a[0]))\n",
    "        for i in range(len(xx)):\n",
    "            res += (Funcs[i].subs(xx)) ** 2\n",
    "        return res\n",
    "    return r\n",
    "\n",
    "def newton_method(funcs, var, x0, eps=1e-20, ITER=50):\n",
    "    j = funcs.jacobian(var)\n",
    "    xk1 = sy.zeros(len(x0), 1)\n",
    "    xk = x0\n",
    "    iterations = 0\n",
    "    while iterations < ITER:\n",
    "        xx = new_zip(var, xk)\n",
    "        jk = j.subs(xx)\n",
    "        fk = funcs.subs(xx)\n",
    "#         dk = [1, 1, 1, 1, 1]\n",
    "        dk = gaussMethod(jk.tolist(), (fk.T * -1.0).tolist()[0])\n",
    "        \n",
    "        alpha = fmin(minimumF(funcs, var, xk, dk), [0], disp=False)[0]\n",
    "        xk1 = mul_and_add(xk, dk, alpha)\n",
    "        \n",
    "        xk, xk1 = xk1, xk\n",
    "        iterations += 1\n",
    "    print(iterations)\n",
    "    return xk\n",
    "\n",
    "ans = newton_method(X * 1e30, Y, [1, 1, 1, 1, 1])\n",
    "print(ans)\n",
    "print(X.subs(new_zip(Y, ans)))"
   ]
  },
  {
   "cell_type": "code",
   "execution_count": null,
   "metadata": {},
   "outputs": [],
   "source": []
  },
  {
   "cell_type": "code",
   "execution_count": null,
   "metadata": {},
   "outputs": [],
   "source": []
  }
 ],
 "metadata": {
  "kernelspec": {
   "display_name": "Python 3",
   "language": "python",
   "name": "python3"
  },
  "language_info": {
   "codemirror_mode": {
    "name": "ipython",
    "version": 3
   },
   "file_extension": ".py",
   "mimetype": "text/x-python",
   "name": "python",
   "nbconvert_exporter": "python",
   "pygments_lexer": "ipython3",
   "version": "3.8.2"
  }
 },
 "nbformat": 4,
 "nbformat_minor": 4
}
