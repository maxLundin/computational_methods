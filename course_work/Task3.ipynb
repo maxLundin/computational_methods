{
 "cells": [
  {
   "cell_type": "code",
   "execution_count": 1,
   "metadata": {},
   "outputs": [],
   "source": [
    "%run Solution.ipynb"
   ]
  },
  {
   "cell_type": "code",
   "execution_count": 2,
   "metadata": {},
   "outputs": [],
   "source": [
    "def calculate_delta_r9(T):\n",
    "    return G0('AlCl3', T) + G0('NH3', T) - G0('AlN', T) - 3 * G0('HCl', T)\n",
    "\n",
    "def calculate_delta_r10(T):\n",
    "    return G0('GaCl', T) + G0('NH3', T) - G0('GaN', T) - G0('HCl', T) - G0('H2', T)"
   ]
  },
  {
   "cell_type": "code",
   "execution_count": 3,
   "metadata": {},
   "outputs": [],
   "source": [
    "Pa = 100000\n",
    "\n",
    "def K9(T, R = 8.314):\n",
    "    return math.exp(-1 * calculate_delta_r9(T) / (R * T)) / Pa\n",
    "\n",
    "def K10(T, R = 8.314):\n",
    "    return math.exp(-1 * calculate_delta_r10(T) / (R * T))"
   ]
  },
  {
   "cell_type": "code",
   "execution_count": 4,
   "metadata": {},
   "outputs": [
    {
     "name": "stdout",
     "output_type": "stream",
     "text": [
      "1.2891721396749681e-08\n",
      "0.5918031945339368\n"
     ]
    }
   ],
   "source": [
    "T = 1100.0 + 273.15\n",
    "print(K9(T))\n",
    "print(K10(T))"
   ]
  },
  {
   "cell_type": "code",
   "execution_count": 5,
   "metadata": {},
   "outputs": [
    {
     "name": "stdout",
     "output_type": "stream",
     "text": [
      "0.0011397438470300157\n",
      "0.0007069071048692108\n",
      "0.0005660531726691359\n",
      "0.0010160243837422209\n",
      "0.003253633515633444\n"
     ]
    }
   ],
   "source": [
    "print(D('NH3', T))\n",
    "print(D('GaCl', T))\n",
    "print(D('AlCl3', T))\n",
    "print(D('HCl', T))\n",
    "print(D('H2', T))"
   ]
  },
  {
   "cell_type": "code",
   "execution_count": 6,
   "metadata": {},
   "outputs": [
    {
     "name": "stdout",
     "output_type": "stream",
     "text": [
      "15\n",
      "[2.04474662669432e-12, 1.80422771982487e-15, 0.0541529728360430, 1481.42658801487, 20.8350629803014, 6.50624353452124]\n",
      "14\n",
      "[0.167064173489765, 2.76410234388094e-8, 0.0462039946829428, 1482.16316090840, 26.6943058452553, 5.20436874755046]\n",
      "14\n",
      "[0.348454684927480, 1.04540944325365e-7, 0.0330465348148798, 1482.89650334937, 32.5571724707230, 3.90362559162434]\n",
      "13\n",
      "[0.546060100258026, 2.69117210573393e-7, 0.0181109493691654, 1483.62874298117, 38.4212760947666, 2.60326876365971]\n",
      "13\n",
      "[0.762239096717450, 5.74905393237335e-7, 0.00546728334066752, 1484.36240420788, 44.2837848614955, 1.30241397730119]\n",
      "13\n",
      "[1.00000000000000, 1.09431370285065e-6, -2.09597671964450e-19, 1485.10051657231, 50.1413002454362, -1.44246025898173e-13]\n"
     ]
    }
   ],
   "source": [
    "\n",
    "def run_1(xg):\n",
    "    PG = {\n",
    "       'NH3':1500,\n",
    "       'GaCl':(30 * (1 - xg)),\n",
    "       'AlCl3':(30 * xg),\n",
    "       'H2':0,\n",
    "       'HCl':0,\n",
    "       'N2':98470\n",
    "    }\n",
    "\n",
    "\n",
    "    x, AlCl3, GaCl, NH3, HCl, H2 = sy.symbols('x AlCl3 GaCl NH3 HCl H2')\n",
    "    Xmat = sy.Matrix([\n",
    "        AlCl3 * NH3 - K9(T) * x * (HCl)**3,\n",
    "        GaCl * NH3 - K10(T) * (1 - x) * HCl * H2,\n",
    "        D('HCl', T) * (PG['HCl'] - HCl) + 2 * D('H2', T) * (PG['H2'] - H2) + 3 * D('NH3', T) * (PG['NH3'] - NH3),\n",
    "        3 * D('AlCl3', T) * (PG['AlCl3'] - AlCl3) + D('GaCl', T) * (PG['GaCl'] - GaCl) + D('HCl', T) * (PG['HCl'] - HCl),\n",
    "        D('AlCl3', T) * (PG['AlCl3'] - AlCl3) + D('GaCl', T) * (PG['GaCl'] - GaCl) - D('NH3', T) * (PG['NH3'] - NH3),\n",
    "        (1 - x) * D('AlCl3', T) * (PG['AlCl3'] - AlCl3) - x * D('GaCl', T) * (PG['GaCl'] - GaCl),\n",
    "        \n",
    "    ])\n",
    "    \n",
    "    Y = [x, AlCl3, GaCl, NH3, HCl, H2]\n",
    "    ans = newton_method(Xmat * 10**50, Y, [1, 1, 1, 1, 1, 1])\n",
    "    print(ans)\n",
    "\n",
    "for d in [0.0, 0.2, 0.4, 0.6, 0.8, 1.0]:\n",
    "    run_1(d)"
   ]
  },
  {
   "cell_type": "code",
   "execution_count": 7,
   "metadata": {},
   "outputs": [
    {
     "name": "stdout",
     "output_type": "stream",
     "text": [
      "150\n",
      "[0.102682102094181, 9.24037034299996e-7, 20.7149353894947, 1448.43993954771, 5.91896748190782, 9544.43162191530]\n",
      "101\n",
      "[0.578277287070376, 9.66131665855716e-9, 20.4962187137039, 1494.84694132729, 12.4660442992318, 9847.76125595451]\n",
      "84\n",
      "[0.812775107490815, 7.07084136788204e-8, 15.7865520141055, 1492.66735248663, 21.5965448852102, 9847.48091062193]\n",
      "43\n",
      "[0.912539360620458, 2.36227565643788e-7, 10.6185714617608, 1490.20350173205, 31.0459208226295, 9847.30013879410]\n",
      "18\n",
      "[0.966449785841743, 5.59540199191868e-7, 5.33285211106165, 1487.66662588842, 40.5772142166457, 9847.14495009409]\n",
      "30\n",
      "[1.00000000000000, 1.09431370285073e-6, 2.00913406228929e-25, 1485.10051657231, 50.1413002454362, 9847.00000000000]\n"
     ]
    }
   ],
   "source": [
    "\n",
    "def run_2(xg):\n",
    "    PG = {\n",
    "       'NH3':1500,\n",
    "       'GaCl':(30 * (1 - xg)),\n",
    "       'AlCl3':(30 * xg),\n",
    "       'H2':9847,\n",
    "       'HCl':0,\n",
    "       'N2':98470 - 9847\n",
    "    }\n",
    "\n",
    "\n",
    "    x, AlCl3, GaCl, NH3, HCl, H2 = sy.symbols('x AlCl3 GaCl NH3 HCl H2')\n",
    "    Xmat = sy.Matrix([\n",
    "        AlCl3 * NH3 - K9(T) * x * (HCl)**3,\n",
    "        GaCl * NH3 - K10(T) * (1 - x) * HCl * H2,\n",
    "        D('HCl', T) * (PG['HCl'] - HCl) + 2 * D('H2', T) * (PG['H2'] - H2) + 3 * D('NH3', T) * (PG['NH3'] - NH3),\n",
    "        3 * D('AlCl3', T) * (PG['AlCl3'] - AlCl3) + D('GaCl', T) * (PG['GaCl'] - GaCl) + D('HCl', T) * (PG['HCl'] - HCl),\n",
    "        D('AlCl3', T) * (PG['AlCl3'] - AlCl3) + D('GaCl', T) * (PG['GaCl'] - GaCl) - D('NH3', T) * (PG['NH3'] - NH3),\n",
    "        (1 - x) * D('AlCl3', T) * (PG['AlCl3'] - AlCl3) - x * D('GaCl', T) * (PG['GaCl'] - GaCl),\n",
    "        \n",
    "    ])\n",
    "    \n",
    "    Y = [x, AlCl3, GaCl, NH3, HCl, H2]\n",
    "    ans = newton_method(Xmat * 10**50, Y, [1, 1, 1, 1, 1, 1])\n",
    "    print(ans)\n",
    "\n",
    "for d in [0.0, 0.2, 0.4, 0.6, 0.8, 1.0]:\n",
    "    run_2(d)"
   ]
  },
  {
   "cell_type": "code",
   "execution_count": null,
   "metadata": {},
   "outputs": [],
   "source": []
  }
 ],
 "metadata": {
  "kernelspec": {
   "display_name": "Python 3",
   "language": "python",
   "name": "python3"
  },
  "language_info": {
   "codemirror_mode": {
    "name": "ipython",
    "version": 3
   },
   "file_extension": ".py",
   "mimetype": "text/x-python",
   "name": "python",
   "nbconvert_exporter": "python",
   "pygments_lexer": "ipython3",
   "version": "3.8.2"
  }
 },
 "nbformat": 4,
 "nbformat_minor": 4
}
