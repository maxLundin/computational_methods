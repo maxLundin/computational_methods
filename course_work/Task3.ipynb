{
 "cells": [
  {
   "cell_type": "code",
   "execution_count": 30,
   "metadata": {},
   "outputs": [],
   "source": [
    "%run Solution.ipynb"
   ]
  },
  {
   "cell_type": "code",
   "execution_count": 31,
   "metadata": {},
   "outputs": [],
   "source": [
    "def calculate_delta_r9(T):\n",
    "    return G0('AlCl3', T) + G0('NH3', T) - G0('AlN', T) - 3 * G0('HCl', T)\n",
    "\n",
    "def calculate_delta_r10(T):\n",
    "    return G0('GaCl', T) + G0('NH3', T) - G0('GaN', T) - G0('HCl', T) - G0('H2', T)"
   ]
  },
  {
   "cell_type": "code",
   "execution_count": 32,
   "metadata": {},
   "outputs": [],
   "source": [
    "Pa = 100000\n",
    "\n",
    "def K9(T, R = 8.314):\n",
    "    return math.exp(-1 * calculate_delta_r9(T) / (R * T)) / Pa\n",
    "\n",
    "def K10(T, R = 8.314):\n",
    "    return math.exp(-1 * calculate_delta_r10(T) / (R * T))"
   ]
  },
  {
   "cell_type": "code",
   "execution_count": 33,
   "metadata": {},
   "outputs": [
    {
     "name": "stdout",
     "output_type": "stream",
     "text": [
      "3.100281771447924e-08\n",
      "0.13120264119198397\n"
     ]
    }
   ],
   "source": [
    "T = 1100.0\n",
    "print(K9(T))\n",
    "print(K10(T))"
   ]
  },
  {
   "cell_type": "code",
   "execution_count": 34,
   "metadata": {},
   "outputs": [
    {
     "name": "stdout",
     "output_type": "stream",
     "text": [
      "0.0007886217210652681\n",
      "0.0004891294645967424\n",
      "0.00039166855641119605\n",
      "0.0007030166473273947\n",
      "0.0022512831014624562\n"
     ]
    }
   ],
   "source": [
    "print(D('NH3', T))\n",
    "print(D('GaCl', T))\n",
    "print(D('AlCl3', T))\n",
    "print(D('HCl', T))\n",
    "print(D('H2', T))"
   ]
  },
  {
   "cell_type": "code",
   "execution_count": 35,
   "metadata": {},
   "outputs": [
    {
     "name": "stdout",
     "output_type": "stream",
     "text": [
      "11\n",
      "[7.25932464025329e-17, 1.78141654234548e-19, 0.0120397060547704, 1481.40046796693, 20.8643636230920, 6.51539335652517]\n",
      "12\n",
      "[0.166855689777968, 6.65776163219690e-8, 0.0102711142324109, 1482.14087415813, 26.7193063696268, 5.21217577571369]\n",
      "13\n",
      "[0.348130210470462, 2.51589296382878e-7, 0.00734465474480411, 1482.88056226012, 32.5750545139192, 3.90920976130515]\n",
      "12\n",
      "[0.545768813613789, 6.47343607624247e-7, 0.00402354365508033, 1483.62000569071, 38.4310768879955, 2.60632949165522]\n",
      "13\n",
      "[0.762110515021665, 1.38261470478399e-6, 0.00121369481382654, 1484.35976639172, 44.2867429798042, 1.30333814160438]\n",
      "13\n",
      "[1.00000000000000, 2.63167361243703e-6, -8.45807379229063e-23, 1485.10051733584, 50.1412976759286, -3.54080502721730e-13]\n"
     ]
    }
   ],
   "source": [
    "\n",
    "def run_1(xg):\n",
    "    PG = {\n",
    "       'NH3':1500,\n",
    "       'GaCl':(30 * (1 - xg)),\n",
    "       'AlCl3':(30 * xg),\n",
    "       'H2':0,\n",
    "       'HCl':0,\n",
    "       'N2':98470\n",
    "    }\n",
    "\n",
    "\n",
    "    x, AlCl3, GaCl, NH3, HCl, H2 = sy.symbols('x AlCl3 GaCl NH3 HCl H2')\n",
    "    Xmat = sy.Matrix([\n",
    "        AlCl3 * NH3 - K9(T) * x * (HCl)**3,\n",
    "        GaCl * NH3 - K10(T) * (1 - x) * HCl * H2,\n",
    "        D('HCl', T) * (PG['HCl'] - HCl) + 2 * D('H2', T) * (PG['H2'] - H2) + 3 * D('NH3', T) * (PG['NH3'] - NH3),\n",
    "        3 * D('AlCl3', T) * (PG['AlCl3'] - AlCl3) + D('GaCl', T) * (PG['GaCl'] - GaCl) + D('HCl', T) * (PG['HCl'] - HCl),\n",
    "        D('AlCl3', T) * (PG['AlCl3'] - AlCl3) + D('GaCl', T) * (PG['GaCl'] - GaCl) - D('NH3', T) * (PG['NH3'] - NH3),\n",
    "        (1 - x) * D('AlCl3', T) * (PG['AlCl3'] - AlCl3) - x * D('GaCl', T) * (PG['GaCl'] - GaCl),\n",
    "        \n",
    "    ])\n",
    "    \n",
    "    Y = [x, AlCl3, GaCl, NH3, HCl, H2]\n",
    "    ans = newton_method(Xmat * 10**40, Y, [1, 1, 1, 1, 1, 1])\n",
    "    print(ans)\n",
    "\n",
    "for d in [0.0, 0.2, 0.4, 0.6, 0.8, 1.0]:\n",
    "    run_1(d)"
   ]
  },
  {
   "cell_type": "code",
   "execution_count": 36,
   "metadata": {},
   "outputs": [
    {
     "name": "stdout",
     "output_type": "stream",
     "text": [
      "93\n",
      "[4.15970486855212e-15, 2.43167289099778e-18, 11.2988182463579, 1488.40090404036, 13.0114970296363, 9851.06314914924]\n",
      "109\n",
      "[0.279898959552174, 3.76633378510502e-8, 11.6394360954248, 1489.35366969460, 18.6282217152204, 9849.68554230289]\n",
      "101\n",
      "[0.547287674844102, 1.90868357978791e-7, 10.0515440440016, 1489.11030931697, 25.5867224212156, 9848.72693696466]\n",
      "68\n",
      "[0.751036806694370, 5.83478069823155e-7, 7.22205333257345, 1488.09686820502, 33.4090749418425, 9848.03809000874]\n",
      "29\n",
      "[0.895941511644018, 1.35146333841027e-6, 3.76794982514023, 1486.69602161433, 41.6660061919844, 9847.48495078489]\n",
      "25\n",
      "[0.999999999999988, 2.63167361252312e-6, 8.89974851839459e-13, 1485.10051733428, 50.1412976758788, 9846.99999998964]\n"
     ]
    }
   ],
   "source": [
    "\n",
    "def run_2(xg):\n",
    "    PG = {\n",
    "       'NH3':1500,\n",
    "       'GaCl':(30 * (1 - xg)),\n",
    "       'AlCl3':(30 * xg),\n",
    "       'H2':9847,\n",
    "       'HCl':0,\n",
    "       'N2':98470 - 9847\n",
    "    }\n",
    "\n",
    "\n",
    "    x, AlCl3, GaCl, NH3, HCl, H2 = sy.symbols('x AlCl3 GaCl NH3 HCl H2')\n",
    "    Xmat = sy.Matrix([\n",
    "        AlCl3 * NH3 - K9(T) * x * (HCl)**3,\n",
    "        GaCl * NH3 - K10(T) * (1 - x) * HCl * H2,\n",
    "        D('HCl', T) * (PG['HCl'] - HCl) + 2 * D('H2', T) * (PG['H2'] - H2) + 3 * D('NH3', T) * (PG['NH3'] - NH3),\n",
    "        3 * D('AlCl3', T) * (PG['AlCl3'] - AlCl3) + D('GaCl', T) * (PG['GaCl'] - GaCl) + D('HCl', T) * (PG['HCl'] - HCl),\n",
    "        D('AlCl3', T) * (PG['AlCl3'] - AlCl3) + D('GaCl', T) * (PG['GaCl'] - GaCl) - D('NH3', T) * (PG['NH3'] - NH3),\n",
    "        (1 - x) * D('AlCl3', T) * (PG['AlCl3'] - AlCl3) - x * D('GaCl', T) * (PG['GaCl'] - GaCl),\n",
    "        \n",
    "    ])\n",
    "    \n",
    "    Y = [x, AlCl3, GaCl, NH3, HCl, H2]\n",
    "    ans = newton_method(Xmat * 10**40, Y, [1, 1, 1, 1, 1, 1])\n",
    "    print(ans)\n",
    "\n",
    "for d in [0.0, 0.2, 0.4, 0.6, 0.8, 1.0]:\n",
    "    run_2(d)"
   ]
  },
  {
   "cell_type": "code",
   "execution_count": null,
   "metadata": {},
   "outputs": [],
   "source": []
  }
 ],
 "metadata": {
  "kernelspec": {
   "display_name": "Python 3",
   "language": "python",
   "name": "python3"
  },
  "language_info": {
   "codemirror_mode": {
    "name": "ipython",
    "version": 3
   },
   "file_extension": ".py",
   "mimetype": "text/x-python",
   "name": "python",
   "nbconvert_exporter": "python",
   "pygments_lexer": "ipython3",
   "version": "3.7.6"
  }
 },
 "nbformat": 4,
 "nbformat_minor": 4
}
