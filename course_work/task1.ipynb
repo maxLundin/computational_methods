{
 "cells": [
  {
   "cell_type": "code",
   "execution_count": 1,
   "metadata": {},
   "outputs": [],
   "source": [
    "%run solution.ipynb"
   ]
  },
  {
   "cell_type": "code",
   "execution_count": 2,
   "metadata": {},
   "outputs": [],
   "source": [
    "def calculate_delta_r1(T):\n",
    "    return 2 * G0('Al', T) + 2 * G0('HCl', T) - 2 * G0('AlCl', T) - G0('H2', T)\n",
    "\n",
    "def calculate_delta_r2(T):\n",
    "    return G0('Al', T) + 2 * G0('HCl', T) - G0('AlCl2', T) - G0('H2', T)\n",
    "\n",
    "def calculate_delta_r3(T):\n",
    "    return 2 * G0('Al', T) + 6 * G0('HCl', T) - 2 * G0('AlCl3', T) - 3 * G0('H2', T)"
   ]
  },
  {
   "cell_type": "code",
   "execution_count": 3,
   "metadata": {},
   "outputs": [],
   "source": [
    "Pa = 100000\n",
    "\n",
    "def K1(T, R = 8.314):\n",
    "    return math.exp(-1 * calculate_delta_r1(T) / (R * T)) / Pa\n",
    "\n",
    "def K2(T, R = 8.314):\n",
    "    return math.exp(-1 * calculate_delta_r2(T) / (R * T))\n",
    "\n",
    "def K3(T, R = 8.314):\n",
    "    return math.exp(-1 * calculate_delta_r3(T) / (R * T)) / Pa\n",
    "\n"
   ]
  },
  {
   "cell_type": "code",
   "execution_count": 4,
   "metadata": {},
   "outputs": [
    {
     "name": "stdout",
     "output_type": "stream",
     "text": [
      "7.497131271125371e-07\n",
      "7.221267004644182e-08\n",
      "4.062199476332757e-49\n"
     ]
    }
   ],
   "source": [
    "T = 623.15\n",
    "print(K1(T))\n",
    "print(K2(T))\n",
    "print(K3(T))"
   ]
  },
  {
   "cell_type": "code",
   "execution_count": 5,
   "metadata": {},
   "outputs": [
    {
     "name": "stdout",
     "output_type": "stream",
     "text": [
      "0.000191129931554728\n",
      "0.00014747988098603198\n",
      "0.00015245155020045148\n",
      "0.0002736394738546893\n",
      "0.0008762807050502889\n"
     ]
    }
   ],
   "source": [
    "print(D('AlCl', T))\n",
    "print(D('AlCl2', T))\n",
    "print(D('AlCl3', T))\n",
    "print(D('HCl', T))\n",
    "print(D('H2', T))"
   ]
  },
  {
   "cell_type": "code",
   "execution_count": 6,
   "metadata": {},
   "outputs": [
    {
     "data": {
      "text/latex": [
       "$\\displaystyle \\left[\\begin{matrix}- 1.49942625422507 \\cdot 10^{-6} AlCl H_{2} & 0 & 0 & 2 HCl & - 7.49713127112537 \\cdot 10^{-7} AlCl^{2}\\\\0 & - 7.22126700464418 \\cdot 10^{-8} H_{2} & 0 & 2 HCl & - 7.22126700464418 \\cdot 10^{-8} AlCl_{2}\\\\0 & 0 & - 8.12439895266551 \\cdot 10^{-49} AlCl_{3} H_{2}^{3} & 6 HCl^{5} & - 1.21865984289983 \\cdot 10^{-48} AlCl_{3}^{2} H_{2}^{2}\\\\0 & 0 & 0 & -0.000273639473854689 & -0.00175256141010058\\\\-0.000191129931554728 & -0.000294959761972064 & -0.000457354650601354 & -0.000273639473854689 & 0\\end{matrix}\\right]$"
      ],
      "text/plain": [
       "Matrix([\n",
       "[-1.49942625422507e-6*AlCl*H2,                       0,                                 0,                 2*HCl,         -7.49713127112537e-7*AlCl**2],\n",
       "[                           0, -7.22126700464418e-8*H2,                                 0,                 2*HCl,           -7.22126700464418e-8*AlCl2],\n",
       "[                           0,                       0, -8.12439895266551e-49*AlCl3*H2**3,              6*HCl**5, -1.21865984289983e-48*AlCl3**2*H2**2],\n",
       "[                           0,                       0,                                 0, -0.000273639473854689,                 -0.00175256141010058],\n",
       "[       -0.000191129931554728,   -0.000294959761972064,             -0.000457354650601354, -0.000273639473854689,                                    0]])"
      ]
     },
     "execution_count": 6,
     "metadata": {},
     "output_type": "execute_result"
    }
   ],
   "source": [
    "PG = {\n",
    "   'AlCl':0,\n",
    "   'AlCl2':0,\n",
    "   'AlCl3':0,\n",
    "   'H2':0,\n",
    "   'HCl':10000,\n",
    "   'N2':90000\n",
    "}\n",
    "\n",
    "T = 623.15\n",
    "HCl, AlCl, H2, AlCl2, AlCl3 = sy.symbols('HCl AlCl H2 AlCl2 AlCl3')\n",
    "X = sy.Matrix([\n",
    "    HCl**2 - K1(T) * AlCl**2 * H2,\n",
    "    HCl**2 - K2(T) * AlCl2 * H2,\n",
    "    HCl**6 - K3(T) * AlCl3**2 * H2**3,\n",
    "    D('HCl', T) * (PG['HCl'] - HCl) + 2 * D('H2', T) * (PG['H2'] - H2),\n",
    "    D('AlCl', T) * (PG['AlCl'] - AlCl) + 2 * D('AlCl2', T) * (PG['AlCl2'] - AlCl2) + \\\n",
    "        3 * D('AlCl3', T) * (PG['AlCl3'] - AlCl3) + D('HCl', T) * (PG['HCl'] - HCl)\n",
    "])\n",
    "Y = [AlCl, AlCl2, AlCl3, HCl, H2]\n",
    "X.jacobian(Y)"
   ]
  },
  {
   "cell_type": "code",
   "execution_count": 7,
   "metadata": {},
   "outputs": [
    {
     "name": "stdout",
     "output_type": "stream",
     "text": [
      "128\n",
      "{'AlCl': 0.885717046967506, 'AlCl2': 8.14463673524594, 'AlCl3': 5977.45057480367}\n"
     ]
    }
   ],
   "source": [
    "ans = newton_method(X, Y, [1, 1, 1, 1, 1])\n",
    "P = {'AlCl': ans[0], 'AlCl2': ans[1], 'AlCl3': ans[2]}\n",
    "print(P)"
   ]
  },
  {
   "cell_type": "code",
   "execution_count": 14,
   "metadata": {},
   "outputs": [],
   "source": [
    "def V(T, ro=2712):\n",
    "    return (G('AlCl', T, PG, P) + G('AlCl2', T, PG, P) + G('AlCl3', T, PG, P)) * bank_td['Al']['mu'] * 1e9 / ro"
   ]
  },
  {
   "cell_type": "code",
   "execution_count": 15,
   "metadata": {},
   "outputs": [
    {
     "name": "stdout",
     "output_type": "stream",
     "text": [
      "-1.26883832187881e-7\n",
      "-9.00299639930859e-7\n",
      "-0.000683015277258636\n",
      "-6805.49102293763\n"
     ]
    }
   ],
   "source": [
    "print(G('AlCl', T, PG, P))\n",
    "print(G('AlCl2', T, PG, P))\n",
    "print(G('AlCl3', T, PG, P))\n",
    "print(V(T))"
   ]
  },
  {
   "cell_type": "code",
   "execution_count": null,
   "metadata": {},
   "outputs": [],
   "source": []
  }
 ],
 "metadata": {
  "kernelspec": {
   "display_name": "Python 3",
   "language": "python",
   "name": "python3"
  },
  "language_info": {
   "codemirror_mode": {
    "name": "ipython",
    "version": 3
   },
   "file_extension": ".py",
   "mimetype": "text/x-python",
   "name": "python",
   "nbconvert_exporter": "python",
   "pygments_lexer": "ipython3",
   "version": "3.8.2"
  }
 },
 "nbformat": 4,
 "nbformat_minor": 4
}
