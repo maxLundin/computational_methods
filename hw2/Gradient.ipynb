{
 "cells": [
  {
   "cell_type": "markdown",
   "metadata": {},
   "source": [
    "Метод спуска, а имменно, метод сопряжённых градииентов. Это численный метод решения систем линейных алгебраических уравнений.\n",
    "\n",
    "Этот метод работает только для симметричных положительно определённых матриц: $A=A^{T}>0$. К эквивалентному виду можно привести любую матрицу, путём домножения обеих частей равенства на транспонированную матрицу:  $A^{T}$. \n",
    "\n",
    "Установим начальные значения: \\\n",
    "выберем начальное приближение $ x $, \\\n",
    "$ r = b - Ax $, \\\n",
    "$ z = r $. \n",
    "\n",
    "Сам цикл: \\\n",
    "выполняется до тех пор, пока количество итераций не больше заданного максимума и  относительная невязка ${\\displaystyle {\\frac {||r^{k}||}{||b||}}}$ больше заданного $\\epsilon$;\n",
    "\n",
    "$k$-я итерация метода - обновляем все переменные по заданным правилам, где $\\alpha$ и $\\beta$ - вспомогательные переменные: \\\n",
    "${\\displaystyle \\alpha _{k}={\\frac {(r^{k-1},r^{k-1})}{(Az^{k-1},z^{k-1})}}}$, \\\n",
    "${\\displaystyle x^{k}=x^{k-1}+\\alpha _{k}z^{k-1}}$, \\\n",
    "${\\displaystyle r^{k}=r^{k-1}-\\alpha _{k}Az^{k-1}}$, \\\n",
    "${\\displaystyle \\beta _{k}={\\frac {(r^{k},r^{k})}{(r^{k-1},r^{k-1})}}}$, \\\n",
    "${\\displaystyle z^{k}=r^{k}+\\beta _{k}z^{k-1}} $."
   ]
  },
  {
   "cell_type": "code",
   "execution_count": 1,
   "metadata": {},
   "outputs": [],
   "source": [
    "def gradient_descent(A, b, eps=1e-7, max_iter=100000):\n",
    "    A, b = np.dot(A.T, A).astype(np.float64), np.dot(A.T, b).astype(np.float64)\n",
    "    it = 0\n",
    "    (n, m) = np.shape(A)\n",
    "    x, r, z = np.zeros(m, dtype=np.float64), np.array(b), b\n",
    "    while np.linalg.norm(np.dot(A, x) - b) > eps and it < max_iter:\n",
    "        Az, rr = np.dot(A, z), np.dot(r, r)\n",
    "        alpha = rr / np.dot(Az, z)\n",
    "        x += alpha * z\n",
    "        r -= alpha * Az\n",
    "        betta = np.dot(r, r) / rr\n",
    "        z = r + betta * z\n",
    "        it += 1\n",
    "    print(f\"Gradient Descent Iterations: {it}. Max is {max_iter} iterations.\")\n",
    "    return x"
   ]
  }
 ],
 "metadata": {
  "kernelspec": {
   "display_name": "Python 3",
   "language": "python",
   "name": "python3"
  },
  "language_info": {
   "codemirror_mode": {
    "name": "ipython",
    "version": 3
   },
   "file_extension": ".py",
   "mimetype": "text/x-python",
   "name": "python",
   "nbconvert_exporter": "python",
   "pygments_lexer": "ipython3",
   "version": "3.7.2"
  },
  "pycharm": {
   "stem_cell": {
    "cell_type": "raw",
    "metadata": {
     "collapsed": false
    },
    "source": []
   }
  }
 },
 "nbformat": 4,
 "nbformat_minor": 1
}
