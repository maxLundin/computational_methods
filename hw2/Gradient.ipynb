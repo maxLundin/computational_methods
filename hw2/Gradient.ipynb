{
 "cells": [
  {
   "cell_type": "code",
   "execution_count": 1,
   "metadata": {},
   "outputs": [],
   "source": [
    "def gradient_descent(A, b, eps=1e-7, max_iter=100000):\n",
    "    A, b = np.dot(A.T, A).astype(np.float64), np.dot(A.T, b).astype(np.float64)\n",
    "    it = 0\n",
    "    (n, m) = np.shape(A)\n",
    "    x, r, z = np.zeros(m, dtype=np.float64), np.array(b), b\n",
    "    while np.linalg.norm(np.dot(A, x) - b) > eps and it < max_iter:\n",
    "        Az, rr = np.dot(A, z), np.dot(r, r)\n",
    "        alpha = rr / np.dot(Az, z)\n",
    "        x += alpha * z\n",
    "        r -= alpha * Az\n",
    "        betta = np.dot(r, r) / rr\n",
    "        z = r + betta * z\n",
    "        it += 1\n",
    "    print(f\"Iterations: {it}\")\n",
    "    return x"
   ]
  }
 ],
 "metadata": {
  "kernelspec": {
   "display_name": "Python 3",
   "language": "python",
   "name": "python3"
  },
  "language_info": {
   "codemirror_mode": {
    "name": "ipython",
    "version": 3
   },
   "file_extension": ".py",
   "mimetype": "text/x-python",
   "name": "python",
   "nbconvert_exporter": "python",
   "pygments_lexer": "ipython3",
   "version": "3.7.4"
  },
  "pycharm": {
   "stem_cell": {
    "cell_type": "raw",
    "metadata": {
     "collapsed": false
    },
    "source": []
   }
  }
 },
 "nbformat": 4,
 "nbformat_minor": 1
}
