{
 "cells": [
  {
   "cell_type": "code",
   "execution_count": 3,
   "metadata": {
    "pycharm": {
     "is_executing": false
    }
   },
   "outputs": [],
   "source": [
    "import math\n",
    "import numpy as np"
   ]
  },
  {
   "cell_type": "code",
   "execution_count": 4,
   "metadata": {},
   "outputs": [],
   "source": [
    "EPS = 0.1\n",
    "ITERATIONS = 10000"
   ]
  },
  {
   "cell_type": "code",
   "execution_count": 5,
   "metadata": {
    "pycharm": {
     "is_executing": false,
     "metadata": false,
     "name": "#%%\n"
    }
   },
   "outputs": [],
   "source": [
    "def _format_matrix(min, max, size):\n",
    "    return (max - min) * np.random.random((size, size)) + min\n",
    "    \n",
    "def rand_matrix(size):\n",
    "    return np.random.random((size, size))\n",
    "\n",
    "def diag_matrix(size):\n",
    "    A = _format_matrix(0.0, 10.0, size)\n",
    "    for i in range(size):\n",
    "        A[i, i] = sum(A[i]) + 1\n",
    "    return A\n",
    "\n",
    "def hilbert_matrix(size):\n",
    "    ans = np.zeros((size, size))\n",
    "    for i in range(size):\n",
    "        for j in range(size):\n",
    "            ans[i, j] = 1.0 / (i + j + 1)\n",
    "    return ans\n",
    "\n",
    "def gen_right_column(size):\n",
    "    return np.random.random(size)"
   ]
  },
  {
   "cell_type": "code",
   "execution_count": 6,
   "metadata": {},
   "outputs": [],
   "source": [
    "def equalVector(a, b, eps):\n",
    "    return math.sqrt(sum([(a[i] - b[i])**2 for i in range(len(a))])) < eps"
   ]
  },
  {
   "cell_type": "code",
   "execution_count": 7,
   "metadata": {},
   "outputs": [],
   "source": [
    "def zeidelMethod(A, b):\n",
    "    n = len(A)\n",
    "    x = [0.0 for i in range(n)]\n",
    "    xn = [1000000 for i in range(n)]\n",
    "    \n",
    "    curIterations = 0\n",
    "    \n",
    "    while not equalVector(x, xn, EPS) and curIterations < ITERATIONS:\n",
    "        xn = np.copy(x)\n",
    "        curIterations += 1\n",
    "        \n",
    "        for i in range(n):\n",
    "            s1 = - sum(A[i][j] * xn[j] for j in range(i)) / A[i][i]\n",
    "            s2 = - sum(A[i][j] * x[j] for j in range(i + 1, n)) / A[i][i]\n",
    "            xn[i] = (b[i] / A[i][i] + s1 + s2)\n",
    "    \n",
    "    return xn"
   ]
  },
  {
   "cell_type": "code",
   "execution_count": null,
   "metadata": {},
   "outputs": [],
   "source": [
    "def _test(method, matrix, column):\n",
    "    return method(matrix, column)\n",
    "\n",
    "def _check_eps(a, b, eps):\n",
    "    return abs(a - b) < eps\n",
    "\n",
    "def _check_ans(matrix, column, res, size):\n",
    "    c = np.matmul(matrix, res)\n",
    "    for i in range(size):\n",
    "        if not _check_eps(c[i], column[i], EPS):\n",
    "            return False\n",
    "    return True\n",
    "\n",
    "def _testAll(matrix_gen, size, methods):\n",
    "    matrix, column = matrix_gen(size), gen_right_column(size)\n",
    "    print(f'Тест для матрицы {matrix} и столбца {column}')\n",
    "    for method in methods:\n",
    "        print(f'Результат выполнения метода {method.__name__}:')\n",
    "        res = _test(method, matrix, column)\n",
    "        check = _check_ans(matrix, column, res, size)\n",
    "        if check:\n",
    "            print(f'{res}. Погрешность не больше {EPS}\\n')\n",
    "        else:\n",
    "            print(f'разошлось: matrix * res = {np.matmul(matrix, res)}\\n ожидаемый столбец = {column}\\n')\n",
    "\n",
    "def _get_methods():\n",
    "    return [zeidelMethod]\n",
    "\n",
    "def testDiagMatrix(size):\n",
    "    _testAll(diag_matrix, size, _get_methods())\n",
    "\n",
    "def testHilbertMatrix(size):\n",
    "    _testAll(hilbert_matrix, size, _get_methods())\n",
    "    \n",
    "def testRandMatrix(size):\n",
    "    _testAll(rand_matrix, size, _get_methods())"
   ]
  },
  {
   "cell_type": "code",
   "execution_count": null,
   "metadata": {},
   "outputs": [],
   "source": [
    "testDiagMatrix(10)"
   ]
  },
  {
   "cell_type": "code",
   "execution_count": 32,
   "metadata": {},
   "outputs": [
    {
     "name": "stdout",
     "output_type": "stream",
     "text": [
      "Результат выполнения метода zeidelMethod:\n",
      "разошлось: matrix * res = [ -1.21986084e+00  -2.58314758e-03   2.95178320e+00  -1.16943331e+00\n",
      "   2.72754788e-01  -1.81834713e+00   7.56913207e-01   5.00572375e-01\n",
      "   1.19790823e+00   7.89232400e-02]\n",
      " ожидаемый столбец = [ 0.41340217  0.24865491  0.76869474  0.06503624  0.46718876  0.92044059\n",
      "  0.96278565  0.1357434   0.54595658  0.07892324]\n",
      "\n"
     ]
    }
   ],
   "source": [
    "testRandMatrix(10)"
   ]
  },
  {
   "cell_type": "code",
   "execution_count": 33,
   "metadata": {},
   "outputs": [
    {
     "name": "stdout",
     "output_type": "stream",
     "text": [
      "Результат выполнения метода zeidelMethod:\n",
      "разошлось: matrix * res = [ 3.2498794   2.3256835   1.89916862  1.63308628  1.44435573  1.30062134\n",
      "  1.18611614  1.09202303  1.01292743  0.94527157]\n",
      " ожидаемый столбец = [ 0.96946199  0.97038723  0.93714957  0.96423377  0.06539748  0.03535316\n",
      "  0.68831949  0.59776781  0.89438128  0.94527157]\n",
      "\n"
     ]
    }
   ],
   "source": [
    "testHilbertMatrix(10)"
   ]
  },
  {
   "cell_type": "code",
   "execution_count": null,
   "metadata": {},
   "outputs": [],
   "source": []
  }
 ],
 "metadata": {
  "kernelspec": {
   "display_name": "Python 3",
   "language": "python",
   "name": "python3"
  },
  "language_info": {
   "codemirror_mode": {
    "name": "ipython",
    "version": 3
   },
   "file_extension": ".py",
   "mimetype": "text/x-python",
   "name": "python",
   "nbconvert_exporter": "python",
   "pygments_lexer": "ipython3",
   "version": "3.6.9"
  }
 },
 "nbformat": 4,
 "nbformat_minor": 2
}
