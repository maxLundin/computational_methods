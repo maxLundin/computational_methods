{
 "cells": [
  {
   "cell_type": "code",
   "execution_count": 1,
   "metadata": {
    "pycharm": {
     "is_executing": false
    }
   },
   "outputs": [],
   "source": [
    "import math\n",
    "import numpy as np"
   ]
  },
  {
   "cell_type": "code",
   "execution_count": 2,
   "metadata": {},
   "outputs": [],
   "source": [
    "EPS = 1e-7\n",
    "ITERATIONS = 200000"
   ]
  },
  {
   "cell_type": "code",
   "execution_count": 3,
   "metadata": {
    "pycharm": {
     "is_executing": false,
     "metadata": false,
     "name": "#%%\n"
    }
   },
   "outputs": [],
   "source": [
    "def _format_matrix(min, max, size):\n",
    "    return np.array((max - min) * np.random.random((size, size)) + min, dtype=np.float64)\n",
    "    \n",
    "def rand_matrix(size):\n",
    "    A = np.array(np.random.rand(size, size), dtype=np.float64)\n",
    "    A = np.tril(A) + np.tril(A, -1).T\n",
    "    return A.T * A\n",
    "\n",
    "def diag_matrix(size):\n",
    "    A = _format_matrix(0.0, 10.0, size)\n",
    "    for i in range(size):\n",
    "        A[i, i] = sum(A[i]) + 1\n",
    "    return A\n",
    "\n",
    "def hilbert_matrix(size):\n",
    "    ans = np.array(np.zeros((size, size)), dtype=np.float64)\n",
    "    for i in range(size):\n",
    "        for j in range(size):\n",
    "            ans[i, j] = 1.0 / (i + j + 1)\n",
    "    return ans\n",
    "\n",
    "def gen_right_column(size):\n",
    "    return np.array(np.random.random(size), dtype=np.float64)"
   ]
  },
  {
   "cell_type": "code",
   "execution_count": 4,
   "metadata": {},
   "outputs": [],
   "source": [
    "def equalVector(a, b, eps):\n",
    "    return math.sqrt(sum([(a[i] - b[i])**2 for i in range(len(a))])) < eps"
   ]
  },
  {
   "cell_type": "code",
   "execution_count": 5,
   "metadata": {},
   "outputs": [],
   "source": [
    "def zeidelMethod(A, b):\n",
    "    n = len(A)\n",
    "    x = [.0 for i in range(n)]\n",
    "    xn = [100 for i in range(n)]\n",
    "    \n",
    "    curIterations = 0\n",
    "    while not equalVector(x, xn, EPS) and curIterations < ITERATIONS:\n",
    "        x = np.copy(xn)\n",
    "        curIterations += 1\n",
    "        for i in range(n):\n",
    "            s1 = - sum(A[i][j] * xn[j] for j in range(i)) / A[i][i]\n",
    "            s2 = - sum(A[i][j] * x[j] for j in range(i + 1, n)) / A[i][i]\n",
    "            xn[i] = (b[i] / A[i][i] + s1 + s2)\n",
    "            \n",
    "    print(\"Iterations = \", curIterations)\n",
    "    return xn"
   ]
  },
  {
   "cell_type": "code",
   "execution_count": 6,
   "metadata": {},
   "outputs": [],
   "source": [
    "def zeidelMethodRelax(A, b):\n",
    "    n = len(A)\n",
    "    x = [.0 for i in range(n)]\n",
    "    xn = [100 for i in range(n)]\n",
    "    Relax = 1.6\n",
    "    curIterations = 0\n",
    "    while not equalVector(x, xn, EPS) and curIterations < ITERATIONS:\n",
    "        x = np.copy(xn)\n",
    "        curIterations += 1\n",
    "        for i in range(n):\n",
    "            s1 = - sum(A[i][j] * xn[j] for j in range(i)) / A[i][i]\n",
    "            s2 = - sum(A[i][j] * x[j] for j in range(i + 1, n)) / A[i][i]\n",
    "            xn[i] = (b[i] / A[i][i] + s1 + s2)\n",
    "            xn[i] = Relax * xn[i] + (1 - Relax) * x[i]\n",
    "            \n",
    "    print(\"Iterations = \", curIterations)\n",
    "    return xn"
   ]
  },
  {
   "cell_type": "code",
   "execution_count": 7,
   "metadata": {},
   "outputs": [],
   "source": [
    "def _test(method, matrix, column):\n",
    "    return method(matrix, column)\n",
    "\n",
    "def _check_eps(a, b, eps):\n",
    "    return abs(a - b) < eps\n",
    "EPSILON = 1e-2\n",
    "def _check_ans(matrix, column, res, size):\n",
    "    eps = EPSILON\n",
    "    c = np.matmul(matrix, res)\n",
    "    for i in range(size):\n",
    "        if not _check_eps(c[i], column[i], eps):\n",
    "            return False\n",
    "    return True\n",
    "\n",
    "def _testAll(matrix_gen, size, methods):\n",
    "    matrix, column = matrix_gen(size), gen_right_column(size)\n",
    "    print(f'Тест для матрицы {matrix} и столбца {column}')\n",
    "    for method in methods:\n",
    "        print(f'Результат выполнения метода {method.__name__}:')\n",
    "        res = _test(method, matrix, column)\n",
    "        check = _check_ans(matrix, column, res, size)\n",
    "        if check:\n",
    "            print(f'{res}. Погрешность не больше {EPSILON}\\n')\n",
    "        else:\n",
    "            print(f'разошлось: matrix * res = {np.matmul(matrix, res)}\\n ожидаемый столбец = {column}\\n')\n",
    "\n",
    "def _get_methods():\n",
    "    return [zeidelMethod, zeidelMethodRelax]\n",
    "\n",
    "def testDiagMatrix(size):\n",
    "    _testAll(diag_matrix, size, _get_methods())\n",
    "\n",
    "def testHilbertMatrix(size):\n",
    "    _testAll(hilbert_matrix, size, _get_methods())\n",
    "    \n",
    "def testRandMatrix(size):\n",
    "    _testAll(rand_matrix, size, _get_methods())"
   ]
  },
  {
   "cell_type": "code",
   "execution_count": 8,
   "metadata": {},
   "outputs": [
    {
     "name": "stdout",
     "output_type": "stream",
     "text": [
      "Тест для матрицы [[4.08760255e+01 8.26978890e+00 8.07176806e+00 6.07554151e-01\n",
      "  1.18323111e+00 7.15186074e+00 3.21567990e+00 4.01315884e+00\n",
      "  3.46235169e+00 1.17948910e+00]\n",
      " [4.70262849e+00 3.44575606e+01 7.15443311e+00 5.59789103e+00\n",
      "  3.32647471e+00 1.85521683e+00 2.57533979e-03 3.65480048e+00\n",
      "  6.36211201e+00 5.73003088e-01]\n",
      " [7.38959659e+00 1.89208856e+00 3.99982598e+01 8.42079719e-01\n",
      "  9.13801729e+00 1.91418146e+00 1.09963947e+00 8.38365433e+00\n",
      "  2.73336705e+00 3.45674189e-01]\n",
      " [5.38661680e+00 4.79845276e+00 8.27642891e-01 2.79021026e+01\n",
      "  2.85169216e+00 1.05339798e+00 1.22620793e+00 1.83663490e+00\n",
      "  1.75854249e+00 2.27269405e+00]\n",
      " [1.98196070e+00 3.67062501e+00 8.45754980e-01 9.70919529e+00\n",
      "  5.40035453e+01 3.62268756e-01 9.01479236e+00 9.55150876e+00\n",
      "  6.58401441e+00 2.30777867e+00]\n",
      " [6.07325755e+00 4.78052108e+00 1.59554746e-01 5.44010246e+00\n",
      "  9.80636023e+00 5.41850413e+01 9.83132175e+00 1.39135077e+00\n",
      "  8.91043995e+00 4.61195379e+00]\n",
      " [3.09270780e+00 4.63918514e-01 1.21142716e+00 4.58729879e+00\n",
      "  2.29181544e+00 3.22615992e+00 3.35922663e+01 7.38319818e+00\n",
      "  7.62418318e+00 6.38867156e-01]\n",
      " [8.20543097e+00 5.90860706e+00 2.07669633e+00 2.10130515e-01\n",
      "  2.07060232e+00 9.92496820e+00 5.86054458e+00 4.63662448e+01\n",
      "  1.75254986e+00 3.18174240e+00]\n",
      " [9.92970316e+00 2.55401987e+00 6.25552143e+00 9.68015173e+00\n",
      "  5.07714026e+00 2.79184620e+00 4.56687141e+00 6.06138239e+00\n",
      "  5.59444380e+01 1.27338742e+00]\n",
      " [2.86717651e+00 2.62859464e+00 8.99208540e+00 8.34882149e+00\n",
      "  4.00117773e+00 9.89944062e+00 7.31470608e+00 6.46427397e+00\n",
      "  6.45891329e+00 6.38133280e+01]] и столбца [0.27429797 0.68315368 0.63846052 0.37146262 0.76405887 0.05432964\n",
      " 0.67402751 0.54266325 0.26221282 0.76814011]\n",
      "Результат выполнения метода zeidelMethod:\n",
      "Iterations =  17\n",
      "[-6.571535122393626e-05, 0.015044753294077687, 0.011697331091228379, 0.008184597513531944, 0.00722247174118086, -0.006077109997226455, 0.016925857997826255, 0.007676037096361216, -0.0014284985339811926, 0.0066181673748666025]. Погрешность не больше 0.01\n",
      "\n",
      "Результат выполнения метода zeidelMethodRelax:\n",
      "Iterations =  99\n",
      "[-6.57217903929917e-05, 0.015044750591230217, 0.01169731569525877, 0.008184604313466954, 0.007222464975045964, -0.006077085215848091, 0.0169258578533762, 0.007676022648359031, -0.0014284808682686347, 0.0066181594836453575]. Погрешность не больше 0.01\n",
      "\n"
     ]
    }
   ],
   "source": [
    "testDiagMatrix(10)"
   ]
  },
  {
   "cell_type": "code",
   "execution_count": 9,
   "metadata": {},
   "outputs": [
    {
     "name": "stdout",
     "output_type": "stream",
     "text": [
      "Тест для матрицы [[0.05835427 0.73027824 0.28837618 0.65158864]\n",
      " [0.73027824 0.21110305 0.26038914 0.60097907]\n",
      " [0.28837618 0.26038914 0.43614655 0.39303548]\n",
      " [0.65158864 0.60097907 0.39303548 0.71534538]] и столбца [0.47560132 0.86607027 0.87276787 0.32746265]\n",
      "Результат выполнения метода zeidelMethod:\n"
     ]
    },
    {
     "name": "stderr",
     "output_type": "stream",
     "text": [
      "/home/kranya/.local/lib/python3.6/site-packages/ipykernel_launcher.py:2: RuntimeWarning: overflow encountered in double_scalars\n",
      "  \n",
      "/home/kranya/.local/lib/python3.6/site-packages/ipykernel_launcher.py:11: RuntimeWarning: overflow encountered in double_scalars\n",
      "  # This is added back by InteractiveShellApp.init_path()\n",
      "/home/kranya/.local/lib/python3.6/site-packages/ipykernel_launcher.py:11: RuntimeWarning: invalid value encountered in double_scalars\n",
      "  # This is added back by InteractiveShellApp.init_path()\n",
      "/home/kranya/.local/lib/python3.6/site-packages/ipykernel_launcher.py:12: RuntimeWarning: invalid value encountered in double_scalars\n",
      "  if sys.path[0] == '':\n"
     ]
    },
    {
     "name": "stdout",
     "output_type": "stream",
     "text": [
      "Iterations =  200000\n",
      "разошлось: matrix * res = [nan nan nan nan]\n",
      " ожидаемый столбец = [0.47560132 0.86607027 0.87276787 0.32746265]\n",
      "\n",
      "Результат выполнения метода zeidelMethodRelax:\n"
     ]
    },
    {
     "name": "stderr",
     "output_type": "stream",
     "text": [
      "/home/kranya/.local/lib/python3.6/site-packages/ipykernel_launcher.py:12: RuntimeWarning: overflow encountered in double_scalars\n",
      "  if sys.path[0] == '':\n"
     ]
    },
    {
     "name": "stdout",
     "output_type": "stream",
     "text": [
      "Iterations =  200000\n",
      "разошлось: matrix * res = [nan nan nan nan]\n",
      " ожидаемый столбец = [0.47560132 0.86607027 0.87276787 0.32746265]\n",
      "\n"
     ]
    }
   ],
   "source": [
    "testRandMatrix(4)"
   ]
  },
  {
   "cell_type": "code",
   "execution_count": 10,
   "metadata": {},
   "outputs": [
    {
     "name": "stdout",
     "output_type": "stream",
     "text": [
      "Тест для матрицы [[1.         0.5        0.33333333 0.25       0.2       ]\n",
      " [0.5        0.33333333 0.25       0.2        0.16666667]\n",
      " [0.33333333 0.25       0.2        0.16666667 0.14285714]\n",
      " [0.25       0.2        0.16666667 0.14285714 0.125     ]\n",
      " [0.2        0.16666667 0.14285714 0.125      0.11111111]] и столбца [0.60878608 0.27619191 0.86041168 0.03678769 0.35381665]\n",
      "Результат выполнения метода zeidelMethod:\n",
      "Iterations =  200000\n",
      "[1006.9817309019854, -18583.997568597555, 79437.08669667656, -119201.85398486856, 58035.30213863386]. Погрешность не больше 0.01\n",
      "\n",
      "Результат выполнения метода zeidelMethodRelax:\n",
      "Iterations =  110640\n",
      "[1007.1960690404424, -18587.932138891003, 79453.84936268497, -119226.95033629498, 58047.499581639466]. Погрешность не больше 0.01\n",
      "\n"
     ]
    }
   ],
   "source": [
    "testHilbertMatrix(5)"
   ]
  },
  {
   "cell_type": "code",
   "execution_count": null,
   "metadata": {},
   "outputs": [],
   "source": []
  },
  {
   "cell_type": "code",
   "execution_count": null,
   "metadata": {},
   "outputs": [],
   "source": []
  }
 ],
 "metadata": {
  "kernelspec": {
   "display_name": "Python 3",
   "language": "python",
   "name": "python3"
  },
  "language_info": {
   "codemirror_mode": {
    "name": "ipython",
    "version": 3
   },
   "file_extension": ".py",
   "mimetype": "text/x-python",
   "name": "python",
   "nbconvert_exporter": "python",
   "pygments_lexer": "ipython3",
   "version": "3.6.9"
  }
 },
 "nbformat": 4,
 "nbformat_minor": 2
}
