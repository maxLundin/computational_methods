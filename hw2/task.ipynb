{
 "cells": [
  {
   "cell_type": "code",
   "execution_count": 76,
   "metadata": {
    "pycharm": {
     "is_executing": false
    }
   },
   "outputs": [],
   "source": [
    "import math\n",
    "import numpy as np"
   ]
  },
  {
   "cell_type": "code",
   "execution_count": 95,
   "metadata": {},
   "outputs": [],
   "source": [
    "EPS = 1e-7\n",
    "ITERATIONS = 200000"
   ]
  },
  {
   "cell_type": "code",
   "execution_count": 78,
   "metadata": {
    "pycharm": {
     "is_executing": false,
     "metadata": false,
     "name": "#%%\n"
    }
   },
   "outputs": [],
   "source": [
    "def _format_matrix(min, max, size):\n",
    "    return np.array((max - min) * np.random.random((size, size)) + min, dtype=np.float64)\n",
    "    \n",
    "def rand_matrix(size):\n",
    "    return np.array(np.random.random((size, size)), dtype=np.float64)\n",
    "\n",
    "def diag_matrix(size):\n",
    "    A = _format_matrix(0.0, 10.0, size)\n",
    "    for i in range(size):\n",
    "        A[i, i] = sum(A[i]) + 1\n",
    "    return A\n",
    "\n",
    "def hilbert_matrix(size):\n",
    "    ans = np.array(np.zeros((size, size)), dtype=np.float64)\n",
    "    for i in range(size):\n",
    "        for j in range(size):\n",
    "            ans[i, j] = 1.0 / (i + j + 1)\n",
    "    return ans\n",
    "\n",
    "def gen_right_column(size):\n",
    "    return np.array(np.random.random(size), dtype=np.float64)"
   ]
  },
  {
   "cell_type": "code",
   "execution_count": 79,
   "metadata": {},
   "outputs": [],
   "source": [
    "def equalVector(a, b, eps):\n",
    "    return math.sqrt(sum([(a[i] - b[i])**2 for i in range(len(a))])) < eps"
   ]
  },
  {
   "cell_type": "code",
   "execution_count": 126,
   "metadata": {},
   "outputs": [],
   "source": [
    "def zeidelMethod(A, b):\n",
    "    n = len(A)\n",
    "    x = [0 for i in range(n)]\n",
    "    xn = [100000 for i in range(n)]\n",
    "    \n",
    "    curIterations = 0\n",
    "    while not equalVector(x, xn, EPS) and curIterations < ITERATIONS:\n",
    "        x = np.copy(xn)\n",
    "        curIterations += 1\n",
    "        for i in range(n):\n",
    "            s1 = - sum(A[i][j] * xn[j] for j in range(i)) / A[i][i]\n",
    "            s2 = - sum(A[i][j] * x[j] for j in range(i + 1, n)) / A[i][i]\n",
    "            xn[i] = (b[i] / A[i][i] + s1 + s2)\n",
    "    \n",
    "    return xn"
   ]
  },
  {
   "cell_type": "code",
   "execution_count": 155,
   "metadata": {},
   "outputs": [],
   "source": [
    "def zeidelKokorinTest2020CheckFunctionGavno(A, b):\n",
    "    iterations = 0\n",
    "    B = []\n",
    "    d = []\n",
    "    xn = []\n",
    "    x = []\n",
    "    \n",
    "    for i in range (0, len(A)):\n",
    "        d.append(b[i] / A[i][i])\n",
    "        xn.append(d[i])\n",
    "        x.append(d[i] + 1000)\n",
    "        B.append([])\n",
    "        for j in range (0, len(A[i])):\n",
    "            B[i].append(-A[i][j] / A[i][i])\n",
    "        B[i][i] = 0.0\n",
    "    \n",
    "    # detB = determinant(B)\n",
    "    # eps = (1 - detB) * epsilon / detB\n",
    "    eps = EPS\n",
    "    \n",
    "    while (not equalVector(x, xn, EPS)) and iterations < ITERATIONS:\n",
    "        x = xn.copy()\n",
    "        for i in range (0, len(B)):\n",
    "            xn[i] = 0.0\n",
    "            for j in range (0, len(B[i])):\n",
    "                xn[i] += B[i][j] * (xn[j])\n",
    "            xn[i] += d[i]\n",
    "        iterations = iterations + 1\n",
    "            \n",
    "    \n",
    "    return xn"
   ]
  },
  {
   "cell_type": "code",
   "execution_count": 137,
   "metadata": {},
   "outputs": [],
   "source": [
    "def _test(method, matrix, column):\n",
    "    return method(matrix, column)\n",
    "\n",
    "def _check_eps(a, b, eps):\n",
    "    return abs(a - b) < eps\n",
    "EPSILON = 1e-2\n",
    "def _check_ans(matrix, column, res, size):\n",
    "    eps = EPSILON\n",
    "    c = np.matmul(matrix, res)\n",
    "    for i in range(size):\n",
    "        if not _check_eps(c[i], column[i], eps):\n",
    "            return False\n",
    "    return True\n",
    "\n",
    "def _testAll(matrix_gen, size, methods):\n",
    "    matrix, column = matrix_gen(size), gen_right_column(size)\n",
    "    print(f'Тест для матрицы {matrix} и столбца {column}')\n",
    "    for method in methods:\n",
    "        print(f'Результат выполнения метода {method.__name__}:')\n",
    "        res = _test(method, matrix, column)\n",
    "        check = _check_ans(matrix, column, res, size)\n",
    "        if check:\n",
    "            print(f'{res}. Погрешность не больше {EPSILON}\\n')\n",
    "        else:\n",
    "            print(f'разошлось: matrix * res = {np.matmul(matrix, res)}\\n ожидаемый столбец = {column}\\n')\n",
    "\n",
    "def _get_methods():\n",
    "#     return [zeidelMethod]\n",
    "    return [zeidelMethod]\n",
    "\n",
    "def testDiagMatrix(size):\n",
    "    _testAll(diag_matrix, size, _get_methods())\n",
    "\n",
    "def testHilbertMatrix(size):\n",
    "    _testAll(hilbert_matrix, size, _get_methods())\n",
    "    \n",
    "def testRandMatrix(size):\n",
    "    _testAll(rand_matrix, size, _get_methods())"
   ]
  },
  {
   "cell_type": "code",
   "execution_count": 138,
   "metadata": {},
   "outputs": [
    {
     "name": "stdout",
     "output_type": "stream",
     "text": [
      "Тест для матрицы [[71.41718103  8.59128324  9.95692832  2.04917463  6.37724689  8.32026971\n",
      "   8.33155005  7.27852556  1.71338605  8.66861602]\n",
      " [ 0.83262648 38.12661865  3.33673072  0.81420212  7.44792787  5.40098742\n",
      "   7.78881026  0.8277912   2.82052054  1.77235023]\n",
      " [ 4.30167239  3.46565616 48.24435352  9.47624114  1.88853132  5.93445324\n",
      "   8.31854337  3.27173655  0.2758333   5.96378975]\n",
      " [ 4.87958621  4.21739637  1.12953693 43.3803324   7.43043194  1.95671913\n",
      "   5.65907603  3.0521435   7.71838916  1.95582393]\n",
      " [ 1.0634845   4.0269046   1.39846909  9.09565036 45.50448414  5.07616854\n",
      "   5.30295674  5.72107344  9.33760205  0.91287676]\n",
      " [ 1.20013511  1.77723173  9.35988469  6.86706459  7.13683471 44.20700634\n",
      "   3.4760208   2.46603527  3.08834972  4.22436778]\n",
      " [ 2.6190947   0.4137906   4.15599722  1.03983742  0.30124771  0.89617718\n",
      "  39.81110584  8.90126413  6.18423152  9.52807673]\n",
      " [ 4.80574387  9.45525265  4.65705297  9.10566697  4.008688    0.97902886\n",
      "   3.39128321 53.24289354  7.79234455  2.15460292]\n",
      " [ 5.39336452  2.90695943  9.14340009  8.97900156  5.40899418  9.36440698\n",
      "   4.35131172  6.98682689 64.90756594  8.15314086]\n",
      " [ 9.47820533  9.13732153  6.0726308   9.6849865   2.80246053  8.80723238\n",
      "   8.91556963  1.30210554  9.5720065  68.287992  ]] и столбца [0.74843079 0.03638932 0.57794145 0.397763   0.13480451 0.36370136\n",
      " 0.72924855 0.83110677 0.59557993 0.3827134 ]\n",
      "Результат выполнения метода zeidelMethod:\n",
      "[0.006474935002956571, -0.0033184917454377578, 0.006893284969431253, 0.005425939413345213, -0.0027097672936070333, 0.004191315208903625, 0.013298642098479115, 0.012699036067005174, 0.004332945895758982, 0.0007520930618226821]. Погрешность не больше 0.01\n",
      "\n"
     ]
    }
   ],
   "source": [
    "testDiagMatrix(10)"
   ]
  },
  {
   "cell_type": "code",
   "execution_count": 153,
   "metadata": {},
   "outputs": [
    {
     "name": "stdout",
     "output_type": "stream",
     "text": [
      "Тест для матрицы [[0.50446668 0.19609664 0.33127545 0.5446996  0.84737595]\n",
      " [0.75952257 0.33059246 0.68385996 0.32211936 0.23642307]\n",
      " [0.95127773 0.64752087 0.7978051  0.16064549 0.28351937]\n",
      " [0.26130678 0.2281669  0.43451397 0.53296546 0.79266664]\n",
      " [0.62104982 0.21506074 0.03111344 0.3614849  0.2450502 ]] и столбца [0.21686325 0.48939803 0.90480311 0.38277427 0.38028362]\n",
      "Результат выполнения метода zeidelMethod:\n"
     ]
    },
    {
     "name": "stderr",
     "output_type": "stream",
     "text": [
      "/home/kranya/.local/lib/python3.6/site-packages/ipykernel_launcher.py:2: RuntimeWarning: overflow encountered in double_scalars\n",
      "  \n",
      "/home/kranya/.local/lib/python3.6/site-packages/ipykernel_launcher.py:11: RuntimeWarning: overflow encountered in double_scalars\n",
      "  # This is added back by InteractiveShellApp.init_path()\n",
      "/home/kranya/.local/lib/python3.6/site-packages/ipykernel_launcher.py:11: RuntimeWarning: invalid value encountered in double_scalars\n",
      "  # This is added back by InteractiveShellApp.init_path()\n",
      "/home/kranya/.local/lib/python3.6/site-packages/ipykernel_launcher.py:12: RuntimeWarning: invalid value encountered in double_scalars\n",
      "  if sys.path[0] == '':\n"
     ]
    },
    {
     "name": "stdout",
     "output_type": "stream",
     "text": [
      "разошлось: matrix * res = [nan nan nan nan nan]\n",
      " ожидаемый столбец = [0.21686325 0.48939803 0.90480311 0.38277427 0.38028362]\n",
      "\n"
     ]
    }
   ],
   "source": [
    "testRandMatrix(5)"
   ]
  },
  {
   "cell_type": "code",
   "execution_count": 154,
   "metadata": {},
   "outputs": [
    {
     "name": "stdout",
     "output_type": "stream",
     "text": [
      "Тест для матрицы [[1.         0.5        0.33333333 0.25       0.2       ]\n",
      " [0.5        0.33333333 0.25       0.2        0.16666667]\n",
      " [0.33333333 0.25       0.2        0.16666667 0.14285714]\n",
      " [0.25       0.2        0.16666667 0.14285714 0.125     ]\n",
      " [0.2        0.16666667 0.14285714 0.125      0.11111111]] и столбца [0.67163184 0.98302519 0.09482516 0.76702098 0.37585547]\n",
      "Результат выполнения метода zeidelMethod:\n",
      "[-1015.3715259708408, 18602.556245383825, -79220.25727471747, 118606.03018019565, -57649.95037872565]. Погрешность не больше 0.01\n",
      "\n"
     ]
    }
   ],
   "source": [
    "testHilbertMatrix(5)"
   ]
  },
  {
   "cell_type": "code",
   "execution_count": null,
   "metadata": {},
   "outputs": [],
   "source": []
  }
 ],
 "metadata": {
  "kernelspec": {
   "display_name": "Python 3",
   "language": "python",
   "name": "python3"
  },
  "language_info": {
   "codemirror_mode": {
    "name": "ipython",
    "version": 3
   },
   "file_extension": ".py",
   "mimetype": "text/x-python",
   "name": "python",
   "nbconvert_exporter": "python",
   "pygments_lexer": "ipython3",
   "version": "3.6.9"
  }
 },
 "nbformat": 4,
 "nbformat_minor": 2
}
