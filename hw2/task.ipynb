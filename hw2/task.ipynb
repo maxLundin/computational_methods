{
 "cells": [
  {
   "cell_type": "code",
   "execution_count": 8,
   "metadata": {
    "pycharm": {
     "is_executing": false
    }
   },
   "outputs": [],
   "source": [
    "import math\n",
    "import numpy as np"
   ]
  },
  {
   "cell_type": "code",
   "execution_count": 9,
   "metadata": {},
   "outputs": [],
   "source": [
    "EPS = 1e-7\n",
    "ITERATIONS = 200000"
   ]
  },
  {
   "cell_type": "code",
   "execution_count": 10,
   "metadata": {
    "pycharm": {
     "is_executing": false,
     "metadata": false,
     "name": "#%%\n"
    }
   },
   "outputs": [],
   "source": [
    "def _format_matrix(min, max, size):\n",
    "    return np.array((max - min) * np.random.random((size, size)) + min, dtype=np.float64)\n",
    "    \n",
    "def rand_matrix(size):\n",
    "    A = np.array(np.random.rand(size, size), dtype=np.float64)\n",
    "    A = np.tril(A) + np.tril(A, -1).T\n",
    "    return A.T * A\n",
    "\n",
    "def diag_matrix(size):\n",
    "    A = _format_matrix(0.0, 10.0, size)\n",
    "    for i in range(size):\n",
    "        A[i, i] = sum(A[i]) + 1\n",
    "    return A\n",
    "\n",
    "def hilbert_matrix(size):\n",
    "    ans = np.array(np.zeros((size, size)), dtype=np.float64)\n",
    "    for i in range(size):\n",
    "        for j in range(size):\n",
    "            ans[i, j] = 1.0 / (i + j + 1)\n",
    "    return ans\n",
    "\n",
    "def gen_right_column(size):\n",
    "    return np.array(np.random.random(size), dtype=np.float64)"
   ]
  },
  {
   "cell_type": "code",
   "execution_count": 11,
   "metadata": {},
   "outputs": [],
   "source": [
    "def equalVector(a, b, eps):\n",
    "    return math.sqrt(sum([(a[i] - b[i])**2 for i in range(len(a))])) < eps"
   ]
  },
  {
   "cell_type": "code",
   "execution_count": 12,
   "metadata": {},
   "outputs": [],
   "source": [
    "def zeidelMethod(A, b):\n",
    "    n = len(A)\n",
    "    x = [.0 for i in range(n)]\n",
    "    xn = [100 for i in range(n)]\n",
    "    \n",
    "    curIterations = 0\n",
    "    while not equalVector(x, xn, EPS) and curIterations < ITERATIONS:\n",
    "        x = np.copy(xn)\n",
    "        curIterations += 1\n",
    "        for i in range(n):\n",
    "            s1 = - sum(A[i][j] * xn[j] for j in range(i)) / A[i][i]\n",
    "            s2 = - sum(A[i][j] * x[j] for j in range(i + 1, n)) / A[i][i]\n",
    "            xn[i] = (b[i] / A[i][i] + s1 + s2)\n",
    "            \n",
    "    print(\"Iterations = \", curIterations)\n",
    "    return xn"
   ]
  },
  {
   "cell_type": "code",
   "execution_count": 13,
   "metadata": {},
   "outputs": [],
   "source": [
    "def zeidelMethodRelax(A, b):\n",
    "    n = len(A)\n",
    "    x = [.0 for i in range(n)]\n",
    "    xn = [100 for i in range(n)]\n",
    "    Relax = 1.6\n",
    "    curIterations = 0\n",
    "    while not equalVector(x, xn, EPS) and curIterations < ITERATIONS:\n",
    "        x = np.copy(xn)\n",
    "        curIterations += 1\n",
    "        for i in range(n):\n",
    "            s1 = - sum(A[i][j] * xn[j] for j in range(i)) / A[i][i]\n",
    "            s2 = - sum(A[i][j] * x[j] for j in range(i + 1, n)) / A[i][i]\n",
    "            xn[i] = (b[i] / A[i][i] + s1 + s2)\n",
    "            xn[i] = Relax * xn[i] + (1 - Relax) * x[i]\n",
    "            \n",
    "    print(\"Iterations = \", curIterations)\n",
    "    return xn"
   ]
  },
  {
   "cell_type": "code",
   "execution_count": 49,
   "metadata": {},
   "outputs": [],
   "source": [
    "def gaussingMethod(A, b) :\n",
    "    n = len(A)\n",
    "    m = len(A[0])\n",
    "    where = [-1 for x in range(m)]\n",
    "    col = 0\n",
    "    row = 0\n",
    "    while col<m and row<n :\n",
    "        sel = row\n",
    "        for i in range(row, n) :\n",
    "            if (abs(A[i][col]) > abs(A[sel][col])) :\n",
    "                sel = i\n",
    "        if (abs(A[sel][col]) < EPS) :\n",
    "            col += 1\n",
    "            continue\n",
    "        for i in range(col, m) :\n",
    "            A[sel][i], A[row][i] = A[row][i], A[sel][i]\n",
    "        b[sel], b[row] = b[row], b[sel]\n",
    "        where[col] = row\n",
    "        \n",
    "        for i in range(n) :\n",
    "            if i != row :\n",
    "                c = A[i][col] / A[row][col]\n",
    "                for j in range(col, m) :\n",
    "                    A[i][j] -= A[row][j] * c\n",
    "                b[i] -= b[row] * c  \n",
    "        col += 1\n",
    "        row += 1\n",
    "        \n",
    "    ans = [0 for x in range(m)]\n",
    "    for i in range (m) :\n",
    "        if where[i] != -1 :\n",
    "            ans[i] = b[where[i]] / A[where[i]][i]\n",
    "    for i in range (n) :\n",
    "        sum = 0\n",
    "        for j in range (m) :\n",
    "            sum += ans[j] * A[i][j]\n",
    "    return ans"
   ]
  },
  {
   "cell_type": "code",
   "execution_count": 50,
   "metadata": {},
   "outputs": [],
   "source": [
    "def _test(method, matrix, column):\n",
    "    return method(matrix, column)\n",
    "\n",
    "def _check_eps(a, b, eps):\n",
    "    return abs(a - b) < eps\n",
    "EPSILON = 1e-2\n",
    "def _check_ans(matrix, column, res, size):\n",
    "    eps = EPSILON\n",
    "    c = np.matmul(matrix, res)\n",
    "    for i in range(size):\n",
    "        if not _check_eps(c[i], column[i], eps):\n",
    "            return False\n",
    "    return True\n",
    "\n",
    "def _testAll(matrix_gen, size, methods):\n",
    "    matrix, column = matrix_gen(size), gen_right_column(size)\n",
    "    print(f'Тест для матрицы {matrix} и столбца {column}')\n",
    "    for method in methods:\n",
    "        print(f'Результат выполнения метода {method.__name__}:')\n",
    "        res = _test(method, matrix, column)\n",
    "        check = _check_ans(matrix, column, res, size)\n",
    "        if check:\n",
    "            print(f'{res}. Погрешность не больше {EPSILON}\\n')\n",
    "        else:\n",
    "            print(f'разошлось: matrix * res = {np.matmul(matrix, res)}\\n ожидаемый столбец = {column}\\n')\n",
    "\n",
    "def _get_methods():\n",
    "    return [zeidelMethod, zeidelMethodRelax, gaussingMethod]\n",
    "\n",
    "def testDiagMatrix(size):\n",
    "    _testAll(diag_matrix, size, _get_methods())\n",
    "\n",
    "def testHilbertMatrix(size):\n",
    "    _testAll(hilbert_matrix, size, _get_methods())\n",
    "    \n",
    "def testRandMatrix(size):\n",
    "    _testAll(rand_matrix, size, _get_methods())"
   ]
  },
  {
   "cell_type": "code",
   "execution_count": 51,
   "metadata": {},
   "outputs": [
    {
     "name": "stdout",
     "output_type": "stream",
     "text": [
      "Тест для матрицы [[44.62712166  4.51377357  5.03843335  0.95362166  9.26368194  2.38038724\n",
      "   9.0799795   0.28210302  5.90729108  0.19138213]\n",
      " [ 6.11249621 54.99742349  9.53815859  2.71470049  1.75936089  3.57477987\n",
      "   7.20071099  9.39601656  0.93532389  4.50943966]\n",
      " [ 6.44115265  5.80957837 51.63354338  4.64576859  4.01550661  6.36256034\n",
      "   5.2458284   2.07922999  3.42372542  6.29226668]\n",
      " [ 6.39012309  1.2797045   4.13008254 41.03777032  2.19641135  6.65222493\n",
      "   8.31265652  2.14732249  2.48554979  2.62024177]\n",
      " [ 0.64590913  2.29380842  9.98078175  3.3503148  42.03905544  8.21382834\n",
      "   1.37924934  6.74893199  5.15283995  0.37902263]\n",
      " [ 5.9439523   9.02968451  2.88890686  8.28719114  7.45275378 54.15322242\n",
      "   7.22685027  1.64596968  3.22570116  5.68025268]\n",
      " [ 0.11832737  0.65023377  2.1409168   7.64491881  8.77854649  1.81733492\n",
      "  36.27298729  7.85956972  1.47372038  4.20210983]\n",
      " [ 0.92116463  1.90232578  6.15174905  6.24608042  5.02266052  9.12363213\n",
      "   6.62698861 57.37377324  8.19941159  6.76336088]\n",
      " [ 7.8473828   4.08300839  5.21470729  1.04335536  4.29582821  2.15376768\n",
      "   5.69264841  9.44823077 47.33542247  0.23475235]\n",
      " [ 1.80090345  8.81399275  4.27396002  4.82521352  6.00300935  0.98060386\n",
      "   8.3795766   8.03582259  7.57244412 53.31586822]] и столбца [0.26989525 0.22308678 0.66614075 0.68396813 0.30304006 0.98754958\n",
      " 0.93051807 0.48127402 0.90862917 0.97839514]\n",
      "Результат выполнения метода zeidelMethod:\n",
      "Iterations =  14\n",
      "[-0.001797671901994197, -0.0018806538470944054, 0.006482078785907781, 0.008449994310254047, 0.00020862577165770436, 0.012116776092314655, 0.021115492289846417, -0.0011717354289506178, 0.01582114381029696, 0.011802669563232119]. Погрешность не больше 0.01\n",
      "\n",
      "Результат выполнения метода zeidelMethodRelax:\n",
      "Iterations =  63\n",
      "[-0.0017976891051938349, -0.0018806458042507454, 0.006482090792937689, 0.008450008922198472, 0.00020861201356499415, 0.012116787046338753, 0.02111549012078134, -0.0011717384638872648, 0.015821158659538252, 0.011802666029250824]. Погрешность не больше 0.01\n",
      "\n",
      "Результат выполнения метода gaussingMethod:\n",
      "[-0.0017976839220663183, -0.0018806580623411465, 0.006482079991298363, 0.008449998079181708, 0.00020863107696269826, 0.01211677886728058, 0.021115493991116355, -0.001171732740079601, 0.01582114466908786, 0.01180266878536193]. Погрешность не больше 0.01\n",
      "\n"
     ]
    }
   ],
   "source": [
    "testDiagMatrix(10)"
   ]
  },
  {
   "cell_type": "code",
   "execution_count": 52,
   "metadata": {
    "scrolled": true
   },
   "outputs": [
    {
     "name": "stdout",
     "output_type": "stream",
     "text": [
      "Тест для матрицы [[0.63537908 0.28309394 0.05033042 0.07792131]\n",
      " [0.28309394 0.50839381 0.84415231 0.86062795]\n",
      " [0.05033042 0.84415231 0.13992388 0.73829609]\n",
      " [0.07792131 0.86062795 0.73829609 0.48698314]] и столбца [0.71869555 0.61554369 0.99315219 0.30792498]\n",
      "Результат выполнения метода zeidelMethod:\n"
     ]
    },
    {
     "name": "stderr",
     "output_type": "stream",
     "text": [
      "/home/anka/anaconda3/lib/python3.7/site-packages/ipykernel_launcher.py:2: RuntimeWarning: overflow encountered in double_scalars\n",
      "  \n",
      "/home/anka/anaconda3/lib/python3.7/site-packages/ipykernel_launcher.py:12: RuntimeWarning: overflow encountered in double_scalars\n",
      "  if sys.path[0] == '':\n",
      "/home/anka/anaconda3/lib/python3.7/site-packages/ipykernel_launcher.py:12: RuntimeWarning: invalid value encountered in double_scalars\n",
      "  if sys.path[0] == '':\n"
     ]
    },
    {
     "name": "stdout",
     "output_type": "stream",
     "text": [
      "Iterations =  200000\n",
      "разошлось: matrix * res = [nan nan nan nan]\n",
      " ожидаемый столбец = [0.71869555 0.61554369 0.99315219 0.30792498]\n",
      "\n",
      "Результат выполнения метода zeidelMethodRelax:\n"
     ]
    },
    {
     "name": "stderr",
     "output_type": "stream",
     "text": [
      "/home/anka/anaconda3/lib/python3.7/site-packages/ipykernel_launcher.py:11: RuntimeWarning: overflow encountered in double_scalars\n",
      "  # This is added back by InteractiveShellApp.init_path()\n",
      "/home/anka/anaconda3/lib/python3.7/site-packages/ipykernel_launcher.py:13: RuntimeWarning: invalid value encountered in double_scalars\n",
      "  del sys.path[0]\n"
     ]
    },
    {
     "name": "stdout",
     "output_type": "stream",
     "text": [
      "Iterations =  200000\n",
      "разошлось: matrix * res = [nan nan nan nan]\n",
      " ожидаемый столбец = [0.71869555 0.61554369 0.99315219 0.30792498]\n",
      "\n",
      "Результат выполнения метода gaussingMethod:\n",
      "[0.890059681277676, 0.4195833437199731, -0.7963555382215995, 0.9557033125101474]. Погрешность не больше 0.01\n",
      "\n"
     ]
    }
   ],
   "source": [
    "testRandMatrix(4)"
   ]
  },
  {
   "cell_type": "code",
   "execution_count": 53,
   "metadata": {},
   "outputs": [
    {
     "name": "stdout",
     "output_type": "stream",
     "text": [
      "Тест для матрицы [[1.         0.5        0.33333333 0.25       0.2       ]\n",
      " [0.5        0.33333333 0.25       0.2        0.16666667]\n",
      " [0.33333333 0.25       0.2        0.16666667 0.14285714]\n",
      " [0.25       0.2        0.16666667 0.14285714 0.125     ]\n",
      " [0.2        0.16666667 0.14285714 0.125      0.11111111]] и столбца [0.30394191 0.45578112 0.13113997 0.55401545 0.07549049]\n",
      "Результат выполнения метода zeidelMethod:\n",
      "Iterations =  200000\n",
      "[-719.3414472360529, 13555.839522936973, -58744.626979064655, 89006.39162451038, -43641.64972660375]. Погрешность не больше 0.01\n",
      "\n",
      "Результат выполнения метода zeidelMethodRelax:\n",
      "Iterations =  109027\n",
      "[-719.5014397932699, 13558.776481278408, -58757.13946682608, 89025.12479250703, -43650.75450725804]. Погрешность не больше 0.01\n",
      "\n",
      "Результат выполнения метода gaussingMethod:\n",
      "[-719.5014439508767, 13558.776553541687, -58757.139763797815, 89025.12522576516, -43650.75471375027]. Погрешность не больше 0.01\n",
      "\n"
     ]
    }
   ],
   "source": [
    "testHilbertMatrix(5)"
   ]
  },
  {
   "cell_type": "code",
   "execution_count": null,
   "metadata": {},
   "outputs": [],
   "source": []
  },
  {
   "cell_type": "code",
   "execution_count": null,
   "metadata": {},
   "outputs": [],
   "source": []
  }
 ],
 "metadata": {
  "kernelspec": {
   "display_name": "Python 3",
   "language": "python",
   "name": "python3"
  },
  "language_info": {
   "codemirror_mode": {
    "name": "ipython",
    "version": 3
   },
   "file_extension": ".py",
   "mimetype": "text/x-python",
   "name": "python",
   "nbconvert_exporter": "python",
   "pygments_lexer": "ipython3",
   "version": "3.7.4"
  }
 },
 "nbformat": 4,
 "nbformat_minor": 2
}
