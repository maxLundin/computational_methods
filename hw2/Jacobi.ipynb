{
 "cells": [
  {
   "cell_type": "code",
   "execution_count": 1,
   "metadata": {},
   "outputs": [],
   "source": [
    "import math\n",
    "import numpy as np\n",
    "from numpy import linalg as LA"
   ]
  },
  {
   "cell_type": "code",
   "execution_count": 2,
   "metadata": {},
   "outputs": [],
   "source": [
    "EPS = 1e-9\n",
    "ITERATIONS = 200000"
   ]
  },
  {
   "cell_type": "code",
   "execution_count": 3,
   "metadata": {},
   "outputs": [],
   "source": [
    "def jacobiMethod(A, b):\n",
    "    k = 1\n",
    "    n = len(A)\n",
    "    x0 = np.zeros(n)\n",
    "    \n",
    "    m = np.linalg.eigvals(A)\n",
    "    maxV = np.max(m)\n",
    "    minV = np.min(m)\n",
    "    t = 1\n",
    "    if (minV != 0):\n",
    "        t = 2 / (maxV + minV)\n",
    "        A = t * A\n",
    "        b = t * b\n",
    "    print(f\"Jacobi correction coefficient = {t}\")\n",
    "    eA = np.eye(n) - A\n",
    "    bNorm = LA.norm(eA, 2)\n",
    "    coef = (1 - bNorm)/bNorm\n",
    "    print(f\"||B|| is {bNorm}\")\n",
    "    print(f\"Поправочный коэффициент = (1 - ||B||)/(||B||) = {coef}\")\n",
    "    while k < ITERATIONS:\n",
    "        x = np.zeros(n)\n",
    "        for i in range(n):\n",
    "            for j in range(n):\n",
    "                if j != i:\n",
    "                    x[i] -= A[i,j] * x0[j]\n",
    "            x[i] = (x[i] + b[i]) / A[i][i]\n",
    "        if np.linalg.norm(x - x0) < EPS * coef:\n",
    "            break\n",
    "        k += 1;\n",
    "        x0 = np.copy(x)\n",
    "    print(f\"Jacobi Iterations = {k}. Max is {ITERATIONS} iterations.\")\n",
    "    return x0"
   ]
  },
  {
   "cell_type": "markdown",
   "metadata": {},
   "source": [
    "Был реализован метод Якоби, который принимает систему уравнений в виде матрицы коэффицентов и вектора ответов. В качестве максимального количества итераций было выбрано 20000, а желаемая точность ответа 1e-9. \n",
    "Критерии остановки метода Якоби - по близости двух последовательных приближений. Если по результатам максимального количества итераций ответ не достиг нужной точности, считается, что он расходится. Абсолютная погрешность не более 1e-9. Вводится поправочный коэффициент\n",
    "1−||𝐵||/||𝐵||, где ||B|| - спектральная норма."
   ]
  },
  {
   "cell_type": "markdown",
   "metadata": {},
   "source": [
    "Метод Якоби сошелся только на матрице с диагональным преобладанием. Во всех других случаях метод не сошелся."
   ]
  },
  {
   "cell_type": "code",
   "execution_count": null,
   "metadata": {},
   "outputs": [],
   "source": []
  }
 ],
 "metadata": {
  "kernelspec": {
   "display_name": "Python 3",
   "language": "python",
   "name": "python3"
  },
  "language_info": {
   "codemirror_mode": {
    "name": "ipython",
    "version": 3
   },
   "file_extension": ".py",
   "mimetype": "text/x-python",
   "name": "python",
   "nbconvert_exporter": "python",
   "pygments_lexer": "ipython3",
   "version": "3.7.0"
  }
 },
 "nbformat": 4,
 "nbformat_minor": 2
}
