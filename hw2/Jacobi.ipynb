{
 "cells": [
  {
   "cell_type": "code",
   "execution_count": 1,
   "metadata": {},
   "outputs": [],
   "source": [
    "import math\n",
    "import numpy as np"
   ]
  },
  {
   "cell_type": "code",
   "execution_count": null,
   "metadata": {},
   "outputs": [],
   "source": [
    "EPS = 1e-7\n",
    "ITERATIONS = 200000"
   ]
  },
  {
   "cell_type": "code",
   "execution_count": 3,
   "metadata": {},
   "outputs": [],
   "source": [
    "def jacobiMethod(A, b):\n",
    "    k = 1\n",
    "    n = len(A)\n",
    "    x0 = np.zeros(n)\n",
    "    \n",
    "    while k <= ITERATIONS:\n",
    "        x = np.zeros(n)\n",
    "        for i in range(n):\n",
    "            for j in range(n):\n",
    "                if j != i:\n",
    "                    x[i] -= A[i,j] * x0[j]\n",
    "            x[i] = (x[i] + b[i]) / A[i][i]\n",
    "        if np.linalg.norm(x - x0) < EPS:\n",
    "            break\n",
    "        k += 1;\n",
    "        x0 = np.copy(x)\n",
    "    print(\"Iterations = \", k)\n",
    "    return x0"
   ]
  },
  {
   "cell_type": "code",
   "execution_count": null,
   "metadata": {},
   "outputs": [],
   "source": []
  }
 ],
 "metadata": {
  "kernelspec": {
   "display_name": "Python 3",
   "language": "python",
   "name": "python3"
  },
  "language_info": {
   "codemirror_mode": {
    "name": "ipython",
    "version": 3
   },
   "file_extension": ".py",
   "mimetype": "text/x-python",
   "name": "python",
   "nbconvert_exporter": "python",
   "pygments_lexer": "ipython3",
   "version": "3.6.9"
  }
 },
 "nbformat": 4,
 "nbformat_minor": 2
}
