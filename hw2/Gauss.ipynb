{
 "cells": [
  {
   "cell_type": "code",
   "execution_count": 1,
   "metadata": {
    "scrolled": true
   },
   "outputs": [],
   "source": [
    "EPS = 1e-7\n",
    "\n",
    "def gaussMethod(A, b) :\n",
    "    n = len(A)\n",
    "    m = len(A[0])\n",
    "    where = [-1 for x in range(m)]\n",
    "    col = 0\n",
    "    row = 0\n",
    "    while col<m and row<n :\n",
    "        sel = row\n",
    "        for i in range(row, n) :\n",
    "            if (abs(A[i][col]) > abs(A[sel][col])) :\n",
    "                sel = i\n",
    "        if (abs(A[sel][col]) < EPS) :\n",
    "            col += 1\n",
    "            continue\n",
    "        for i in range(col, m) :\n",
    "            A[sel][i], A[row][i] = A[row][i], A[sel][i]\n",
    "        b[sel], b[row] = b[row], b[sel]\n",
    "        where[col] = row\n",
    "        \n",
    "        for i in range(n) :\n",
    "            if i != row :\n",
    "                c = A[i][col] / A[row][col]\n",
    "                for j in range(col, m) :\n",
    "                    A[i][j] -= A[row][j] * c\n",
    "                b[i] -= b[row] * c  \n",
    "        col += 1\n",
    "        row += 1\n",
    "        \n",
    "    ans = [0 for x in range(m)]\n",
    "    for i in range (m) :\n",
    "        if where[i] != -1 :\n",
    "            ans[i] = b[where[i]] / A[where[i]][i]\n",
    "    for i in range (n) :\n",
    "        sum = 0\n",
    "        for j in range (m) :\n",
    "            sum += ans[j] * A[i][j]\n",
    "    return ans"
   ]
  },
  {
   "cell_type": "code",
   "execution_count": null,
   "metadata": {},
   "outputs": [],
   "source": []
  }
 ],
 "metadata": {
  "kernelspec": {
   "display_name": "Python 3",
   "language": "python",
   "name": "python3"
  },
  "language_info": {
   "codemirror_mode": {
    "name": "ipython",
    "version": 3
   },
   "file_extension": ".py",
   "mimetype": "text/x-python",
   "name": "python",
   "nbconvert_exporter": "python",
   "pygments_lexer": "ipython3",
   "version": "3.7.4"
  }
 },
 "nbformat": 4,
 "nbformat_minor": 2
}
