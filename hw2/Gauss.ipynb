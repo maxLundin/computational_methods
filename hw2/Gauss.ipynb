{
 "cells": [
  {
   "cell_type": "markdown",
   "metadata": {},
   "source": [
    "# Метод Гаусса\n",
    "\n",
    "1. В текущей колонке, ниже текущей строки ищем наибольший по модулю элемент - опорный элемент\n",
    "    1. Если он близок к нулю, то переходим к следующей колонке\n",
    "    2. Иначе продолжаем\n",
    "2. Меняем местами текущую строку со строкой, в которой опорный элемент. Запоминаем что мы поменяли.\n",
    "3. Вычитаем текущую строку из всех остальных с коэффициентом, который занулит текущую колонку (кроме опорного элемента)\n",
    "4. Переходим к следующей строке и следующей колонке и повторяем с шага 1.\n",
    "\n",
    "После этого на главной диагонали будут коэффициенты системы уравнений следующего вида:\n",
    "$$\\left\\{\n",
    "\\begin{array}{ll}\n",
    "      a_{0,0}x_{p_0} = b_{0} \\\\\n",
    "      a_{1,1}x_{p_1} = b_{1} \\\\\n",
    "      ... \\\\\n",
    "      a_{n,n}x_{p_n} = b_{n} \\\\\n",
    "\\end{array} \n",
    "\\right.$$\n",
    "\n",
    "Которая эквивалентна исходной системе и решается очевидным образом.\n",
    "Теперь необходимо подставить полученные значения в систему и удостовериться, что решение правильное."
   ]
  },
  {
   "cell_type": "code",
   "execution_count": 1,
   "metadata": {
    "scrolled": true
   },
   "outputs": [],
   "source": [
    "EPS = 1e-7\n",
    "\n",
    "def gaussMethod(A, b) :\n",
    "    n = len(A)\n",
    "    m = len(A[0])\n",
    "    where = [-1 for x in range(m)]\n",
    "    col = 0\n",
    "    row = 0\n",
    "    while col<m and row<n :\n",
    "        sel = row\n",
    "        for i in range(row, n) :\n",
    "            if (abs(A[i][col]) > abs(A[sel][col])) :\n",
    "                sel = i\n",
    "        if (abs(A[sel][col]) < EPS) :\n",
    "            col += 1\n",
    "            continue\n",
    "        for i in range(col, m) :\n",
    "            A[sel][i], A[row][i] = A[row][i], A[sel][i]\n",
    "        b[sel], b[row] = b[row], b[sel]\n",
    "        where[col] = row\n",
    "        \n",
    "        for i in range(n) :\n",
    "            if i != row :\n",
    "                c = A[i][col] / A[row][col]\n",
    "                for j in range(col, m) :\n",
    "                    A[i][j] -= A[row][j] * c\n",
    "                b[i] -= b[row] * c  \n",
    "        col += 1\n",
    "        row += 1\n",
    "    ans = [0 for x in range(m)]\n",
    "    for i in range (m) :\n",
    "        if where[i] != -1 :\n",
    "            ans[i] = b[where[i]] / A[where[i]][i]\n",
    "    return ans"
   ]
  },
  {
   "cell_type": "code",
   "execution_count": null,
   "metadata": {},
   "outputs": [],
   "source": []
  }
 ],
 "metadata": {
  "kernelspec": {
   "display_name": "Python 3",
   "language": "python",
   "name": "python3"
  },
  "language_info": {
   "codemirror_mode": {
    "name": "ipython",
    "version": 3
   },
   "file_extension": ".py",
   "mimetype": "text/x-python",
   "name": "python",
   "nbconvert_exporter": "python",
   "pygments_lexer": "ipython3",
   "version": "3.7.6"
  }
 },
 "nbformat": 4,
 "nbformat_minor": 2
}
