{
 "cells": [
  {
   "cell_type": "code",
   "execution_count": 28,
   "metadata": {
    "pycharm": {
     "is_executing": false
    }
   },
   "outputs": [],
   "source": [
    "import math\n",
    "import numpy as np"
   ]
  },
  {
   "cell_type": "code",
   "execution_count": 29,
   "metadata": {},
   "outputs": [],
   "source": [
    "EPS = 1e-7\n",
    "ITERATIONS = 200000"
   ]
  },
  {
   "cell_type": "code",
   "execution_count": 30,
   "metadata": {},
   "outputs": [],
   "source": [
    "def equalVector(a, b, eps):\n",
    "    return math.sqrt(sum([(a[i] - b[i])**2 for i in range(len(a))])) < eps"
   ]
  },
  {
   "cell_type": "code",
   "execution_count": 31,
   "metadata": {},
   "outputs": [],
   "source": [
    "def zeidelMethod(A, b):\n",
    "    n = len(A)\n",
    "    x = [.0 for i in range(n)]\n",
    "    xn = [100 for i in range(n)]\n",
    "    \n",
    "    curIterations = 0\n",
    "    while not equalVector(x, xn, EPS) and curIterations < ITERATIONS:\n",
    "        x = np.copy(xn)\n",
    "        curIterations += 1\n",
    "        for i in range(n):\n",
    "            s1 = - sum(A[i][j] * xn[j] for j in range(i)) / A[i][i]\n",
    "            s2 = - sum(A[i][j] * x[j] for j in range(i + 1, n)) / A[i][i]\n",
    "            xn[i] = (b[i] / A[i][i] + s1 + s2)\n",
    "            \n",
    "    print(\"Iterations = \", curIterations)\n",
    "    return xn"
   ]
  },
  {
   "cell_type": "code",
   "execution_count": 32,
   "metadata": {},
   "outputs": [],
   "source": [
    "def zeidelMethodRelax(A, b):\n",
    "    n = len(A)\n",
    "    x = [.0 for i in range(n)]\n",
    "    xn = [100 for i in range(n)]\n",
    "    Relax = 1.6\n",
    "    curIterations = 0\n",
    "    while not equalVector(x, xn, EPS) and curIterations < ITERATIONS:\n",
    "        x = np.copy(xn)\n",
    "        curIterations += 1\n",
    "        for i in range(n):\n",
    "            s1 = - sum(A[i][j] * xn[j] for j in range(i)) / A[i][i]\n",
    "            s2 = - sum(A[i][j] * x[j] for j in range(i + 1, n)) / A[i][i]\n",
    "            xn[i] = (b[i] / A[i][i] + s1 + s2)\n",
    "            xn[i] = Relax * xn[i] + (1 - Relax) * x[i]\n",
    "            \n",
    "    print(\"Iterations = \", curIterations)\n",
    "    return xn"
   ]
  },
  {
   "cell_type": "code",
   "execution_count": null,
   "metadata": {},
   "outputs": [],
   "source": []
  }
 ],
 "metadata": {
  "kernelspec": {
   "display_name": "Python 3",
   "language": "python",
   "name": "python3"
  },
  "language_info": {
   "codemirror_mode": {
    "name": "ipython",
    "version": 3
   },
   "file_extension": ".py",
   "mimetype": "text/x-python",
   "name": "python",
   "nbconvert_exporter": "python",
   "pygments_lexer": "ipython3",
   "version": "3.7.4"
  }
 },
 "nbformat": 4,
 "nbformat_minor": 2
}
