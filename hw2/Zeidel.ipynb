{
 "cells": [
  {
   "cell_type": "code",
   "execution_count": 1,
   "metadata": {
    "pycharm": {
     "is_executing": false
    }
   },
   "outputs": [],
   "source": [
    "import math\n",
    "import numpy as np\n",
    "from numpy import linalg as LA"
   ]
  },
  {
   "cell_type": "code",
   "execution_count": 2,
   "metadata": {},
   "outputs": [],
   "source": [
    "EPS_ZEIDEL = 1e-9\n",
    "ITERATIONS_ZEIDEL = 200000"
   ]
  },
  {
   "cell_type": "code",
   "execution_count": 3,
   "metadata": {},
   "outputs": [],
   "source": [
    "def equalVector(a, b, eps):\n",
    "    return math.sqrt(sum([(a[i] - b[i])**2 for i in range(len(a))])) < eps"
   ]
  },
  {
   "cell_type": "code",
   "execution_count": 4,
   "metadata": {},
   "outputs": [],
   "source": [
    "def getLambdas(A):\n",
    "    m = LA.eigvals(A)\n",
    "    maxV = np.max(m)\n",
    "    minV = np.min(m)\n",
    "    return (maxV, minV)"
   ]
  },
  {
   "cell_type": "code",
   "execution_count": 5,
   "metadata": {},
   "outputs": [],
   "source": [
    "def zeidelMethod(A, b):\n",
    "    n = len(A)\n",
    "    x = [100.0 for i in range(n)]\n",
    "    xn = [.0 for i in range(n)]\n",
    "    gotNAN = False\n",
    "    curIterations = 0\n",
    "    (ma, mi) = getLambdas(A)\n",
    "    t = 1\n",
    "    if (mi != 0):\n",
    "        t = 2 / (ma + mi)\n",
    "        A = t * A\n",
    "        b = t * b\n",
    "    print(f\"Zeidel correction coefficient = {t}\")\n",
    "    while not equalVector(x, xn, EPS_ZEIDEL) and curIterations < ITERATIONS_ZEIDEL and not gotNAN:\n",
    "        x = np.copy(xn)\n",
    "        curIterations += 1\n",
    "        for i in range(n):\n",
    "            s1 = - sum(A[i][j] * xn[j] for j in range(i)) / A[i][i]\n",
    "            s2 = - sum(A[i][j] * x[j] for j in range(i + 1, n)) / A[i][i]\n",
    "            xn[i] = (b[i] / A[i][i] + s1 + s2)\n",
    "            if np.isnan(xn[i]):\n",
    "                print(\"Zeidel Got nan\")\n",
    "                gotNAN = True\n",
    "                xn = [np.nan for i in range(n)]\n",
    "                break\n",
    "                \n",
    "    print(f\"Zeidel Iterations = {curIterations}. Max is {ITERATIONS_ZEIDEL} iterations.\")\n",
    "    return xn"
   ]
  },
  {
   "cell_type": "code",
   "execution_count": 6,
   "metadata": {},
   "outputs": [],
   "source": [
    "def zeidelMethodRelax(A, b):\n",
    "    n = len(A)\n",
    "    x = [100.0 for i in range(n)]\n",
    "    xn = [.0 for i in range(n)]\n",
    "    Relax = 1.6\n",
    "    gotNAN = False\n",
    "    curIterations = 0\n",
    "    (ma, mi) = getLambdas(A)\n",
    "    t = 1\n",
    "    if (mi != 0):\n",
    "        t = 2 / (ma + mi)\n",
    "        A = t * A\n",
    "        b = t * b\n",
    "    print(f\"Zeidel correction coefficient = {t}\")\n",
    "    while not equalVector(x, xn, EPS_ZEIDEL) and curIterations < ITERATIONS_ZEIDEL and not gotNAN:\n",
    "        x = np.copy(xn)\n",
    "        curIterations += 1\n",
    "        for i in range(n):\n",
    "            s1 = - sum(A[i][j] * xn[j] for j in range(i)) / A[i][i]\n",
    "            s2 = - sum(A[i][j] * x[j] for j in range(i + 1, n)) / A[i][i]\n",
    "            xn[i] = (b[i] / A[i][i] + s1 + s2)\n",
    "            xn[i] = Relax * xn[i] + (1 - Relax) * x[i]\n",
    "            if np.isnan(xn[i]):\n",
    "                print(\"Zeidel Relax Got nan\")\n",
    "                gotNAN = True\n",
    "                xn = [np.nan for i in range(n)]\n",
    "                break\n",
    "            \n",
    "    print(f\"Zeidel Relax Iterations = {curIterations}. Max is {ITERATIONS_ZEIDEL} iterations.\")\n",
    "    return xn"
   ]
  },
  {
   "cell_type": "markdown",
   "metadata": {},
   "source": [
    "Критерии остановки метода Зейделя - по близости двух последовательных приближений и ограничения максимального числа итераций (2000000). Вектор начального приближения заполняем нулями. Коэффициент релаксации - 1.6, так как именно такой коэффициент, исходя из экспериментов, ускоряет медленную сходимость, как в случае с матрицей Гильберта. Также мы пробовали коэффициент нижней релаксации (< 1), которая может дать сходимость, если ее нет, но пришли к выводу, что наиболее оптимальный результат получается при верхней релаксиции."
   ]
  },
  {
   "cell_type": "code",
   "execution_count": null,
   "metadata": {},
   "outputs": [],
   "source": []
  },
  {
   "cell_type": "code",
   "execution_count": null,
   "metadata": {},
   "outputs": [],
   "source": []
  },
  {
   "cell_type": "code",
   "execution_count": null,
   "metadata": {},
   "outputs": [],
   "source": []
  },
  {
   "cell_type": "code",
   "execution_count": null,
   "metadata": {},
   "outputs": [],
   "source": []
  }
 ],
 "metadata": {
  "kernelspec": {
   "display_name": "Python 3",
   "language": "python",
   "name": "python3"
  },
  "language_info": {
   "codemirror_mode": {
    "name": "ipython",
    "version": 3
   },
   "file_extension": ".py",
   "mimetype": "text/x-python",
   "name": "python",
   "nbconvert_exporter": "python",
   "pygments_lexer": "ipython3",
   "version": "3.6.9"
  }
 },
 "nbformat": 4,
 "nbformat_minor": 2
}
