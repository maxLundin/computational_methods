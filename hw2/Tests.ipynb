{
 "cells": [
  {
   "cell_type": "code",
   "execution_count": 36,
   "metadata": {},
   "outputs": [],
   "source": [
    "%run Zeidel.ipynb\n",
    "%run Gauss.ipynb"
   ]
  },
  {
   "cell_type": "code",
   "execution_count": 37,
   "metadata": {},
   "outputs": [],
   "source": [
    "def _format_matrix(min, max, size):\n",
    "    return np.array((max - min) * np.random.random((size, size)) + min, dtype=np.float64)\n",
    "    \n",
    "def rand_matrix(size):\n",
    "    A = np.array(np.random.rand(size, size), dtype=np.float64)\n",
    "    A = np.tril(A) + np.tril(A, -1).T\n",
    "    return A.T * A\n",
    "\n",
    "def diag_matrix(size):\n",
    "    A = _format_matrix(0.0, 10.0, size)\n",
    "    for i in range(size):\n",
    "        A[i, i] = sum(A[i]) + 1\n",
    "    return A\n",
    "\n",
    "def hilbert_matrix(size):\n",
    "    ans = np.array(np.zeros((size, size)), dtype=np.float64)\n",
    "    for i in range(size):\n",
    "        for j in range(size):\n",
    "            ans[i, j] = 1.0 / (i + j + 1)\n",
    "    return ans\n",
    "\n",
    "def gen_right_column(size):\n",
    "    return np.array(np.random.random(size), dtype=np.float64)"
   ]
  },
  {
   "cell_type": "code",
   "execution_count": 38,
   "metadata": {},
   "outputs": [],
   "source": [
    "def equalVector(a, b, eps):\n",
    "    return math.sqrt(sum([(a[i] - b[i])**2 for i in range(len(a))])) < eps"
   ]
  },
  {
   "cell_type": "code",
   "execution_count": 39,
   "metadata": {},
   "outputs": [],
   "source": [
    "def _test(method, matrix, column):\n",
    "    return method(matrix, column)\n",
    "\n",
    "def _check_eps(a, b, eps):\n",
    "    return abs(a - b) < eps\n",
    "EPSILON = 1e-2\n",
    "def _check_ans(matrix, column, res, size):\n",
    "    eps = EPSILON\n",
    "    c = np.matmul(matrix, res)\n",
    "    for i in range(size):\n",
    "        if not _check_eps(c[i], column[i], eps):\n",
    "            return False\n",
    "    return True\n",
    "\n",
    "def _testAll(matrix_gen, size, methods):\n",
    "    matrix, column = matrix_gen(size), gen_right_column(size)\n",
    "    print(f'Тест для матрицы {matrix} и столбца {column}')\n",
    "    for method in methods:\n",
    "        print(f'Результат выполнения метода {method.__name__}:')\n",
    "        res = _test(method, matrix, column)\n",
    "        check = _check_ans(matrix, column, res, size)\n",
    "        if check:\n",
    "            print(f'{res}. Погрешность не больше {EPSILON}\\n')\n",
    "        else:\n",
    "            print(f'разошлось: matrix * res = {np.matmul(matrix, res)}\\n ожидаемый столбец = {column}\\n')\n",
    "\n",
    "def _get_methods():\n",
    "    return [zeidelMethod, zeidelMethodRelax, gaussingMethod]\n",
    "\n",
    "def testDiagMatrix(size):\n",
    "    _testAll(diag_matrix, size, _get_methods())\n",
    "\n",
    "def testHilbertMatrix(size):\n",
    "    _testAll(hilbert_matrix, size, _get_methods())\n",
    "    \n",
    "def testRandMatrix(size):\n",
    "    _testAll(rand_matrix, size, _get_methods())"
   ]
  },
  {
   "cell_type": "code",
   "execution_count": 40,
   "metadata": {},
   "outputs": [
    {
     "name": "stdout",
     "output_type": "stream",
     "text": [
      "Тест для матрицы [[49.62051278  6.37920628  7.94135629  8.20663429  7.25351361  1.15376174\n",
      "   6.35659788  2.01155147  6.73506084  1.74140837]\n",
      " [ 2.91654423 57.37521669  4.94971986  5.38479283  8.79239306  0.73593319\n",
      "   7.58284151  3.93950015  8.63970046  5.00287984]\n",
      " [ 6.39044464  6.91121499 54.18488155  2.32583895  2.29822652  9.37273764\n",
      "   4.03757694  4.92219779  2.08148541  9.05283424]\n",
      " [ 7.81622725  3.07081668  1.69472118 55.39268048  5.4620303   6.49936587\n",
      "   1.74019628  5.32396052  8.03876072  6.54042321]\n",
      " [ 1.18602297  4.68950491  3.64160092  8.40036226 51.59984688  8.45315777\n",
      "   9.46201911  4.24022793  2.49042538  7.38301957]\n",
      " [ 6.73156444  5.75595633  4.91683899  0.43420792  5.67366333 48.55640415\n",
      "   1.54166695  6.56998833  3.12111303  3.78623618]\n",
      " [ 8.14946219  0.15888723  8.40176317  3.18861887  3.98443658  9.73752925\n",
      "  48.3221675   1.40842002  1.46619416  7.49430688]\n",
      " [ 3.28544673  7.03762084  5.7446426   1.74559747  6.88463981  4.12145743\n",
      "   6.50647205 49.09939392  4.25781709  4.23206763]\n",
      " [ 4.01588313  1.24028904  2.17778893  5.0588465   5.87809449  2.60513884\n",
      "   8.41054874  4.44751699 45.30376327  1.5910878 ]\n",
      " [ 0.33217412  4.21200047  4.69551672  3.8479867   7.77285465  0.83365788\n",
      "   4.09824018  4.04200312  1.89255766 33.76093882]] и столбца [0.42538099 0.64061308 0.04013285 0.51922621 0.65716855 0.43757025\n",
      " 0.08507449 0.7482411  0.31848124 0.12853581]\n",
      "Результат выполнения метода zeidelMethod:\n",
      "Iterations =  16\n",
      "[0.004860061528857706, 0.008038845841640767, -0.003282648029748135, 0.005341328708733695, 0.00965142815693514, 0.004807591467353702, -0.0008920616908763281, 0.012129548308446918, 0.0034312000810446572, -0.0012727844452996872]. Погрешность не больше 0.01\n",
      "\n",
      "Результат выполнения метода zeidelMethodRelax:\n",
      "Iterations =  133\n",
      "[0.0048600645603184296, 0.008038843182746617, -0.003282630519652511, 0.005341341047811251, 0.009651415865621002, 0.004807605777035511, -0.0008920855974767705, 0.012129565480892689, 0.0034312088213004463, -0.0012727833586019164]. Погрешность не больше 0.01\n",
      "\n",
      "Результат выполнения метода gaussingMethod:\n",
      "[0.004860058877589824, 0.008038846143392614, -0.003282645752610047, 0.005341330445737345, 0.009651430725954247, 0.004807592533723027, -0.0008920615412558641, 0.012129548053549512, 0.00343119970238706, -0.0012727855557680865]. Погрешность не больше 0.01\n",
      "\n"
     ]
    }
   ],
   "source": [
    "testDiagMatrix(10)"
   ]
  },
  {
   "cell_type": "code",
   "execution_count": 41,
   "metadata": {
    "scrolled": true
   },
   "outputs": [
    {
     "name": "stdout",
     "output_type": "stream",
     "text": [
      "Тест для матрицы [[9.32242167e-01 3.98450744e-01 2.51387243e-04 1.69974155e-01]\n",
      " [3.98450744e-01 8.37199326e-01 4.22168768e-01 5.03225214e-01]\n",
      " [2.51387243e-04 4.22168768e-01 3.66110820e-01 3.12661201e-01]\n",
      " [1.69974155e-01 5.03225214e-01 3.12661201e-01 2.62408306e-01]] и столбца [0.82709129 0.29408558 0.82421882 0.55337291]\n",
      "Результат выполнения метода zeidelMethod:\n"
     ]
    },
    {
     "name": "stderr",
     "output_type": "stream",
     "text": [
      "/home/anka/anaconda3/lib/python3.7/site-packages/ipykernel_launcher.py:2: RuntimeWarning: overflow encountered in double_scalars\n",
      "  \n",
      "/home/anka/anaconda3/lib/python3.7/site-packages/ipykernel_launcher.py:11: RuntimeWarning: overflow encountered in double_scalars\n",
      "  # This is added back by InteractiveShellApp.init_path()\n",
      "/home/anka/anaconda3/lib/python3.7/site-packages/ipykernel_launcher.py:13: RuntimeWarning: invalid value encountered in double_scalars\n",
      "  del sys.path[0]\n"
     ]
    },
    {
     "name": "stdout",
     "output_type": "stream",
     "text": [
      "Iterations =  200000\n",
      "разошлось: matrix * res = [nan nan nan nan]\n",
      " ожидаемый столбец = [0.82709129 0.29408558 0.82421882 0.55337291]\n",
      "\n",
      "Результат выполнения метода zeidelMethodRelax:\n"
     ]
    },
    {
     "name": "stderr",
     "output_type": "stream",
     "text": [
      "/home/anka/anaconda3/lib/python3.7/site-packages/ipykernel_launcher.py:14: RuntimeWarning: overflow encountered in double_scalars\n",
      "  \n"
     ]
    },
    {
     "name": "stdout",
     "output_type": "stream",
     "text": [
      "Iterations =  200000\n",
      "разошлось: matrix * res = [nan nan nan nan]\n",
      " ожидаемый столбец = [0.82709129 0.29408558 0.82421882 0.55337291]\n",
      "\n",
      "Результат выполнения метода gaussingMethod:\n",
      "[3.3002997800412364, -5.028403608827073, 9.295163869363819, -1.4611213225103612]. Погрешность не больше 0.01\n",
      "\n"
     ]
    }
   ],
   "source": [
    "testRandMatrix(4)"
   ]
  },
  {
   "cell_type": "code",
   "execution_count": 42,
   "metadata": {},
   "outputs": [
    {
     "name": "stdout",
     "output_type": "stream",
     "text": [
      "Тест для матрицы [[1.         0.5        0.33333333 0.25       0.2       ]\n",
      " [0.5        0.33333333 0.25       0.2        0.16666667]\n",
      " [0.33333333 0.25       0.2        0.16666667 0.14285714]\n",
      " [0.25       0.2        0.16666667 0.14285714 0.125     ]\n",
      " [0.2        0.16666667 0.14285714 0.125      0.11111111]] и столбца [0.01420577 0.2474189  0.47309505 0.34956118 0.6963851 ]\n",
      "Результат выполнения метода zeidelMethod:\n",
      "Iterations =  200000\n",
      "[372.130382441376, -7134.819170114721, 31262.909896308247, -47774.99575559852, 23590.36189105972]. Погрешность не больше 0.01\n",
      "\n",
      "Результат выполнения метода zeidelMethodRelax:\n",
      "Iterations =  105534\n",
      "[372.21623615350126, -7136.395175154519, 31269.624243702037, -47785.048198077086, 23595.247627376157]. Погрешность не больше 0.01\n",
      "\n",
      "Результат выполнения метода gaussingMethod:\n",
      "[372.2162403080016, -7136.395247362113, 31269.624540441127, -47785.04863099203, 23595.247833703455]. Погрешность не больше 0.01\n",
      "\n"
     ]
    }
   ],
   "source": [
    "testHilbertMatrix(5)"
   ]
  },
  {
   "cell_type": "code",
   "execution_count": null,
   "metadata": {},
   "outputs": [],
   "source": []
  }
 ],
 "metadata": {
  "kernelspec": {
   "display_name": "Python 3",
   "language": "python",
   "name": "python3"
  },
  "language_info": {
   "codemirror_mode": {
    "name": "ipython",
    "version": 3
   },
   "file_extension": ".py",
   "mimetype": "text/x-python",
   "name": "python",
   "nbconvert_exporter": "python",
   "pygments_lexer": "ipython3",
   "version": "3.7.4"
  }
 },
 "nbformat": 4,
 "nbformat_minor": 2
}
