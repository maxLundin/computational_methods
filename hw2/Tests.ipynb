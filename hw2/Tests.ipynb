{
 "cells": [
  {
   "cell_type": "code",
   "execution_count": 1,
   "metadata": {},
   "outputs": [],
   "source": [
    "%run Zeidel.ipynb\n",
    "%run Gauss.ipynb\n",
    "%run Jacobi.ipynb\n",
    "%run Gradient.ipynb"
   ]
  },
  {
   "cell_type": "code",
   "execution_count": 2,
   "metadata": {},
   "outputs": [],
   "source": [
    "def _format_matrix(min, max, size):\n",
    "    return np.array((max - min) * np.random.random((size, size)) + min, dtype=np.float64)\n",
    "    \n",
    "def rand_matrix(size):\n",
    "    A = np.array(np.random.rand(size, size), dtype=np.float64)\n",
    "    A = np.tril(A) + np.tril(A, -1).T\n",
    "    return A.T * A\n",
    "\n",
    "def diag_matrix(size):\n",
    "    A = _format_matrix(0.0, 10.0, size)\n",
    "    for i in range(size):\n",
    "        A[i, i] = sum(A[i]) + 1\n",
    "    return A\n",
    "\n",
    "def hilbert_matrix(size):\n",
    "    ans = np.array(np.zeros((size, size)), dtype=np.float64)\n",
    "    for i in range(size):\n",
    "        for j in range(size):\n",
    "            ans[i, j] = 1.0 / (i + j + 1)\n",
    "    return ans\n",
    "\n",
    "def gen_right_column(size):\n",
    "    return np.array(np.random.random(size), dtype=np.float64)"
   ]
  },
  {
   "cell_type": "code",
   "execution_count": 3,
   "metadata": {},
   "outputs": [],
   "source": [
    "def equalVector(a, b, eps):\n",
    "    return math.sqrt(sum([(a[i] - b[i])**2 for i in range(len(a))])) < eps"
   ]
  },
  {
   "cell_type": "code",
   "execution_count": 4,
   "metadata": {},
   "outputs": [],
   "source": [
    "def _test(method, matrix, column):\n",
    "    return method(matrix, column)\n",
    "\n",
    "def _check_eps(a, b, eps):\n",
    "    return abs(a - b) < eps\n",
    "EPSILON = 1e-6\n",
    "def _check_ans(matrix, column, res, size):\n",
    "    eps = EPSILON\n",
    "    c = np.matmul(matrix, res)\n",
    "    for i in range(size):\n",
    "        if not _check_eps(c[i], column[i], eps):\n",
    "            return False\n",
    "    return True\n",
    "\n",
    "def _testAll(matrix_gen, size, methods):\n",
    "    matrix, column = matrix_gen(size), gen_right_column(size)\n",
    "    print(f'Тест для матрицы\\n {matrix} и столбца {column}')\n",
    "    for method in methods:\n",
    "        print(f'Результат выполнения метода {method.__name__}:')\n",
    "        res = _test(method, matrix, column)\n",
    "        check = _check_ans(matrix, column, res, size)\n",
    "        if check:\n",
    "            print(f'{res}. Погрешность не больше {EPSILON}\\n')\n",
    "        else:\n",
    "            print(f'разошлось: matrix * res = {np.matmul(matrix, res)}\\n ожидаемый столбец = {column}\\n')\n",
    "\n",
    "def _get_methods():\n",
    "    return [zeidelMethod, zeidelMethodRelax, gaussMethod, jacobiMethod, gradient_descent]\n",
    "\n",
    "def testDiagMatrix(size):\n",
    "    _testAll(diag_matrix, size, _get_methods())\n",
    "\n",
    "def testHilbertMatrix(size):\n",
    "    _testAll(hilbert_matrix, size, _get_methods())\n",
    "    \n",
    "def testRandMatrix(size):\n",
    "    _testAll(rand_matrix, size, _get_methods())"
   ]
  },
  {
   "cell_type": "code",
   "execution_count": 5,
   "metadata": {},
   "outputs": [
    {
     "name": "stdout",
     "output_type": "stream",
     "text": [
      "Тест для матрицы\n",
      " [[4.69136910e+01 6.18925549e+00 9.21516724e-01 3.99573548e+00\n",
      "  1.07194767e+00 7.69690838e+00 6.94203300e+00 4.53593642e+00\n",
      "  8.03258393e+00 4.18452352e+00]\n",
      " [2.92124554e-01 4.65188853e+01 4.39541161e+00 7.30963525e+00\n",
      "  5.51735540e+00 3.92893391e+00 2.37133871e+00 1.88536513e+00\n",
      "  8.48653196e+00 9.85235683e+00]\n",
      " [2.20950959e+00 3.09076636e+00 5.00466522e+01 5.11045546e+00\n",
      "  9.84729280e+00 6.87977456e+00 4.00945924e+00 5.69169848e+00\n",
      "  2.16026544e+00 7.12461401e+00]\n",
      " [2.38427038e+00 5.52277269e+00 9.63879093e+00 5.37963681e+01\n",
      "  8.42693870e+00 5.68445403e-01 2.48747666e+00 6.35365802e+00\n",
      "  6.83486499e+00 7.69917775e+00]\n",
      " [3.57181309e+00 2.19372979e-01 3.18634557e+00 6.14578464e+00\n",
      "  3.72592524e+01 1.60187297e+00 3.21150855e+00 7.66411287e+00\n",
      "  4.72423016e+00 5.23011272e-01]\n",
      " [1.86986615e+00 2.14534207e+00 5.38574360e+00 6.13261951e+00\n",
      "  6.38751678e+00 4.60673691e+01 9.58539028e-01 9.98322499e+00\n",
      "  1.25796206e-01 6.07948522e+00]\n",
      " [2.32898315e+00 3.70031402e+00 7.98224717e+00 2.62487426e+00\n",
      "  6.72788991e+00 5.84630831e+00 5.28102616e+01 6.00791245e+00\n",
      "  5.02138760e+00 4.58732044e+00]\n",
      " [3.43871602e+00 2.97301512e-02 2.66900827e+00 1.92835792e-01\n",
      "  4.84710887e-01 2.38953540e-02 4.00224882e+00 3.47906691e+01\n",
      "  8.28048173e+00 8.64046852e+00]\n",
      " [6.67152051e+00 3.46839049e+00 6.30954788e+00 1.93690301e+00\n",
      "  3.62840157e+00 9.45090094e+00 2.86611985e-01 2.56584135e+00\n",
      "  4.38935978e+01 6.82355920e+00]\n",
      " [2.13186072e+00 1.82897817e+00 7.65585270e+00 8.99245571e+00\n",
      "  3.54181433e-01 5.18876810e+00 8.09939061e+00 5.01882565e+00\n",
      "  2.96705163e+00 5.15542011e+01]] и столбца [0.00930384 0.29665625 0.20596434 0.82480675 0.39079015 0.71833791\n",
      " 0.46344422 0.25934874 0.74247053 0.45932464]\n",
      "Результат выполнения метода zeidelMethod:\n",
      "Iterations =  19\n",
      "[-0.0065458273001295, -0.000812680794890358, -0.0015474091089433756, 0.01199213646139088, 0.0058942383463500385, 0.012270848765011817, 0.004614966797700298, 0.0032273975106236344, 0.013659402512460561, 0.004246234933629104]. Погрешность не больше 1e-06\n",
      "\n",
      "Результат выполнения метода zeidelMethodRelax:\n",
      "Iterations =  113\n",
      "2000000\n",
      "[-0.006545827300184661, -0.0008126807948594224, -0.0015474091087582416, 0.011992136461279654, 0.005894238346430158, 0.012270848765222008, 0.004614966797504942, 0.0032273975107214034, 0.013659402512251211, 0.004246234933695021]. Погрешность не больше 1e-06\n",
      "\n",
      "Результат выполнения метода gaussMethod:\n",
      "[-0.006545827300132467, -0.0008126807949074153, -0.001547409108954336, 0.011992136461410612, 0.0058942383463827476, 0.01227084876503356, 0.004614966797721376, 0.003227397510662099, 0.013659402512460896, 0.004246234933618527]. Погрешность не больше 1e-06\n",
      "\n",
      "Результат выполнения метода jacobiMethod:\n",
      "Iterations =  2\n",
      "[-0.00654583 -0.00081268 -0.00154741  0.01199214  0.00589424  0.01227085\n",
      "  0.00461497  0.0032274   0.0136594   0.00424623]. Погрешность не больше 1e-06\n",
      "\n",
      "Результат выполнения метода gradient_descent:\n",
      "Iterations: 9\n",
      "[-0.00654583 -0.00081268 -0.00154741  0.01199214  0.00589424  0.01227085\n",
      "  0.00461497  0.0032274   0.0136594   0.00424623]. Погрешность не больше 1e-06\n",
      "\n"
     ]
    }
   ],
   "source": [
    "testDiagMatrix(10)"
   ]
  },
  {
   "cell_type": "code",
   "execution_count": 6,
   "metadata": {
    "scrolled": true
   },
   "outputs": [
    {
     "name": "stdout",
     "output_type": "stream",
     "text": [
      "Тест для матрицы\n",
      " [[0.95769956 0.46373738 0.00631929 0.13750606 0.24798132 0.03803542\n",
      "  0.65156118 0.21665775 0.01670728 0.0032212 ]\n",
      " [0.46373738 0.56060333 0.0204264  0.91783914 0.31269304 0.61029176\n",
      "  0.99544812 0.05808809 0.26787177 0.05576702]\n",
      " [0.00631929 0.0204264  0.13269437 0.19525473 0.03209738 0.39315904\n",
      "  0.17275552 0.02891318 0.96870776 0.94051368]\n",
      " [0.13750606 0.91783914 0.19525473 0.42058867 0.02573311 0.57480595\n",
      "  0.8760301  0.03626765 0.50031524 0.06910467]\n",
      " [0.24798132 0.31269304 0.03209738 0.02573311 0.51654059 0.22945921\n",
      "  0.29007989 0.13606188 0.6703218  0.58580223]\n",
      " [0.03803542 0.61029176 0.39315904 0.57480595 0.22945921 0.59533328\n",
      "  0.21248486 0.04538702 0.04756289 0.59673259]\n",
      " [0.65156118 0.99544812 0.17275552 0.8760301  0.29007989 0.21248486\n",
      "  0.33367382 0.84455063 0.52318563 0.0260755 ]\n",
      " [0.21665775 0.05808809 0.02891318 0.03626765 0.13606188 0.04538702\n",
      "  0.84455063 0.33274967 0.22953725 0.95058504]\n",
      " [0.01670728 0.26787177 0.96870776 0.50031524 0.6703218  0.04756289\n",
      "  0.52318563 0.22953725 0.24365527 0.45282469]\n",
      " [0.0032212  0.05576702 0.94051368 0.06910467 0.58580223 0.59673259\n",
      "  0.0260755  0.95058504 0.45282469 0.01405474]] и столбца [0.94032229 0.14814143 0.49642937 0.32276112 0.91869283 0.29744237\n",
      " 0.01886063 0.03486685 0.99683062 0.38952332]\n",
      "Результат выполнения метода zeidelMethod:\n",
      "Got nan\n",
      "Iterations =  106\n",
      "разошлось: matrix * res = [-1.85863515e+305 -2.52535578e+306 -4.62048039e+307 -3.03539963e+306\n",
      " -2.87018161e+307 -3.00825067e+307 -2.07306286e+305 -4.76753357e+307\n",
      " -2.28497221e+307  0.00000000e+000]\n",
      " ожидаемый столбец = [0.94032229 0.14814143 0.49642937 0.32276112 0.91869283 0.29744237\n",
      " 0.01886063 0.03486685 0.99683062 0.38952332]\n",
      "\n",
      "Результат выполнения метода zeidelMethodRelax:\n",
      "Got nan\n",
      "Iterations =  81\n",
      "разошлось: matrix * res = [-inf -inf -inf -inf -inf -inf -inf -inf -inf -inf]\n",
      " ожидаемый столбец = [0.94032229 0.14814143 0.49642937 0.32276112 0.91869283 0.29744237\n",
      " 0.01886063 0.03486685 0.99683062 0.38952332]\n",
      "\n",
      "Результат выполнения метода gaussMethod:\n",
      "[1.1185866756052207, 0.2634743671184921, 0.957328078044386, -0.6588310368784449, 0.7523530805346456, -0.11073608694152863, -0.17394430250271456, -1.1364201738687398, 0.4974083418878142, 0.09148091913797765]. Погрешность не больше 1e-06\n",
      "\n",
      "Результат выполнения метода jacobiMethod:\n",
      "Iterations =  2\n",
      "[ 1.11858668  0.26347437  0.95732808 -0.65883104  0.75235308 -0.11073609\n",
      " -0.1739443  -1.13642017  0.49740834  0.09148092]. Погрешность не больше 1e-06\n",
      "\n",
      "Результат выполнения метода gradient_descent:\n",
      "Iterations: 10\n",
      "[ 1.11858668  0.26347437  0.95732808 -0.65883104  0.75235308 -0.11073609\n",
      " -0.1739443  -1.13642017  0.49740834  0.09148092]. Погрешность не больше 1e-06\n",
      "\n"
     ]
    },
    {
     "name": "stderr",
     "output_type": "stream",
     "text": [
      "/home/kranya/.local/lib/python3.6/site-packages/ipykernel_launcher.py:2: RuntimeWarning: overflow encountered in double_scalars\n",
      "  \n",
      "/home/kranya/.local/lib/python3.6/site-packages/ipykernel_launcher.py:12: RuntimeWarning: overflow encountered in double_scalars\n",
      "  if sys.path[0] == '':\n",
      "/home/kranya/.local/lib/python3.6/site-packages/ipykernel_launcher.py:11: RuntimeWarning: invalid value encountered in double_scalars\n",
      "  # This is added back by InteractiveShellApp.init_path()\n",
      "/home/kranya/.local/lib/python3.6/site-packages/ipykernel_launcher.py:11: RuntimeWarning: overflow encountered in double_scalars\n",
      "  # This is added back by InteractiveShellApp.init_path()\n",
      "/home/kranya/.local/lib/python3.6/site-packages/ipykernel_launcher.py:13: RuntimeWarning: invalid value encountered in double_scalars\n",
      "  del sys.path[0]\n"
     ]
    }
   ],
   "source": [
    "testRandMatrix(10)"
   ]
  },
  {
   "cell_type": "code",
   "execution_count": 7,
   "metadata": {
    "scrolled": true
   },
   "outputs": [
    {
     "name": "stdout",
     "output_type": "stream",
     "text": [
      "Тест для матрицы\n",
      " [[1.         0.5        0.33333333 0.25       0.2       ]\n",
      " [0.5        0.33333333 0.25       0.2        0.16666667]\n",
      " [0.33333333 0.25       0.2        0.16666667 0.14285714]\n",
      " [0.25       0.2        0.16666667 0.14285714 0.125     ]\n",
      " [0.2        0.16666667 0.14285714 0.125      0.11111111]] и столбца [0.28178598 0.24793677 0.01790702 0.68644057 0.1257662 ]\n",
      "Результат выполнения метода zeidelMethod:\n",
      "Iterations =  601057\n",
      "[-930.318096041813, 17633.986304902865, -76563.13739757444, 116081.74497050137, -56928.91856929539]. Погрешность не больше 1e-06\n",
      "\n",
      "Результат выполнения метода zeidelMethodRelax:\n",
      "Iterations =  153327\n",
      "2000000\n",
      "[-930.3180960487527, 17633.986305032675, -76563.1373981343, 116081.7449713469, -56928.918569709]. Погрешность не больше 1e-06\n",
      "\n",
      "Результат выполнения метода gaussMethod:\n",
      "[-930.3180960515687, 17633.98630508191, -76563.13739833736, 116081.74497164396, -56928.9185698509]. Погрешность не больше 1e-06\n",
      "\n",
      "Результат выполнения метода jacobiMethod:\n",
      "Iterations =  2\n",
      "[  -930.31809605  17633.98630508 -76563.13739834 116081.74497164\n",
      " -56928.91856985]. Погрешность не больше 1e-06\n",
      "\n",
      "Результат выполнения метода gradient_descent:\n",
      "Iterations: 8\n",
      "[  -930.31809605  17633.98630508 -76563.13737467 116081.74497165\n",
      " -56928.91856985]. Погрешность не больше 1e-06\n",
      "\n"
     ]
    }
   ],
   "source": [
    "testHilbertMatrix(5)"
   ]
  },
  {
   "cell_type": "code",
   "execution_count": null,
   "metadata": {},
   "outputs": [],
   "source": []
  },
  {
   "cell_type": "code",
   "execution_count": null,
   "metadata": {},
   "outputs": [],
   "source": []
  },
  {
   "cell_type": "code",
   "execution_count": null,
   "metadata": {},
   "outputs": [],
   "source": []
  }
 ],
 "metadata": {
  "kernelspec": {
   "display_name": "Python 3",
   "language": "python",
   "name": "python3"
  },
  "language_info": {
   "codemirror_mode": {
    "name": "ipython",
    "version": 3
   },
   "file_extension": ".py",
   "mimetype": "text/x-python",
   "name": "python",
   "nbconvert_exporter": "python",
   "pygments_lexer": "ipython3",
   "version": "3.6.9"
  }
 },
 "nbformat": 4,
 "nbformat_minor": 2
}
