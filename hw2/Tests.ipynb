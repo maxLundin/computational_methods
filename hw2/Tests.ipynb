{
 "cells": [
  {
   "cell_type": "code",
   "execution_count": 1,
   "metadata": {},
   "outputs": [],
   "source": [
    "%run Zeidel.ipynb\n",
    "%run Gauss.ipynb\n",
    "%run Jacobi.ipynb\n",
    "%run Gradient.ipynb"
   ]
  },
  {
   "cell_type": "code",
   "execution_count": 2,
   "metadata": {},
   "outputs": [],
   "source": [
    "def _format_matrix(min, max, size):\n",
    "    return np.array((max - min) * np.random.random((size, size)) + min, dtype=np.float64)\n",
    "    \n",
    "def rand_matrix(size):\n",
    "    A = np.array(np.random.rand(size, size), dtype=np.float64)\n",
    "    A = np.tril(A) + np.tril(A, -1).T\n",
    "    return A.T * A\n",
    "\n",
    "def diag_matrix(size):\n",
    "    A = _format_matrix(0.0, 10.0, size)\n",
    "    for i in range(size):\n",
    "        A[i, i] = sum(A[i]) + 1\n",
    "    return A\n",
    "\n",
    "def hilbert_matrix(size):\n",
    "    ans = np.array(np.zeros((size, size)), dtype=np.float64)\n",
    "    for i in range(size):\n",
    "        for j in range(size):\n",
    "            ans[i, j] = 1.0 / (i + j + 1)\n",
    "    return ans\n",
    "\n",
    "def gen_right_column(size):\n",
    "    return np.array(np.random.random(size), dtype=np.float64)"
   ]
  },
  {
   "cell_type": "code",
   "execution_count": 3,
   "metadata": {},
   "outputs": [],
   "source": [
    "def equalVector(a, b, eps):\n",
    "    return math.sqrt(sum([(a[i] - b[i])**2 for i in range(len(a))])) < eps"
   ]
  },
  {
   "cell_type": "code",
   "execution_count": 4,
   "metadata": {},
   "outputs": [],
   "source": [
    "def _test(method, matrix, column):\n",
    "    return method(matrix, column)\n",
    "\n",
    "def _check_eps(a, b, eps):\n",
    "    return abs(a - b) < eps\n",
    "EPSILON = 1e-2\n",
    "def _check_ans(matrix, column, res, size):\n",
    "    eps = EPSILON\n",
    "    c = np.matmul(matrix, res)\n",
    "    for i in range(size):\n",
    "        if not _check_eps(c[i], column[i], eps):\n",
    "            return False\n",
    "    return True\n",
    "\n",
    "def _testAll(matrix_gen, size, methods):\n",
    "    matrix, column = matrix_gen(size), gen_right_column(size)\n",
    "    print(f'Тест для матрицы\\n {matrix} и столбца {column}')\n",
    "    for method in methods:\n",
    "        print(f'Результат выполнения метода {method.__name__}:')\n",
    "        res = _test(method, matrix, column)\n",
    "        check = _check_ans(matrix, column, res, size)\n",
    "        if check:\n",
    "            print(f'{res}. Погрешность не больше {EPSILON}\\n')\n",
    "        else:\n",
    "            print(f'разошлось: matrix * res = {np.matmul(matrix, res)}\\n ожидаемый столбец = {column}\\n')\n",
    "\n",
    "def _get_methods():\n",
    "    return [zeidelMethod, zeidelMethodRelax, gaussMethod, jacobiMethod, gradient_descent]\n",
    "\n",
    "def testDiagMatrix(size):\n",
    "    _testAll(diag_matrix, size, _get_methods())\n",
    "\n",
    "def testHilbertMatrix(size):\n",
    "    _testAll(hilbert_matrix, size, _get_methods())\n",
    "    \n",
    "def testRandMatrix(size):\n",
    "    _testAll(rand_matrix, size, _get_methods())"
   ]
  },
  {
   "cell_type": "code",
   "execution_count": 5,
   "metadata": {},
   "outputs": [
    {
     "name": "stdout",
     "output_type": "stream",
     "text": [
      "Тест для матрицы\n",
      " [[59.64282569  5.92934561  9.8930969   3.46038847  7.78022105  0.333608\n",
      "   0.59623832  7.68766552  5.62008967  7.42230231]\n",
      " [ 5.61636161 36.16475248  0.14719735  0.90709687  0.22214902  6.45525899\n",
      "   0.56772238  7.71619584  7.05599262  4.14417485]\n",
      " [ 5.75354959  6.41096133 63.71659634  0.76824157  7.96834264  7.48689966\n",
      "   2.39008705  6.06110613  8.75170886  8.04757864]\n",
      " [ 3.64528876  6.75464411  9.73533607 64.96161534  7.12911019  8.04370909\n",
      "   8.89304011  7.80658789  0.54122488  5.72395181]\n",
      " [ 0.17361532  5.49361704  0.50650932  8.05606338 47.10844444  6.02837075\n",
      "   0.50833625  3.32935239  7.07000797  7.08560667]\n",
      " [ 0.57195236  0.80703914  5.8086067   7.07416962  7.90178689 45.34301813\n",
      "   5.34390249  6.05931163  6.38028888  3.41740139]\n",
      " [ 8.02768067  4.42589495  9.92060619  7.77811567  3.62506787  1.07218266\n",
      "  53.73898266  2.91225139  3.12851012  8.36463443]\n",
      " [ 7.77920312  3.92838697  5.25915444  9.06415308  8.81033681  2.29379668\n",
      "   0.50042402 52.96915338  8.78979014  2.26739797]\n",
      " [ 1.85479859  2.0544567   9.05975414  8.71710027  5.98680477  1.67643304\n",
      "   0.23766042  1.06437514 39.68574846  2.58682868]\n",
      " [ 7.5773318   7.28866706  5.8191065   0.29686357  5.17244375  9.34609193\n",
      "   7.04444159  8.57337742  5.04034467 64.25990998]] и столбца [0.84903396 0.72778532 0.55446948 0.70036061 0.34348427 0.10125314\n",
      " 0.81006465 0.56697748 0.23039123 0.18845641]\n",
      "Результат выполнения метода zeidelMethod:\n",
      "Iterations =  16\n",
      "[0.010188936721401958, 0.017438779223154215, 0.004936133736351327, 0.005649428642856618, 0.004181665383032885, -0.002408572018273851, 0.01017928002835669, 0.005637460975024338, 0.0014928261349368903, -0.002691218732414808]. Погрешность не больше 0.01\n",
      "\n",
      "Результат выполнения метода zeidelMethodRelax:\n",
      "Iterations =  164\n",
      "[0.010188941188188968, 0.01743875313327062, 0.0049361450179898105, 0.005649431970082679, 0.004181674333144666, -0.002408586875896589, 0.010179285910838443, 0.005637453089543207, 0.0014928201337115886, -0.00269119821355807]. Погрешность не больше 0.01\n",
      "\n",
      "Результат выполнения метода gaussMethod:\n",
      "[0.010188933610862072, 0.01743877982666661, 0.004936133674520481, 0.005649427904779109, 0.004181665929306081, -0.0024085703312580605, 0.010179281510931514, 0.005637462553178208, 0.001492826450621336, -0.00269121911224806]. Погрешность не больше 0.01\n",
      "\n",
      "Результат выполнения метода jacobiMethod:\n",
      "Iterations =  2\n",
      "[ 0.01018893  0.01743878  0.00493613  0.00564943  0.00418167 -0.00240857\n",
      "  0.01017928  0.00563746  0.00149283 -0.00269122]. Погрешность не больше 0.01\n",
      "\n",
      "Результат выполнения метода gradient_descent:\n",
      "Iterations: 10\n",
      "[ 0.01018893  0.01743878  0.00493613  0.00564943  0.00418167 -0.00240857\n",
      "  0.01017928  0.00563746  0.00149283 -0.00269122]. Погрешность не больше 0.01\n",
      "\n"
     ]
    }
   ],
   "source": [
    "testDiagMatrix(10)"
   ]
  },
  {
   "cell_type": "code",
   "execution_count": 6,
   "metadata": {
    "scrolled": true
   },
   "outputs": [
    {
     "name": "stdout",
     "output_type": "stream",
     "text": [
      "Тест для матрицы\n",
      " [[0.54184988 0.23413416 0.56069354 0.12100285]\n",
      " [0.23413416 0.52654714 0.04884017 0.10880507]\n",
      " [0.56069354 0.04884017 0.09546685 0.91151008]\n",
      " [0.12100285 0.10880507 0.91151008 0.18229606]] и столбца [0.67932551 0.03367049 0.88218544 0.75769151]\n",
      "Результат выполнения метода zeidelMethod:\n"
     ]
    },
    {
     "name": "stderr",
     "output_type": "stream",
     "text": [
      "c:\\users\\pwx779030\\appdata\\local\\programs\\python\\python37-32\\lib\\site-packages\\ipykernel_launcher.py:2: RuntimeWarning: overflow encountered in double_scalars\n",
      "  \n",
      "c:\\users\\pwx779030\\appdata\\local\\programs\\python\\python37-32\\lib\\site-packages\\ipykernel_launcher.py:11: RuntimeWarning: overflow encountered in double_scalars\n",
      "  # This is added back by InteractiveShellApp.init_path()\n",
      "c:\\users\\pwx779030\\appdata\\local\\programs\\python\\python37-32\\lib\\site-packages\\ipykernel_launcher.py:13: RuntimeWarning: invalid value encountered in double_scalars\n",
      "  del sys.path[0]\n"
     ]
    },
    {
     "name": "stdout",
     "output_type": "stream",
     "text": [
      "Iterations =  200000\n",
      "разошлось: matrix * res = [nan nan nan nan]\n",
      " ожидаемый столбец = [0.67932551 0.03367049 0.88218544 0.75769151]\n",
      "\n",
      "Результат выполнения метода zeidelMethodRelax:\n"
     ]
    },
    {
     "name": "stderr",
     "output_type": "stream",
     "text": [
      "c:\\users\\pwx779030\\appdata\\local\\programs\\python\\python37-32\\lib\\site-packages\\ipykernel_launcher.py:12: RuntimeWarning: overflow encountered in double_scalars\n",
      "  if sys.path[0] == '':\n",
      "c:\\users\\pwx779030\\appdata\\local\\programs\\python\\python37-32\\lib\\site-packages\\ipykernel_launcher.py:12: RuntimeWarning: invalid value encountered in double_scalars\n",
      "  if sys.path[0] == '':\n"
     ]
    },
    {
     "name": "stdout",
     "output_type": "stream",
     "text": [
      "Iterations =  200000\n",
      "разошлось: matrix * res = [nan nan nan nan]\n",
      " ожидаемый столбец = [0.67932551 0.03367049 0.88218544 0.75769151]\n",
      "\n",
      "Результат выполнения метода gaussMethod:\n",
      "[0.579000693978358, -0.3728877389144957, 0.6869605801562474, 0.5597013556423984]. Погрешность не больше 0.01\n",
      "\n",
      "Результат выполнения метода jacobiMethod:\n",
      "Iterations =  2\n",
      "[ 0.57900069 -0.37288774  0.68696058  0.55970136]. Погрешность не больше 0.01\n",
      "\n",
      "Результат выполнения метода gradient_descent:\n",
      "Iterations: 4\n",
      "[ 0.57900069 -0.37288774  0.68696058  0.55970136]. Погрешность не больше 0.01\n",
      "\n"
     ]
    }
   ],
   "source": [
    "testRandMatrix(4)"
   ]
  },
  {
   "cell_type": "code",
   "execution_count": 7,
   "metadata": {},
   "outputs": [
    {
     "name": "stdout",
     "output_type": "stream",
     "text": [
      "Тест для матрицы\n",
      " [[1.         0.5        0.33333333 0.25       0.2       ]\n",
      " [0.5        0.33333333 0.25       0.2        0.16666667]\n",
      " [0.33333333 0.25       0.2        0.16666667 0.14285714]\n",
      " [0.25       0.2        0.16666667 0.14285714 0.125     ]\n",
      " [0.2        0.16666667 0.14285714 0.125      0.11111111]] и столбца [0.93666703 0.59722644 0.84898123 0.87788062 0.39990342]\n",
      "Результат выполнения метода zeidelMethod:\n",
      "Iterations =  200000\n",
      "[-241.34838575927338, 5097.37262677894, -23471.001898746683, 36938.88386215707, -18587.274618740412]. Погрешность не больше 0.01\n",
      "\n",
      "Результат выполнения метода zeidelMethodRelax:\n",
      "Iterations =  104214\n",
      "[-241.41467803200283, 5098.589546031377, -23476.186414222153, 36946.64590631248, -18591.047165605283]. Погрешность не больше 0.01\n",
      "\n",
      "Результат выполнения метода gaussMethod:\n",
      "[-241.4146821859778, 5098.589618230275, -23476.186710926417, 36946.64633917741, -18591.047371909]. Погрешность не больше 0.01\n",
      "\n",
      "Результат выполнения метода jacobiMethod:\n",
      "Iterations =  2\n",
      "[  -241.41468219   5098.58961823 -23476.18671093  36946.64633918\n",
      " -18591.04737191]. Погрешность не больше 0.01\n",
      "\n",
      "Результат выполнения метода gradient_descent:\n",
      "Iterations: 8\n",
      "[  -241.41468219   5098.58961823 -23476.18667656  36946.64633915\n",
      " -18591.04737189]. Погрешность не больше 0.01\n",
      "\n"
     ]
    }
   ],
   "source": [
    "testHilbertMatrix(5)"
   ]
  },
  {
   "cell_type": "code",
   "execution_count": null,
   "metadata": {},
   "outputs": [],
   "source": []
  },
  {
   "cell_type": "code",
   "execution_count": null,
   "metadata": {},
   "outputs": [],
   "source": []
  }
 ],
 "metadata": {
  "kernelspec": {
   "display_name": "Python 3",
   "language": "python",
   "name": "python3"
  },
  "language_info": {
   "codemirror_mode": {
    "name": "ipython",
    "version": 3
   },
   "file_extension": ".py",
   "mimetype": "text/x-python",
   "name": "python",
   "nbconvert_exporter": "python",
   "pygments_lexer": "ipython3",
   "version": "3.7.4"
  }
 },
 "nbformat": 4,
 "nbformat_minor": 2
}
