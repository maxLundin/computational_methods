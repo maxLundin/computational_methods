{
 "cells": [
  {
   "cell_type": "code",
   "execution_count": 4,
   "metadata": {},
   "outputs": [],
   "source": [
    "%run Zeidel.ipynb\n",
    "%run Gauss.ipynb"
   ]
  },
  {
   "cell_type": "code",
   "execution_count": 5,
   "metadata": {},
   "outputs": [],
   "source": [
    "def _format_matrix(min, max, size):\n",
    "    return np.array((max - min) * np.random.random((size, size)) + min, dtype=np.float64)\n",
    "    \n",
    "def rand_matrix(size):\n",
    "    A = np.array(np.random.rand(size, size), dtype=np.float64)\n",
    "    A = np.tril(A) + np.tril(A, -1).T\n",
    "    return A.T * A\n",
    "\n",
    "def diag_matrix(size):\n",
    "    A = _format_matrix(0.0, 10.0, size)\n",
    "    for i in range(size):\n",
    "        A[i, i] = sum(A[i]) + 1\n",
    "    return A\n",
    "\n",
    "def hilbert_matrix(size):\n",
    "    ans = np.array(np.zeros((size, size)), dtype=np.float64)\n",
    "    for i in range(size):\n",
    "        for j in range(size):\n",
    "            ans[i, j] = 1.0 / (i + j + 1)\n",
    "    return ans\n",
    "\n",
    "def gen_right_column(size):\n",
    "    return np.array(np.random.random(size), dtype=np.float64)"
   ]
  },
  {
   "cell_type": "code",
   "execution_count": 6,
   "metadata": {},
   "outputs": [],
   "source": [
    "def equalVector(a, b, eps):\n",
    "    return math.sqrt(sum([(a[i] - b[i])**2 for i in range(len(a))])) < eps"
   ]
  },
  {
   "cell_type": "code",
   "execution_count": 7,
   "metadata": {},
   "outputs": [],
   "source": [
    "def _test(method, matrix, column):\n",
    "    return method(matrix, column)\n",
    "\n",
    "def _check_eps(a, b, eps):\n",
    "    return abs(a - b) < eps\n",
    "EPSILON = 1e-2\n",
    "def _check_ans(matrix, column, res, size):\n",
    "    eps = EPSILON\n",
    "    c = np.matmul(matrix, res)\n",
    "    for i in range(size):\n",
    "        if not _check_eps(c[i], column[i], eps):\n",
    "            return False\n",
    "    return True\n",
    "\n",
    "def _testAll(matrix_gen, size, methods):\n",
    "    matrix, column = matrix_gen(size), gen_right_column(size)\n",
    "    print(f'Тест для матрицы {matrix} и столбца {column}')\n",
    "    for method in methods:\n",
    "        print(f'Результат выполнения метода {method.__name__}:')\n",
    "        res = _test(method, matrix, column)\n",
    "        check = _check_ans(matrix, column, res, size)\n",
    "        if check:\n",
    "            print(f'{res}. Погрешность не больше {EPSILON}\\n')\n",
    "        else:\n",
    "            print(f'разошлось: matrix * res = {np.matmul(matrix, res)}\\n ожидаемый столбец = {column}\\n')\n",
    "\n",
    "def _get_methods():\n",
    "    return [zeidelMethod, zeidelMethodRelax, gaussMethod]\n",
    "\n",
    "def testDiagMatrix(size):\n",
    "    _testAll(diag_matrix, size, _get_methods())\n",
    "\n",
    "def testHilbertMatrix(size):\n",
    "    _testAll(hilbert_matrix, size, _get_methods())\n",
    "    \n",
    "def testRandMatrix(size):\n",
    "    _testAll(rand_matrix, size, _get_methods())"
   ]
  },
  {
   "cell_type": "code",
   "execution_count": 8,
   "metadata": {},
   "outputs": [
    {
     "name": "stdout",
     "output_type": "stream",
     "text": [
      "Тест для матрицы [[4.42175820e+01 3.85033460e+00 8.15886472e+00 7.29537110e+00\n",
      "  8.83587781e+00 3.04012107e+00 4.85663154e+00 1.76793917e+00\n",
      "  9.44364185e-01 7.96200517e-01]\n",
      " [6.22682523e+00 5.23578805e+01 3.82453442e+00 9.26559691e+00\n",
      "  6.50458273e+00 4.17245412e+00 1.68138769e-01 2.84036006e+00\n",
      "  5.28125943e+00 7.53349731e+00]\n",
      " [9.63449755e+00 1.76702373e+00 5.05389104e+01 3.14398287e+00\n",
      "  8.41621098e+00 3.14927289e+00 4.69620458e+00 2.25771748e+00\n",
      "  7.42802824e+00 6.11479002e+00]\n",
      " [8.59751503e+00 4.48831121e+00 4.54010856e+00 6.63047259e+01\n",
      "  4.68202083e+00 7.72668803e+00 9.96431140e+00 9.86427481e+00\n",
      "  1.41937616e+00 8.40793580e+00]\n",
      " [8.73923066e+00 9.63493032e+00 1.30805542e+00 9.00056947e+00\n",
      "  5.74814644e+01 8.26228697e+00 8.87934749e-01 5.74500221e+00\n",
      "  8.73872207e+00 3.14003869e+00]\n",
      " [4.43297498e+00 9.38790327e+00 4.31962293e+00 9.63841702e+00\n",
      "  1.16358665e+00 5.97203230e+01 2.09321165e+00 4.30398111e+00\n",
      "  9.88189481e+00 7.84883006e+00]\n",
      " [2.38666323e-01 1.88613546e+00 2.62023197e+00 8.03553173e-01\n",
      "  1.96444288e+00 7.61249437e+00 4.92379051e+01 7.28918474e+00\n",
      "  7.80929102e+00 9.09424571e+00]\n",
      " [3.67329125e+00 7.27829243e+00 7.55597791e+00 5.82386201e+00\n",
      "  5.91334802e+00 4.63386263e+00 1.63715940e+00 5.15113773e+01\n",
      "  8.70202161e-01 4.47673033e+00]\n",
      " [6.78573878e+00 3.18660826e+00 4.39214607e+00 6.51748790e-02\n",
      "  9.14748167e-01 7.27130306e+00 4.90122766e+00 3.27691668e+00\n",
      "  3.91038313e+01 3.65861834e+00]\n",
      " [8.59390514e+00 2.96163484e+00 3.13674351e-01 2.56849875e+00\n",
      "  3.79769909e-01 8.06110746e+00 2.78160387e+00 2.65790514e-01\n",
      "  6.58301508e+00 3.96665472e+01]] и столбца [0.18690782 0.41310485 0.48322033 0.23663329 0.75293859 0.68223016\n",
      " 0.41065268 0.6986088  0.18386583 0.82130368]\n",
      "Результат выполнения метода zeidelMethod:\n",
      "Iterations =  17\n",
      "[0.00014314223493135277, 0.002980404457590926, 0.004694924805506554, -0.0025675993894936303, 0.009863580675091275, 0.007712286095943613, 0.00166791188046887, 0.009225969300488397, -0.0004968846733146594, 0.018822731200354863]. Погрешность не больше 0.01\n",
      "\n",
      "Результат выполнения метода zeidelMethodRelax:\n",
      "Iterations =  92\n",
      "[0.00014317569936116116, 0.0029804128968458155, 0.0046949153870154674, -0.0025675947663816867, 0.009863546806764902, 0.007712264893594394, 0.0016679188628591715, 0.009225966877330384, -0.0004968946714953374, 0.01882272364836396]. Погрешность не больше 0.01\n",
      "\n",
      "Результат выполнения метода gaussMethod:\n",
      "[0.00014315863221056412, 0.002980410216566813, 0.004694926346852725, -0.002567598971322519, 0.00986357711712481, 0.007712282532546251, 0.0016679093299770908, 0.009225967275777515, -0.0004968874780212694, 0.018822728594682436]. Погрешность не больше 0.01\n",
      "\n"
     ]
    }
   ],
   "source": [
    "testDiagMatrix(10)"
   ]
  },
  {
   "cell_type": "code",
   "execution_count": 9,
   "metadata": {
    "scrolled": true
   },
   "outputs": [
    {
     "name": "stdout",
     "output_type": "stream",
     "text": [
      "Тест для матрицы [[0.29620194 0.15264037 0.40030824 0.0974049 ]\n",
      " [0.15264037 0.4996066  0.23790716 0.04201389]\n",
      " [0.40030824 0.23790716 0.50390019 0.58426897]\n",
      " [0.0974049  0.04201389 0.58426897 0.27197405]] и столбца [0.72196041 0.86829535 0.81784894 0.51518736]\n",
      "Результат выполнения метода zeidelMethod:\n"
     ]
    },
    {
     "name": "stderr",
     "output_type": "stream",
     "text": [
      "/home/anka/anaconda3/lib/python3.7/site-packages/ipykernel_launcher.py:2: RuntimeWarning: overflow encountered in double_scalars\n",
      "  \n",
      "/home/anka/anaconda3/lib/python3.7/site-packages/ipykernel_launcher.py:11: RuntimeWarning: overflow encountered in double_scalars\n",
      "  # This is added back by InteractiveShellApp.init_path()\n",
      "/home/anka/anaconda3/lib/python3.7/site-packages/ipykernel_launcher.py:13: RuntimeWarning: invalid value encountered in double_scalars\n",
      "  del sys.path[0]\n"
     ]
    },
    {
     "name": "stdout",
     "output_type": "stream",
     "text": [
      "Iterations =  200000\n",
      "разошлось: matrix * res = [nan nan nan nan]\n",
      " ожидаемый столбец = [0.72196041 0.86829535 0.81784894 0.51518736]\n",
      "\n",
      "Результат выполнения метода zeidelMethodRelax:\n"
     ]
    },
    {
     "name": "stderr",
     "output_type": "stream",
     "text": [
      "/home/anka/anaconda3/lib/python3.7/site-packages/ipykernel_launcher.py:14: RuntimeWarning: overflow encountered in double_scalars\n",
      "  \n"
     ]
    },
    {
     "name": "stdout",
     "output_type": "stream",
     "text": [
      "Iterations =  200000\n",
      "разошлось: matrix * res = [nan nan nan nan]\n",
      " ожидаемый столбец = [0.72196041 0.86829535 0.81784894 0.51518736]\n",
      "\n",
      "Результат выполнения метода gaussMethod:\n",
      "[0.8698191805633906, 1.1100310969678977, 0.8239341073936276, -0.3587589947150106]. Погрешность не больше 0.01\n",
      "\n"
     ]
    }
   ],
   "source": [
    "testRandMatrix(4)"
   ]
  },
  {
   "cell_type": "code",
   "execution_count": 10,
   "metadata": {},
   "outputs": [
    {
     "name": "stdout",
     "output_type": "stream",
     "text": [
      "Тест для матрицы [[1.         0.5        0.33333333 0.25       0.2       ]\n",
      " [0.5        0.33333333 0.25       0.2        0.16666667]\n",
      " [0.33333333 0.25       0.2        0.16666667 0.14285714]\n",
      " [0.25       0.2        0.16666667 0.14285714 0.125     ]\n",
      " [0.2        0.16666667 0.14285714 0.125      0.11111111]] и столбца [0.24864113 0.0599034  0.98059431 0.52600778 0.61340869]\n",
      "Результат выполнения метода zeidelMethod:\n",
      "Iterations =  200000\n",
      "[667.7726812428098, -11907.708577626658, 49879.83664872733, -73882.2722872519, 35651.43049323902]. Погрешность не больше 0.01\n",
      "\n",
      "Результат выполнения метода zeidelMethodRelax:\n",
      "Iterations =  107856\n",
      "[667.9056162748386, -11910.148845894999, 49890.23306184687, -73897.83735961607, 35658.995502139216]. Погрешность не больше 0.01\n",
      "\n",
      "Результат выполнения метода gaussMethod:\n",
      "[667.9056204298271, -11910.148918113104, 49890.23335863421, -73897.83779260666, 35658.99570850449]. Погрешность не больше 0.01\n",
      "\n"
     ]
    }
   ],
   "source": [
    "testHilbertMatrix(5)"
   ]
  },
  {
   "cell_type": "code",
   "execution_count": null,
   "metadata": {},
   "outputs": [],
   "source": []
  }
 ],
 "metadata": {
  "kernelspec": {
   "display_name": "Python 3",
   "language": "python",
   "name": "python3"
  },
  "language_info": {
   "codemirror_mode": {
    "name": "ipython",
    "version": 3
   },
   "file_extension": ".py",
   "mimetype": "text/x-python",
   "name": "python",
   "nbconvert_exporter": "python",
   "pygments_lexer": "ipython3",
   "version": "3.7.4"
  }
 },
 "nbformat": 4,
 "nbformat_minor": 2
}
