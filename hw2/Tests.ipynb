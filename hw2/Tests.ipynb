{
 "cells": [
  {
   "cell_type": "code",
   "execution_count": 23,
   "metadata": {},
   "outputs": [],
   "source": [
    "%run Zeidel.ipynb\n",
    "%run Gauss.ipynb\n",
    "%run Jacobi.ipynb"
   ]
  },
  {
   "cell_type": "code",
   "execution_count": 24,
   "metadata": {},
   "outputs": [],
   "source": [
    "def _format_matrix(min, max, size):\n",
    "    return np.array((max - min) * np.random.random((size, size)) + min, dtype=np.float64)\n",
    "    \n",
    "def rand_matrix(size):\n",
    "    A = np.array(np.random.rand(size, size), dtype=np.float64)\n",
    "    A = np.tril(A) + np.tril(A, -1).T\n",
    "    return A.T * A\n",
    "\n",
    "def diag_matrix(size):\n",
    "    A = _format_matrix(0.0, 10.0, size)\n",
    "    for i in range(size):\n",
    "        A[i, i] = sum(A[i]) + 1\n",
    "    return A\n",
    "\n",
    "def hilbert_matrix(size):\n",
    "    ans = np.array(np.zeros((size, size)), dtype=np.float64)\n",
    "    for i in range(size):\n",
    "        for j in range(size):\n",
    "            ans[i, j] = 1.0 / (i + j + 1)\n",
    "    return ans\n",
    "\n",
    "def gen_right_column(size):\n",
    "    return np.array(np.random.random(size), dtype=np.float64)"
   ]
  },
  {
   "cell_type": "code",
   "execution_count": 25,
   "metadata": {},
   "outputs": [],
   "source": [
    "def equalVector(a, b, eps):\n",
    "    return math.sqrt(sum([(a[i] - b[i])**2 for i in range(len(a))])) < eps"
   ]
  },
  {
   "cell_type": "code",
   "execution_count": 30,
   "metadata": {},
   "outputs": [],
   "source": [
    "def _test(method, matrix, column):\n",
    "    return method(matrix, column)\n",
    "\n",
    "def _check_eps(a, b, eps):\n",
    "    return abs(a - b) < eps\n",
    "EPSILON = 1e-2\n",
    "def _check_ans(matrix, column, res, size):\n",
    "    eps = EPSILON\n",
    "    c = np.matmul(matrix, res)\n",
    "    for i in range(size):\n",
    "        if not _check_eps(c[i], column[i], eps):\n",
    "            return False\n",
    "    return True\n",
    "\n",
    "def _testAll(matrix_gen, size, methods):\n",
    "    matrix, column = matrix_gen(size), gen_right_column(size)\n",
    "    print(f'Тест для матрицы\\n {matrix} и столбца {column}')\n",
    "    for method in methods:\n",
    "        print(f'Результат выполнения метода {method.__name__}:')\n",
    "        res = _test(method, matrix, column)\n",
    "        check = _check_ans(matrix, column, res, size)\n",
    "        if check:\n",
    "            print(f'{res}. Погрешность не больше {EPSILON}\\n')\n",
    "        else:\n",
    "            print(f'разошлось: matrix * res = {np.matmul(matrix, res)}\\n ожидаемый столбец = {column}\\n')\n",
    "\n",
    "def _get_methods():\n",
    "    return [zeidelMethod, zeidelMethodRelax, gaussMethod, jacobiMethod]\n",
    "\n",
    "def testDiagMatrix(size):\n",
    "    _testAll(diag_matrix, size, _get_methods())\n",
    "\n",
    "def testHilbertMatrix(size):\n",
    "    _testAll(hilbert_matrix, size, _get_methods())\n",
    "    \n",
    "def testRandMatrix(size):\n",
    "    _testAll(rand_matrix, size, _get_methods())"
   ]
  },
  {
   "cell_type": "code",
   "execution_count": 31,
   "metadata": {},
   "outputs": [
    {
     "name": "stdout",
     "output_type": "stream",
     "text": [
      "Тест для матрицы\n",
      " [[50.04201494  4.66600045  6.20961182  7.73972617  6.44410281  4.09149717\n",
      "   0.58334999  5.30089796  5.1285406   3.04409021]\n",
      " [ 4.42515375 51.11908455  9.33873067  7.4045979   7.0492499   2.08027972\n",
      "   7.00056331  5.7613922   4.55756445  0.96143738]\n",
      " [ 0.16450679  9.48180377 49.6839594   0.58437251  8.45210552  8.24086039\n",
      "   9.62349034  1.67122678  6.86043469  2.7395134 ]\n",
      " [ 0.29059843  2.38550759  5.1757659  35.31475783  2.2503504   2.19684391\n",
      "   5.52372844  0.99105583  0.35331134  8.06284788]\n",
      " [ 5.93379022  4.32891915  9.36334195  1.12451658 53.99631305  0.41194171\n",
      "   6.12160287  7.57222004  4.58334177  4.88556574]\n",
      " [ 3.53018028  4.23464548  2.67646584  3.9667374   3.39451061 52.43434168\n",
      "   3.93613733  4.48497298  8.67171225  9.11018089]\n",
      " [ 8.12642233  6.87609533  4.76160809  4.24902142  1.10302522  5.53749496\n",
      "  46.42532501  2.37163584  5.98646926  1.60241653]\n",
      " [ 2.40225196  2.29340923  2.39529214  5.73122348  4.84349777  1.1536927\n",
      "   9.76313459 35.36567204  0.89531346  0.46572913]\n",
      " [ 1.60323594  8.81996938  3.67566124  2.43608927  9.55565939  3.68905244\n",
      "   0.23701361  8.30796967 42.26971414  1.06192233]\n",
      " [ 1.20185125  5.98453506  5.36167318  3.78487543  8.70121506  0.88785469\n",
      "   3.96987026  4.573832    4.11927643 47.59436393]] и столбца [0.70923729 0.7739146  0.88284369 0.93570254 0.04032026 0.75913031\n",
      " 0.79035621 0.98275698 0.17922613 0.95914318]\n",
      "Результат выполнения метода zeidelMethod:\n",
      "Iterations =  16\n",
      "[0.006554736538670275, 0.0065368711109178475, 0.013452287248890445, 0.018576943806355852, -0.008460926705943145, 0.007294926585262656, 0.00994193619420781, 0.021050148512236258, -0.0029063573433001926, 0.014982332702787392]. Погрешность не больше 0.01\n",
      "\n",
      "Результат выполнения метода zeidelMethodRelax:\n",
      "Iterations =  75\n",
      "[0.006554725906431775, 0.006536861364822728, 0.013452301619330366, 0.01857692889311624, -0.008460927513661471, 0.007294949281063185, 0.009941933001803658, 0.0210501712674978, -0.0029063718496382925, 0.014982333146993616]. Погрешность не больше 0.01\n",
      "\n",
      "Результат выполнения метода gaussMethod:\n",
      "[0.006554724246761441, 0.006536862084050713, 0.013452293534482115, 0.01857694834568531, -0.00846092106027521, 0.007294933206579192, 0.009941940411245022, 0.021050147155301208, -0.0029063571252452253, 0.014982331683269614]. Погрешность не больше 0.01\n",
      "\n",
      "Результат выполнения метода jacobiMethod:\n",
      "Iterations =  2\n",
      "[ 0.00655472  0.00653686  0.01345229  0.01857695 -0.00846092  0.00729493\n",
      "  0.00994194  0.02105015 -0.00290636  0.01498233]. Погрешность не больше 0.01\n",
      "\n"
     ]
    }
   ],
   "source": [
    "testDiagMatrix(10)"
   ]
  },
  {
   "cell_type": "code",
   "execution_count": 32,
   "metadata": {
    "scrolled": true
   },
   "outputs": [
    {
     "name": "stdout",
     "output_type": "stream",
     "text": [
      "Тест для матрицы\n",
      " [[0.05119408 0.07810772 0.40473775 0.00208086]\n",
      " [0.07810772 0.1288666  0.63250853 0.5685149 ]\n",
      " [0.40473775 0.63250853 0.02170422 0.25686087]\n",
      " [0.00208086 0.5685149  0.25686087 0.04319524]] и столбца [0.27119105 0.11753824 0.36222788 0.82812178]\n",
      "Результат выполнения метода zeidelMethod:\n"
     ]
    },
    {
     "name": "stderr",
     "output_type": "stream",
     "text": [
      "/usr/lib/python3/dist-packages/ipykernel_launcher.py:2: RuntimeWarning: overflow encountered in double_scalars\n",
      "  \n",
      "/usr/lib/python3/dist-packages/ipykernel_launcher.py:11: RuntimeWarning: overflow encountered in double_scalars\n",
      "  # This is added back by InteractiveShellApp.init_path()\n",
      "/usr/lib/python3/dist-packages/ipykernel_launcher.py:12: RuntimeWarning: invalid value encountered in double_scalars\n",
      "  if sys.path[0] == '':\n"
     ]
    },
    {
     "name": "stdout",
     "output_type": "stream",
     "text": [
      "Iterations =  200000\n",
      "разошлось: matrix * res = [nan nan nan nan]\n",
      " ожидаемый столбец = [0.27119105 0.11753824 0.36222788 0.82812178]\n",
      "\n",
      "Результат выполнения метода zeidelMethodRelax:\n",
      "Iterations =  200000\n",
      "разошлось: matrix * res = [nan nan nan nan]\n",
      " ожидаемый столбец = [0.27119105 0.11753824 0.36222788 0.82812178]\n",
      "\n",
      "Результат выполнения метода gaussMethod:\n",
      "[-0.7549822518118776, 1.2650440915236492, 0.5242810706748791, -0.5595737087517612]. Погрешность не больше 0.01\n",
      "\n",
      "Результат выполнения метода jacobiMethod:\n",
      "Iterations =  2\n",
      "[-0.75498225  1.26504409  0.52428107 -0.55957371]. Погрешность не больше 0.01\n",
      "\n"
     ]
    }
   ],
   "source": [
    "testRandMatrix(4)"
   ]
  },
  {
   "cell_type": "code",
   "execution_count": 33,
   "metadata": {},
   "outputs": [
    {
     "name": "stdout",
     "output_type": "stream",
     "text": [
      "Тест для матрицы\n",
      " [[1.         0.5        0.33333333 0.25       0.2       ]\n",
      " [0.5        0.33333333 0.25       0.2        0.16666667]\n",
      " [0.33333333 0.25       0.2        0.16666667 0.14285714]\n",
      " [0.25       0.2        0.16666667 0.14285714 0.125     ]\n",
      " [0.2        0.16666667 0.14285714 0.125      0.11111111]] и столбца [0.13426633 0.0094724  0.66347949 0.77616444 0.81184857]\n",
      "Результат выполнения метода zeidelMethod:\n",
      "Iterations =  200000\n",
      "[121.98388305248284, -1900.2195819882286, 7382.350673543126, -10472.705755180657, 4928.265272098724]. Погрешность не больше 0.01\n",
      "\n",
      "Результат выполнения метода zeidelMethodRelax:\n",
      "Iterations =  96523\n",
      "[122.00278467597941, -1900.5665597098418, 7383.828931725489, -10474.918950879917, 4929.340943271085]. Погрешность не больше 0.01\n",
      "\n",
      "Результат выполнения метода gaussMethod:\n",
      "[122.00278882991957, -1900.5666319072268, 7383.829228421069, -10474.919383729683, 4929.341149566703]. Погрешность не больше 0.01\n",
      "\n",
      "Результат выполнения метода jacobiMethod:\n",
      "Iterations =  2\n",
      "[   122.00278883  -1900.56663191   7383.82922842 -10474.91938373\n",
      "   4929.34114957]. Погрешность не больше 0.01\n",
      "\n"
     ]
    }
   ],
   "source": [
    "testHilbertMatrix(5)"
   ]
  },
  {
   "cell_type": "code",
   "execution_count": null,
   "metadata": {},
   "outputs": [],
   "source": []
  },
  {
   "cell_type": "code",
   "execution_count": null,
   "metadata": {},
   "outputs": [],
   "source": []
  }
 ],
 "metadata": {
  "kernelspec": {
   "display_name": "Python 3",
   "language": "python",
   "name": "python3"
  },
  "language_info": {
   "codemirror_mode": {
    "name": "ipython",
    "version": 3
   },
   "file_extension": ".py",
   "mimetype": "text/x-python",
   "name": "python",
   "nbconvert_exporter": "python",
   "pygments_lexer": "ipython3",
   "version": "3.6.9"
  }
 },
 "nbformat": 4,
 "nbformat_minor": 2
}
