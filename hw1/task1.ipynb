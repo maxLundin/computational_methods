{
 "cells": [
  {
   "cell_type": "markdown",
   "metadata": {},
   "source": [
    "<h3>Уравнение для анализа</h3>"
   ]
  },
  {
   "cell_type": "code",
   "execution_count": 6,
   "metadata": {},
   "outputs": [
    {
     "data": {
      "text/latex": [
       "$\\displaystyle x^{5} + 2 x^{4} + 5 x^{3} + 8 x^{2} - x - 3$"
      ],
      "text/plain": [
       "x**5 + 2*x**4 + 5*x**3 + 8*x**2 - x - 3"
      ]
     },
     "metadata": {},
     "output_type": "display_data"
    }
   ],
   "source": [
    "display(y)"
   ]
  },
  {
   "cell_type": "markdown",
   "metadata": {},
   "source": [
    "Для локализации мы смотрим промежутки возрастания и убывания (найденные с помощью производной) и проверяем на каждом наличие корня. Для этого достаточно того, чтобы либо значение функции в левой границе было нулём, либо значения были разных знаков. Мы знаем, что будет единственный корень на этом промежутке, так как он монотонный. Тогда корень можно найти методом Ньютона. \n",
    "<p>\n",
    "В качестве бесконечности взяли $10^5$. Так как $y(10^5) > 0$, корни производной примерно $-1,29$ и $0,06$, и $y'(10^5) > 0$. Наша функция непрерывна, поэтому после \"бесконечности\" корней точно не будет. Аналогично и отрицательная бесконечность $-10^5$. $y(-10^5) < 0$ и $y'(-10^5) > 0$."
   ]
  },
  {
   "cell_type": "markdown",
   "metadata": {},
   "source": [
    "<h3>График уравнения</h3>"
   ]
  },
  {
   "cell_type": "code",
   "execution_count": 8,
   "metadata": {},
   "outputs": [
    {
     "data": {
      "image/png": "[encoded data removed]",
      "text/plain": [
       "<Figure size 432x288 with 1 Axes>"
      ]
     },
     "metadata": {
      "needs_background": "light"
     },
     "output_type": "display_data"
    },
    {
     "data": {
      "text/plain": [
       "<sympy.plotting.plot.Plot at 0xd195cb0>"
      ]
     },
     "metadata": {},
     "output_type": "display_data"
    }
   ],
   "source": [
    "display(plot(y, (x, -2.5, 1.0), ylim=[-20, 20]))"
   ]
  },
  {
   "cell_type": "markdown",
   "metadata": {},
   "source": [
    "<h3>Корни уравнения</h3>"
   ]
  },
  {
   "cell_type": "code",
   "execution_count": 9,
   "metadata": {},
   "outputs": [
    {
     "data": {
      "text/plain": [
       "[-1.68605466239665, -0.666021897044982, 0.554554429143766]"
      ]
     },
     "metadata": {},
     "output_type": "display_data"
    }
   ],
   "source": [
    "display(roots)"
   ]
  },
  {
   "cell_type": "markdown",
   "metadata": {},
   "source": [
    "<h3>Локализация корней</h3>"
   ]
  },
  {
   "cell_type": "code",
   "execution_count": 10,
   "metadata": {
    "scrolled": true
   },
   "outputs": [
    {
     "data": {
      "text/plain": [
       "[{'l': -100000.0, 'r': -1.29022829728533},\n",
       " {'l': -1.29022829728533, 'r': 0.0591165490773438},\n",
       " {'l': 0.0591165490773438, 'r': 100000.0}]"
      ]
     },
     "metadata": {},
     "output_type": "display_data"
    }
   ],
   "source": [
    "display([{'l': seg[0], 'r': seg[1]} for seg in sol[2]])"
   ]
  },
  {
   "cell_type": "markdown",
   "metadata": {},
   "source": [
    "<h3>Полученные корни методом Ньютона</h3>"
   ]
  },
  {
   "cell_type": "code",
   "execution_count": 11,
   "metadata": {},
   "outputs": [
    {
     "data": {
      "text/plain": [
       "[-1.68605466250080, -0.666021902922307, 0.554554429497462]"
      ]
     },
     "metadata": {},
     "output_type": "display_data"
    }
   ],
   "source": [
    "display(sol[0])"
   ]
  },
  {
   "cell_type": "markdown",
   "metadata": {},
   "source": [
    "<h3>Максимальная относительняа погрешность</h3>"
   ]
  },
  {
   "cell_type": "code",
   "execution_count": 25,
   "metadata": {},
   "outputs": [
    {
     "data": {
      "text/latex": [
       "$\\displaystyle 8.82452228244335 \\cdot 10^{-9}$"
      ],
      "text/plain": [
       "8.82452228244335e-9"
      ]
     },
     "metadata": {},
     "output_type": "display_data"
    }
   ],
   "source": [
    "display(max([abs((sol[0][i] - roots[i]) / roots[i]) for i in range(len(roots))]))"
   ]
  },
  {
   "cell_type": "code",
   "execution_count": null,
   "metadata": {},
   "outputs": [],
   "source": []
  },
  {
   "cell_type": "code",
   "execution_count": 1,
   "metadata": {},
   "outputs": [],
   "source": [
    "from sympy import Symbol\n",
    "from sympy.solvers import solveset\n",
    "from sympy.plotting import plot"
   ]
  },
  {
   "cell_type": "code",
   "execution_count": 2,
   "metadata": {},
   "outputs": [],
   "source": [
    "x = Symbol('x')\n",
    "a, b, c, d, e, f = 1, 2, 5, 8, -1, -3\n",
    "y = a * x**5 + b * x**4 + c * x**3 + d * x**2 + e * x + f\n",
    "roots = sorted(list(map(lambda i: i.evalf(), filter(lambda i: i.is_real, solveset(y, x)))))"
   ]
  },
  {
   "cell_type": "code",
   "execution_count": 23,
   "metadata": {},
   "outputs": [],
   "source": [
    "def newton_method(y, l, r, eps=10**(-4)):\n",
    "    m = (l + r) / 2.0\n",
    "    m_num = y.subs(x, m)\n",
    "    cnt = 0\n",
    "    while (abs(m_num) > eps):\n",
    "        m -= m_num / y.diff().subs(x, m)\n",
    "        m_num = y.subs(x, m)\n",
    "        cnt += 1\n",
    "    return (m, cnt)"
   ]
  },
  {
   "cell_type": "code",
   "execution_count": 14,
   "metadata": {},
   "outputs": [],
   "source": [
    "def find_solutions(y, p, inf=1e5):\n",
    "    if p <= 2:\n",
    "        return (sorted(list(map(lambda i: i.evalf(), filter(lambda i: i.is_real, solveset(y, x))))), 0, [])\n",
    "    sign = lambda x: 1 if x >= 0 else -1\n",
    "    fs = find_solutions(y.diff(), p - 1)\n",
    "    xs = [-inf] + fs[0] + [inf]    \n",
    "    segments, roots, cnt = [], [], fs[1]\n",
    "    for i in range(len(xs) - 1):\n",
    "        l, r = xs[i:i+2]\n",
    "        yl, yr = y.subs(x, l), y.subs(x, r)\n",
    "        if yr != 0 and (yl == 0 or sign(yl) != sign(yr)):\n",
    "            ans = newton_method(y, l, r)\n",
    "            segments += [(l, r)]\n",
    "            roots += [ans[0]]\n",
    "            cnt += ans[1]\n",
    "    return (roots, cnt, segments)"
   ]
  },
  {
   "cell_type": "code",
   "execution_count": 24,
   "metadata": {},
   "outputs": [],
   "source": [
    "sol = find_solutions(y, 5)"
   ]
  }
 ],
 "metadata": {
  "kernelspec": {
   "display_name": "Python 3",
   "language": "python",
   "name": "python3"
  },
  "language_info": {
   "codemirror_mode": {
    "name": "ipython",
    "version": 3
   },
   "file_extension": ".py",
   "mimetype": "text/x-python",
   "name": "python",
   "nbconvert_exporter": "python",
   "pygments_lexer": "ipython3",
   "version": "3.7.2"
  }
 },
 "nbformat": 4,
 "nbformat_minor": 2
}
